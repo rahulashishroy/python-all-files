{
 "cells": [
  {
   "cell_type": "markdown",
   "id": "6e69d750",
   "metadata": {},
   "source": [
    "**String**"
   ]
  },
  {
   "cell_type": "markdown",
   "id": "2e64443a",
   "metadata": {},
   "source": [
    "string literals can be defined using either single ('') or double quotes (\"\") "
   ]
  },
  {
   "cell_type": "code",
   "execution_count": null,
   "id": "b3dbfeee",
   "metadata": {},
   "outputs": [],
   "source": [
    "# use double quotes when using single quote inside \"anil's\"\n",
    "name = \"sum'it\"\n",
    "print(name)\n",
    "print(type(name))"
   ]
  },
  {
   "cell_type": "code",
   "execution_count": null,
   "id": "f87c6763",
   "metadata": {},
   "outputs": [],
   "source": [
    "# doublequotes inside double quotes using triple double quotes\n",
    "name = \"\"\"a''n'i\"l\"\"\"\n",
    "name"
   ]
  },
  {
   "cell_type": "code",
   "execution_count": null,
   "id": "5c8689fc",
   "metadata": {},
   "outputs": [],
   "source": [
    "x = 5\n",
    "y = 5.8\n",
    "z = x + y\n",
    "z\n",
    "print(x)\n",
    "print(y)\n",
    "x\n",
    "z"
   ]
  },
  {
   "cell_type": "code",
   "execution_count": null,
   "id": "dd074e93",
   "metadata": {},
   "outputs": [],
   "source": [
    "#error \n",
    "name = \"ani'l\"\n",
    "name"
   ]
  },
  {
   "cell_type": "code",
   "execution_count": null,
   "id": "69f5b8d6",
   "metadata": {},
   "outputs": [],
   "source": []
  },
  {
   "cell_type": "code",
   "execution_count": null,
   "id": "9b657989",
   "metadata": {},
   "outputs": [],
   "source": [
    "12  +   12"
   ]
  },
  {
   "cell_type": "code",
   "execution_count": null,
   "id": "3d715110",
   "metadata": {},
   "outputs": [],
   "source": [
    "'1' + 3.9"
   ]
  },
  {
   "cell_type": "code",
   "execution_count": null,
   "id": "85e12a62",
   "metadata": {},
   "outputs": [],
   "source": [
    "1 + 6"
   ]
  },
  {
   "cell_type": "code",
   "execution_count": null,
   "id": "c9582d6d",
   "metadata": {},
   "outputs": [],
   "source": [
    "2.0 + 6"
   ]
  },
  {
   "cell_type": "code",
   "execution_count": null,
   "id": "01e23178",
   "metadata": {},
   "outputs": [],
   "source": [
    "'sumit' + 10.9"
   ]
  },
  {
   "cell_type": "code",
   "execution_count": null,
   "id": "f634bedb",
   "metadata": {},
   "outputs": [],
   "source": [
    "'sumit' * 5.8"
   ]
  },
  {
   "cell_type": "code",
   "execution_count": null,
   "id": "79aa6cb3",
   "metadata": {},
   "outputs": [],
   "source": [
    "# comlex\n",
    "x =6 + 3j\n",
    "print(type(x))"
   ]
  },
  {
   "cell_type": "code",
   "execution_count": null,
   "id": "82d18ca7",
   "metadata": {},
   "outputs": [],
   "source": [
    "x.real"
   ]
  },
  {
   "cell_type": "code",
   "execution_count": null,
   "id": "f545f09f",
   "metadata": {},
   "outputs": [],
   "source": [
    "x.imag"
   ]
  },
  {
   "cell_type": "code",
   "execution_count": null,
   "id": "f6928be7",
   "metadata": {},
   "outputs": [],
   "source": [
    "\n",
    "print('he\\bllo')\n",
    "print('sss')\n",
    "\n",
    "print('ss    ' +     '5')"
   ]
  },
  {
   "cell_type": "code",
   "execution_count": null,
   "id": "47c6a7e5",
   "metadata": {},
   "outputs": [],
   "source": [
    "#concatenation - joining strings together\n",
    "name1 = 'anil '\n",
    "name2 = 'manish'\n",
    "name3 = '4'\n",
    "print(type(name3))\n",
    "print('sumit' + name1+ name2 + name3 + '1.9')\n",
    "print(name1,name2,name3)"
   ]
  },
  {
   "cell_type": "code",
   "execution_count": null,
   "id": "cf944172",
   "metadata": {},
   "outputs": [],
   "source": [
    "name1 = '25'\n",
    "name20 = '20.6'\n",
    "subject = 'python'\n",
    "print(name1+' and '+name20 + subject)"
   ]
  },
  {
   "cell_type": "code",
   "execution_count": null,
   "id": "7007f7b6",
   "metadata": {},
   "outputs": [],
   "source": [
    "#data type of a variable\n",
    "a = 19.0\n",
    "b = '18'\n",
    "#d = True\n",
    "print(type(a))\n",
    "print(type(b))\n",
    "print(type(d))"
   ]
  },
  {
   "cell_type": "code",
   "execution_count": null,
   "id": "05a5f432",
   "metadata": {},
   "outputs": [],
   "source": []
  },
  {
   "cell_type": "code",
   "execution_count": null,
   "id": "beb6a558",
   "metadata": {},
   "outputs": [],
   "source": [
    "x = 6+ 9j\n",
    "x.real"
   ]
  },
  {
   "cell_type": "code",
   "execution_count": null,
   "id": "1e2fbb19",
   "metadata": {},
   "outputs": [],
   "source": [
    "'3' * '4'"
   ]
  },
  {
   "cell_type": "code",
   "execution_count": null,
   "id": "40f45a16",
   "metadata": {},
   "outputs": [],
   "source": [
    "x = 1\n",
    "y = 5\n",
    "len('sumit')"
   ]
  },
  {
   "cell_type": "code",
   "execution_count": null,
   "id": "76dc81c7",
   "metadata": {},
   "outputs": [],
   "source": [
    "'sumi'+'3'"
   ]
  },
  {
   "cell_type": "markdown",
   "id": "b3459d4b",
   "metadata": {},
   "source": [
    "operators "
   ]
  },
  {
   "cell_type": "code",
   "execution_count": null,
   "id": "4a1e1686",
   "metadata": {},
   "outputs": [],
   "source": [
    " + - / * % // 2**4"
   ]
  },
  {
   "cell_type": "code",
   "execution_count": null,
   "id": "12d96a76",
   "metadata": {},
   "outputs": [],
   "source": [
    "51/5"
   ]
  },
  {
   "cell_type": "code",
   "execution_count": null,
   "id": "e5beb9c9",
   "metadata": {},
   "outputs": [],
   "source": [
    "A + b   #  A and B are operands and + is a operator  A+B is a expression"
   ]
  },
  {
   "cell_type": "code",
   "execution_count": null,
   "id": "d60de510",
   "metadata": {},
   "outputs": [],
   "source": [
    "print('#' * 4)"
   ]
  },
  {
   "cell_type": "code",
   "execution_count": null,
   "id": "2fc3f1b7",
   "metadata": {},
   "outputs": [],
   "source": []
  },
  {
   "cell_type": "code",
   "execution_count": null,
   "id": "53510dc4",
   "metadata": {},
   "outputs": [],
   "source": []
  },
  {
   "cell_type": "code",
   "execution_count": null,
   "id": "33b31e68",
   "metadata": {},
   "outputs": [],
   "source": []
  },
  {
   "cell_type": "code",
   "execution_count": null,
   "id": "a7dd56b2",
   "metadata": {},
   "outputs": [],
   "source": []
  },
  {
   "cell_type": "code",
   "execution_count": null,
   "id": "57deaf0e",
   "metadata": {},
   "outputs": [],
   "source": []
  },
  {
   "cell_type": "code",
   "execution_count": null,
   "id": "4b4d60e6",
   "metadata": {},
   "outputs": [],
   "source": []
  },
  {
   "cell_type": "code",
   "execution_count": null,
   "id": "6c9505e3",
   "metadata": {},
   "outputs": [],
   "source": []
  },
  {
   "cell_type": "code",
   "execution_count": null,
   "id": "eeca8da5",
   "metadata": {},
   "outputs": [],
   "source": []
  },
  {
   "cell_type": "code",
   "execution_count": null,
   "id": "a57bc953",
   "metadata": {},
   "outputs": [],
   "source": [
    "\n",
    "s = '109'\n",
    "z = int(s)\n",
    "z"
   ]
  },
  {
   "cell_type": "code",
   "execution_count": null,
   "id": "544b70c0",
   "metadata": {},
   "outputs": [],
   "source": [
    "a = 10 + 7\n",
    "print(a)"
   ]
  },
  {
   "cell_type": "code",
   "execution_count": null,
   "id": "f904cdbf",
   "metadata": {},
   "outputs": [],
   "source": [
    "a = ('sumit'*2+' '*3+'1')\n",
    "b = ('sumit'*2+' '*3+'10')\n",
    "print(a)\n",
    "b"
   ]
  },
  {
   "cell_type": "code",
   "execution_count": null,
   "id": "1493bc3b",
   "metadata": {},
   "outputs": [],
   "source": [
    "print('anil')  "
   ]
  },
  {
   "cell_type": "markdown",
   "id": "aec1bf3c",
   "metadata": {},
   "source": [
    "conditional operators \n",
    ">\n",
    "<\n",
    ">=\n",
    "<=\n",
    "==\n",
    "!="
   ]
  },
  {
   "cell_type": "code",
   "execution_count": null,
   "id": "ac381d79",
   "metadata": {},
   "outputs": [],
   "source": [
    "0>=2"
   ]
  },
  {
   "cell_type": "code",
   "execution_count": null,
   "id": "ef4c7722",
   "metadata": {},
   "outputs": [],
   "source": [
    "1 != 0"
   ]
  },
  {
   "cell_type": "code",
   "execution_count": null,
   "id": "9e85ca49",
   "metadata": {},
   "outputs": [],
   "source": []
  },
  {
   "cell_type": "code",
   "execution_count": null,
   "id": "32d72502",
   "metadata": {},
   "outputs": [],
   "source": [
    "x = 2 + 6.0\n",
    "type(x)"
   ]
  },
  {
   "cell_type": "code",
   "execution_count": null,
   "id": "96cbfb64",
   "metadata": {},
   "outputs": [],
   "source": [
    "'a' == 'a'"
   ]
  },
  {
   "cell_type": "markdown",
   "id": "33b53746",
   "metadata": {},
   "source": [
    "**bool**"
   ]
  },
  {
   "cell_type": "code",
   "execution_count": null,
   "id": "b1a15ca6",
   "metadata": {},
   "outputs": [],
   "source": [
    "2000>=10 and 2<4 and 2==5 and 1== 1"
   ]
  },
  {
   "cell_type": "code",
   "execution_count": null,
   "id": "0d2fee8c",
   "metadata": {},
   "outputs": [],
   "source": [
    "1>3 or 2>3 or 1<2"
   ]
  },
  {
   "cell_type": "markdown",
   "id": "5023c689",
   "metadata": {},
   "source": [
    "**complex**"
   ]
  },
  {
   "cell_type": "code",
   "execution_count": null,
   "id": "c180abb2",
   "metadata": {},
   "outputs": [],
   "source": [
    "not True"
   ]
  },
  {
   "cell_type": "code",
   "execution_count": null,
   "id": "7b070efb",
   "metadata": {},
   "outputs": [],
   "source": [
    "'@' * 7"
   ]
  },
  {
   "cell_type": "code",
   "execution_count": null,
   "id": "76cdbe6e",
   "metadata": {},
   "outputs": [],
   "source": [
    "x = 10\n",
    "y = 19\n",
    "print(id(x))\n",
    "print(id(y))"
   ]
  },
  {
   "cell_type": "code",
   "execution_count": null,
   "id": "7ca7ce6a",
   "metadata": {},
   "outputs": [],
   "source": [
    "print(len('sumit ')) # length of a string\n",
    "name = 'sumit '\n",
    "name[4]"
   ]
  },
  {
   "cell_type": "code",
   "execution_count": null,
   "id": "842deb9d",
   "metadata": {},
   "outputs": [],
   "source": [
    "#is matchess the reference of a variable"
   ]
  },
  {
   "cell_type": "code",
   "execution_count": null,
   "id": "3bfff8a5",
   "metadata": {},
   "outputs": [],
   "source": [
    "a = 1000\n",
    "b = 1000\n",
    "print(a == b)\n",
    "print(a is b)\n",
    "print(id(a),'-----',id(b))"
   ]
  },
  {
   "cell_type": "code",
   "execution_count": null,
   "id": "d9d569ff",
   "metadata": {},
   "outputs": [],
   "source": []
  },
  {
   "cell_type": "code",
   "execution_count": null,
   "id": "3cab372e",
   "metadata": {},
   "outputs": [],
   "source": []
  },
  {
   "cell_type": "code",
   "execution_count": null,
   "id": "bf3f6543",
   "metadata": {},
   "outputs": [],
   "source": []
  },
  {
   "cell_type": "code",
   "execution_count": null,
   "id": "94d3e9d0",
   "metadata": {},
   "outputs": [],
   "source": [
    "#location of a variable using id()\n",
    "a ='sumit'\n",
    "a = 7\n",
    "a = 2\n",
    "id(a)\n",
    "a\n",
    "x = 6.9\n",
    "y = int(x)\n",
    "y\n",
    "x\n",
    "int(x)\n",
    "x\n",
    "print(id(a))"
   ]
  },
  {
   "cell_type": "code",
   "execution_count": null,
   "id": "d6f5112d",
   "metadata": {},
   "outputs": [],
   "source": [
    "r = int(input('enter r:'))\n",
    "a = int((3.14 * r * r))\n",
    "print(int(a))\n",
    "print(a)"
   ]
  },
  {
   "cell_type": "markdown",
   "id": "58ae1ea9",
   "metadata": {},
   "source": [
    "**Simple Expression**"
   ]
  },
  {
   "cell_type": "markdown",
   "id": "3ce12a0b",
   "metadata": {},
   "source": [
    "**Boolean Evaluation**"
   ]
  },
  {
   "cell_type": "markdown",
   "id": "9c6e89b9",
   "metadata": {},
   "source": [
    "boolean expression are created with the keywords and or not and is "
   ]
  },
  {
   "cell_type": "code",
   "execution_count": null,
   "id": "33c9c1e4",
   "metadata": {},
   "outputs": [],
   "source": [
    "False + False +True"
   ]
  },
  {
   "cell_type": "code",
   "execution_count": null,
   "id": "31a615aa",
   "metadata": {},
   "outputs": [],
   "source": [
    "False and True      "
   ]
  },
  {
   "cell_type": "code",
   "execution_count": null,
   "id": "3b468b7c",
   "metadata": {},
   "outputs": [],
   "source": [
    "False and False and True"
   ]
  },
  {
   "cell_type": "code",
   "execution_count": null,
   "id": "d7b13dec",
   "metadata": {},
   "outputs": [],
   "source": [
    "False or False  or False"
   ]
  },
  {
   "cell_type": "code",
   "execution_count": null,
   "id": "b6039ccd",
   "metadata": {},
   "outputs": [],
   "source": [
    "False or False or False or True or False\n"
   ]
  },
  {
   "cell_type": "code",
   "execution_count": null,
   "id": "2c0c3d94",
   "metadata": {},
   "outputs": [],
   "source": []
  },
  {
   "cell_type": "code",
   "execution_count": null,
   "id": "48516435",
   "metadata": {},
   "outputs": [],
   "source": [
    "a = 7 - 9j\n",
    "a.imag\n",
    "b = 'sumit'\n",
    "b.upper()"
   ]
  },
  {
   "cell_type": "markdown",
   "id": "a7d35ee6",
   "metadata": {},
   "source": [
    "**input() to take input from a user**"
   ]
  },
  {
   "cell_type": "code",
   "execution_count": null,
   "id": "72ec0abd",
   "metadata": {},
   "outputs": [],
   "source": [
    "l = input('please enter length: ')\n",
    "b = input('please enter breadth')\n",
    "area = int(l) * int(b)\n",
    "print(area)"
   ]
  },
  {
   "cell_type": "code",
   "execution_count": null,
   "id": "e8224392",
   "metadata": {},
   "outputs": [],
   "source": [
    "x"
   ]
  },
  {
   "cell_type": "code",
   "execution_count": null,
   "id": "a27fa46d",
   "metadata": {},
   "outputs": [],
   "source": [
    "'4' * 5"
   ]
  },
  {
   "cell_type": "code",
   "execution_count": null,
   "id": "d2312b31",
   "metadata": {},
   "outputs": [],
   "source": [
    "r = float(input('enter radius:'))\n",
    "area = int(3.14 * r * r)\n",
    "print(int(area))"
   ]
  },
  {
   "cell_type": "code",
   "execution_count": null,
   "id": "7c29b4bc",
   "metadata": {},
   "outputs": [],
   "source": [
    "print(area)"
   ]
  },
  {
   "cell_type": "code",
   "execution_count": null,
   "id": "6fb54571",
   "metadata": {},
   "outputs": [],
   "source": [
    "#type casting"
   ]
  },
  {
   "cell_type": "code",
   "execution_count": null,
   "id": "5e3f96de",
   "metadata": {},
   "outputs": [],
   "source": [
    "int('10')"
   ]
  },
  {
   "cell_type": "code",
   "execution_count": null,
   "id": "d9f26537",
   "metadata": {},
   "outputs": [],
   "source": []
  },
  {
   "cell_type": "code",
   "execution_count": null,
   "id": "966460fc",
   "metadata": {},
   "outputs": [],
   "source": [
    "l = float(input('enter length '))\n",
    "b = float(input('enter breadth '))\n",
    "a = int(l * b)\n",
    "print('the area is ',int(a))\n",
    "a"
   ]
  },
  {
   "cell_type": "code",
   "execution_count": null,
   "id": "f26a38e7",
   "metadata": {},
   "outputs": [],
   "source": [
    "print(a)\n",
    "print(type(a))"
   ]
  },
  {
   "cell_type": "code",
   "execution_count": null,
   "id": "1c97c5a6",
   "metadata": {},
   "outputs": [],
   "source": []
  },
  {
   "cell_type": "code",
   "execution_count": null,
   "id": "8e7dec7f",
   "metadata": {},
   "outputs": [],
   "source": []
  },
  {
   "cell_type": "code",
   "execution_count": null,
   "id": "0a6d4818",
   "metadata": {},
   "outputs": [],
   "source": [
    "print(name)\n",
    "type(name)"
   ]
  },
  {
   "cell_type": "code",
   "execution_count": null,
   "id": "b8e91b40",
   "metadata": {},
   "outputs": [],
   "source": [
    "if 1==1 :\n",
    "    \n",
    "    \n",
    "    \n",
    "    \n",
    "    "
   ]
  },
  {
   "cell_type": "code",
   "execution_count": null,
   "id": "4b782135",
   "metadata": {},
   "outputs": [],
   "source": [
    "if 10>5:\n",
    "    \n"
   ]
  },
  {
   "cell_type": "markdown",
   "id": "04eef67a",
   "metadata": {},
   "source": [
    "**Branching** (if/elif/else)"
   ]
  },
  {
   "cell_type": "code",
   "execution_count": null,
   "id": "8380c20f",
   "metadata": {},
   "outputs": [],
   "source": [
    "if 30<20:\n",
    "    print('discount applied')\n",
    "    print('hi')\n",
    "else:\n",
    "    print('ki')\n"
   ]
  },
  {
   "cell_type": "code",
   "execution_count": null,
   "id": "01d9cf09",
   "metadata": {},
   "outputs": [],
   "source": []
  },
  {
   "cell_type": "code",
   "execution_count": null,
   "id": "35cec8f9",
   "metadata": {},
   "outputs": [],
   "source": [
    "if 3<2:\n",
    "    print('1')\n",
    "    \n",
    "elif 6<3:\n",
    "    print('true1')\n",
    "elif 7>3:\n",
    "    print('true2')\n",
    "if 7==0:\n",
    "    print('ss')\n",
    "if 9==9:\n",
    "    print('sa')\n",
    "\n",
    "else:\n",
    "    print('else body')"
   ]
  },
  {
   "cell_type": "code",
   "execution_count": null,
   "id": "b3f9acc5",
   "metadata": {},
   "outputs": [],
   "source": []
  },
  {
   "cell_type": "code",
   "execution_count": null,
   "id": "ecd62634",
   "metadata": {},
   "outputs": [],
   "source": [
    "if 2>3:\n",
    "    print('if body')\n",
    "    print('ddddd')\n",
    "if 3>1:\n",
    "    print('weee')\n",
    "else:\n",
    "    print('else body')\n"
   ]
  },
  {
   "cell_type": "code",
   "execution_count": null,
   "id": "6697eb54",
   "metadata": {},
   "outputs": [],
   "source": []
  },
  {
   "cell_type": "code",
   "execution_count": null,
   "id": "43fbc676",
   "metadata": {},
   "outputs": [],
   "source": [
    "a = 6\n",
    "b =1 \n",
    "c = 20\n",
    "if a > b:\n",
    "    print('he')\n",
    "elif b > c:\n",
    "    print('ssss')\n",
    "elif c>a:\n",
    "    print('yes')\n",
    "if a == 1:\n",
    "    print('she')\n"
   ]
  },
  {
   "cell_type": "code",
   "execution_count": null,
   "id": "4c9f2104",
   "metadata": {},
   "outputs": [],
   "source": []
  },
  {
   "cell_type": "code",
   "execution_count": null,
   "id": "157f17fd",
   "metadata": {},
   "outputs": [],
   "source": []
  },
  {
   "cell_type": "code",
   "execution_count": null,
   "id": "9fadc5a3",
   "metadata": {},
   "outputs": [],
   "source": [
    "if 10<20:\n",
    "    if 1==1:\n",
    "        print('s')\n",
    "    print('dt')\n",
    "else:\n",
    "    print('s1')\n",
    "if 1==1:\n",
    "    print('der')\n",
    "else:\n",
    "    print('d')"
   ]
  },
  {
   "cell_type": "code",
   "execution_count": null,
   "id": "36f1b67c",
   "metadata": {},
   "outputs": [],
   "source": [
    "if 2>1:\n",
    "    print('s')\n",
    "if 3<1:\n",
    "    print('d')\n",
    "else:\n",
    "    print('else')"
   ]
  },
  {
   "cell_type": "code",
   "execution_count": null,
   "id": "3ae46445",
   "metadata": {},
   "outputs": [],
   "source": [
    "a = int(input('enter a :'))\n",
    "b = int(input('enter b :'))\n",
    "c = int(input('enter c :'))\n",
    "if a>b and a >c:\n",
    "    print('a is greatest')\n",
    "if b>c and b>a :\n",
    "    print('b greatest')\n",
    "if c > a and c > b:\n",
    "    print('c greatest')"
   ]
  },
  {
   "cell_type": "code",
   "execution_count": null,
   "id": "ad9a3a15",
   "metadata": {},
   "outputs": [],
   "source": [
    "#greates no\n",
    "a = 17\n",
    "b = 11\n",
    "c = 10\n",
    "if a>b and a>c :\n",
    "    print(\"a greater\")\n",
    "if b>a and b>c:\n",
    "    print(\"b greater\")\n",
    "else:\n",
    "    print(\"c greater\")   \n",
    "    "
   ]
  },
  {
   "cell_type": "code",
   "execution_count": null,
   "id": "3cedd2ea",
   "metadata": {},
   "outputs": [],
   "source": []
  },
  {
   "cell_type": "code",
   "execution_count": null,
   "id": "845f734e",
   "metadata": {},
   "outputs": [],
   "source": []
  },
  {
   "cell_type": "code",
   "execution_count": null,
   "id": "e3648507",
   "metadata": {},
   "outputs": [],
   "source": [
    "#greatest number \n",
    "a = int(input('enter 1st no '))\n",
    "b = int(input('enter 2nd no '))\n",
    "c = int(input('enter 3rd no '))\n",
    "if a>b and a>c :\n",
    "    print('a is the greatest number whic is ',a)\n",
    "elif b>a and b>c:\n",
    "    print('b is the greatest number which is ',b)\n",
    "else:\n",
    "    print('c is greates which is ',c)"
   ]
  },
  {
   "cell_type": "markdown",
   "id": "355df822",
   "metadata": {},
   "source": [
    "**LIST**"
   ]
  },
  {
   "cell_type": "markdown",
   "id": "cbfcda49",
   "metadata": {},
   "source": [
    "a list represents an ordered, mutable collection of data. you can add remove and change data within a list."
   ]
  },
  {
   "cell_type": "code",
   "execution_count": null,
   "id": "17c72e4e",
   "metadata": {},
   "outputs": [],
   "source": [
    "fruits = ['apple','banana','kiwi','chiku',5,6,7]"
   ]
  },
  {
   "cell_type": "code",
   "execution_count": null,
   "id": "fea8dd3b",
   "metadata": {},
   "outputs": [],
   "source": [
    "type(fruits)"
   ]
  },
  {
   "cell_type": "code",
   "execution_count": null,
   "id": "4e733f35",
   "metadata": {},
   "outputs": [],
   "source": [
    "type(fruits[2])"
   ]
  },
  {
   "cell_type": "code",
   "execution_count": null,
   "id": "8794faf6",
   "metadata": {},
   "outputs": [],
   "source": [
    "#adds an element at the end of the list\n",
    "fruits.append('sumit')"
   ]
  },
  {
   "cell_type": "code",
   "execution_count": null,
   "id": "cac10d3b",
   "metadata": {},
   "outputs": [],
   "source": [
    "fruits"
   ]
  },
  {
   "cell_type": "code",
   "execution_count": null,
   "id": "157db61b",
   "metadata": {},
   "outputs": [],
   "source": []
  },
  {
   "cell_type": "code",
   "execution_count": null,
   "id": "13fae405",
   "metadata": {},
   "outputs": [],
   "source": []
  },
  {
   "cell_type": "code",
   "execution_count": null,
   "id": "6f7c9cdd",
   "metadata": {},
   "outputs": [],
   "source": [
    "fruits.append(3)\n"
   ]
  },
  {
   "cell_type": "code",
   "execution_count": null,
   "id": "da3b31b8",
   "metadata": {},
   "outputs": [],
   "source": [
    "fruits"
   ]
  },
  {
   "cell_type": "code",
   "execution_count": null,
   "id": "bbb78987",
   "metadata": {},
   "outputs": [],
   "source": [
    "fruits.append([1,2,3,4])"
   ]
  },
  {
   "cell_type": "code",
   "execution_count": null,
   "id": "8f2a0736",
   "metadata": {},
   "outputs": [],
   "source": [
    "# khin pe add krlo\n",
    "#fruits.insert(1,['pineapple',3,3,3])\n",
    "fruits"
   ]
  },
  {
   "cell_type": "code",
   "execution_count": null,
   "id": "c127ba30",
   "metadata": {},
   "outputs": [],
   "source": []
  },
  {
   "cell_type": "code",
   "execution_count": null,
   "id": "92eec1a4",
   "metadata": {},
   "outputs": [],
   "source": [
    "fruits = ['app','bann','kiwi',['cup','world',[3,4,'sumit',4,4],'x',2],2.9]"
   ]
  },
  {
   "cell_type": "code",
   "execution_count": null,
   "id": "5ed5832c",
   "metadata": {},
   "outputs": [],
   "source": [
    "fruits[3][2].append(99)"
   ]
  },
  {
   "cell_type": "code",
   "execution_count": null,
   "id": "a864b9e8",
   "metadata": {},
   "outputs": [],
   "source": [
    "fruits[3][2].remove('sumit')"
   ]
  },
  {
   "cell_type": "code",
   "execution_count": null,
   "id": "08269446",
   "metadata": {},
   "outputs": [],
   "source": [
    "fruits"
   ]
  },
  {
   "cell_type": "code",
   "execution_count": null,
   "id": "b5d5de4e",
   "metadata": {},
   "outputs": [],
   "source": [
    "fruits[3][2].insert(2,'manish')\n"
   ]
  },
  {
   "cell_type": "code",
   "execution_count": null,
   "id": "c6003586",
   "metadata": {},
   "outputs": [],
   "source": [
    "fruits"
   ]
  },
  {
   "cell_type": "code",
   "execution_count": null,
   "id": "122b6dc5",
   "metadata": {},
   "outputs": [],
   "source": [
    "fruits.pop()"
   ]
  },
  {
   "cell_type": "code",
   "execution_count": null,
   "id": "4e696929",
   "metadata": {},
   "outputs": [],
   "source": [
    "fruits"
   ]
  },
  {
   "cell_type": "code",
   "execution_count": null,
   "id": "77090c5a",
   "metadata": {},
   "outputs": [],
   "source": [
    "fruits = ['apple','banana',6,'kikwi','chiku',6,6,63,2]\n"
   ]
  },
  {
   "cell_type": "code",
   "execution_count": null,
   "id": "2838a162",
   "metadata": {},
   "outputs": [],
   "source": [
    "fruits[3][2].pop(1)"
   ]
  },
  {
   "cell_type": "code",
   "execution_count": null,
   "id": "9db9bd61",
   "metadata": {},
   "outputs": [],
   "source": [
    "fruits = ['app', 'ban', 'kiwi', ['w', 'w', [3, 4, 4, 4], 'x', 2]]\n",
    "fruits"
   ]
  },
  {
   "cell_type": "code",
   "execution_count": null,
   "id": "01306fd7",
   "metadata": {},
   "outputs": [],
   "source": [
    "fruits"
   ]
  },
  {
   "cell_type": "code",
   "execution_count": null,
   "id": "d539c268",
   "metadata": {},
   "outputs": [],
   "source": [
    "fruits[3].\n"
   ]
  },
  {
   "cell_type": "code",
   "execution_count": null,
   "id": "d54c5b2c",
   "metadata": {},
   "outputs": [],
   "source": [
    "fruits"
   ]
  },
  {
   "cell_type": "code",
   "execution_count": null,
   "id": "c5046aab",
   "metadata": {},
   "outputs": [],
   "source": [
    "# remove() - deletes a specified item from a list\n"
   ]
  },
  {
   "cell_type": "code",
   "execution_count": null,
   "id": "0625b8ca",
   "metadata": {},
   "outputs": [],
   "source": [
    "fruits"
   ]
  },
  {
   "cell_type": "code",
   "execution_count": null,
   "id": "08937c86",
   "metadata": {},
   "outputs": [],
   "source": [
    "x = 'bn'\n",
    "fruits.remove(x)"
   ]
  },
  {
   "cell_type": "code",
   "execution_count": null,
   "id": "b70d91d6",
   "metadata": {},
   "outputs": [],
   "source": [
    "fruits"
   ]
  },
  {
   "cell_type": "code",
   "execution_count": null,
   "id": "b55dbf2e",
   "metadata": {},
   "outputs": [],
   "source": [
    "fruits[3].remove('w')"
   ]
  },
  {
   "cell_type": "code",
   "execution_count": null,
   "id": "f04a10d9",
   "metadata": {},
   "outputs": [],
   "source": [
    "fruits"
   ]
  },
  {
   "cell_type": "code",
   "execution_count": null,
   "id": "4ec24ed5",
   "metadata": {},
   "outputs": [],
   "source": [
    "len(fruits[3][2])"
   ]
  },
  {
   "cell_type": "code",
   "execution_count": null,
   "id": "63eb1c47",
   "metadata": {},
   "outputs": [],
   "source": [
    "X= 'SUMIT'"
   ]
  },
  {
   "cell_type": "code",
   "execution_count": null,
   "id": "80fd638f",
   "metadata": {},
   "outputs": [],
   "source": [
    "x = 10\n",
    "x.append(2)"
   ]
  },
  {
   "cell_type": "code",
   "execution_count": null,
   "id": "04e4c3cd",
   "metadata": {},
   "outputs": [],
   "source": [
    "fruits[:]"
   ]
  },
  {
   "cell_type": "code",
   "execution_count": null,
   "id": "ecbc38ab",
   "metadata": {},
   "outputs": [],
   "source": [
    "fruits.remove(6)"
   ]
  },
  {
   "cell_type": "code",
   "execution_count": null,
   "id": "752bd186",
   "metadata": {},
   "outputs": [],
   "source": [
    "fruits[:]"
   ]
  },
  {
   "cell_type": "code",
   "execution_count": null,
   "id": "05d9851e",
   "metadata": {},
   "outputs": [],
   "source": [
    " fruits= [12,3,4]"
   ]
  },
  {
   "cell_type": "code",
   "execution_count": null,
   "id": "7aeaab11",
   "metadata": {},
   "outputs": [],
   "source": [
    "fruits.clear() # removes all the elements of the list but structure of list remains intact"
   ]
  },
  {
   "cell_type": "code",
   "execution_count": null,
   "id": "336ed154",
   "metadata": {},
   "outputs": [],
   "source": [
    "fruits = [2,111,3,2,1,3,4,44,44332]"
   ]
  },
  {
   "cell_type": "code",
   "execution_count": null,
   "id": "bb27ce8f",
   "metadata": {},
   "outputs": [],
   "source": [
    "fruits.sort(reverse = True)"
   ]
  },
  {
   "cell_type": "code",
   "execution_count": null,
   "id": "5b9d0576",
   "metadata": {},
   "outputs": [],
   "source": [
    "fruits"
   ]
  },
  {
   "cell_type": "code",
   "execution_count": null,
   "id": "ce7502a7",
   "metadata": {},
   "outputs": [],
   "source": [
    "fruits.append(1)"
   ]
  },
  {
   "cell_type": "code",
   "execution_count": null,
   "id": "fd6855b2",
   "metadata": {},
   "outputs": [],
   "source": [
    "l1 = [1,2,3]\n",
    "l2 = [3,4,5]\n",
    "l3 = l1 + l2\n",
    "print(l3)\n",
    "l1.extend(l2)\n",
    "l1"
   ]
  },
  {
   "cell_type": "code",
   "execution_count": null,
   "id": "dd718878",
   "metadata": {},
   "outputs": [],
   "source": [
    "fruits.append([2,2,2])\n"
   ]
  },
  {
   "cell_type": "code",
   "execution_count": null,
   "id": "38658631",
   "metadata": {},
   "outputs": [],
   "source": [
    "x = 'SUMIT'\n",
    "x"
   ]
  },
  {
   "cell_type": "code",
   "execution_count": null,
   "id": "3d5d0510",
   "metadata": {},
   "outputs": [],
   "source": [
    "#concatenating two strings\n",
    "l1 = ['audi','merceds','baleno','maruti',22 ,34]\n",
    "l3 = l1 + fruits\n",
    "print(l3)\n"
   ]
  },
  {
   "cell_type": "code",
   "execution_count": null,
   "id": "34f0e33a",
   "metadata": {},
   "outputs": [],
   "source": [
    "fruits.append(2)"
   ]
  },
  {
   "cell_type": "code",
   "execution_count": null,
   "id": "cbd4cb43",
   "metadata": {},
   "outputs": [],
   "source": [
    "l1 = ['audi','merceds','baleno','maruti',22 ,34]\n",
    "print(l1)\n",
    "fruits1 = ['apples','banana','kiwi','chiku',45,4,[55,55,55],66,7,8,'mango']\n",
    "l1"
   ]
  },
  {
   "cell_type": "code",
   "execution_count": null,
   "id": "c0debcf5",
   "metadata": {},
   "outputs": [],
   "source": [
    "\n",
    "fruits1.append(l1)"
   ]
  },
  {
   "cell_type": "code",
   "execution_count": null,
   "id": "f78c72c1",
   "metadata": {},
   "outputs": [],
   "source": [
    "fruits1"
   ]
  },
  {
   "cell_type": "code",
   "execution_count": null,
   "id": "77465e8a",
   "metadata": {},
   "outputs": [],
   "source": [
    "l1 = [1,23]\n",
    "l2 = ['a','b']"
   ]
  },
  {
   "cell_type": "code",
   "execution_count": null,
   "id": "6dd544b1",
   "metadata": {},
   "outputs": [],
   "source": [
    "l1.extend(l2)"
   ]
  },
  {
   "cell_type": "code",
   "execution_count": null,
   "id": "840730c4",
   "metadata": {},
   "outputs": [],
   "source": [
    "l1 = l1+l2"
   ]
  },
  {
   "cell_type": "code",
   "execution_count": null,
   "id": "49be6636",
   "metadata": {},
   "outputs": [],
   "source": [
    "l1"
   ]
  },
  {
   "cell_type": "code",
   "execution_count": null,
   "id": "6d69260e",
   "metadata": {},
   "outputs": [],
   "source": [
    "l1"
   ]
  },
  {
   "cell_type": "code",
   "execution_count": null,
   "id": "f9b9e8d4",
   "metadata": {},
   "outputs": [],
   "source": [
    "len(x[3][3])"
   ]
  },
  {
   "cell_type": "code",
   "execution_count": null,
   "id": "7f09d07c",
   "metadata": {},
   "outputs": [],
   "source": []
  },
  {
   "cell_type": "code",
   "execution_count": null,
   "id": "d9ac64db",
   "metadata": {},
   "outputs": [],
   "source": [
    "x= [1,2,3]\n",
    "y = 10\n",
    "x\n",
    "y\n",
    "print(x)\n",
    "y"
   ]
  },
  {
   "cell_type": "code",
   "execution_count": null,
   "id": "f419542c",
   "metadata": {},
   "outputs": [],
   "source": []
  },
  {
   "cell_type": "code",
   "execution_count": null,
   "id": "70273dca",
   "metadata": {},
   "outputs": [],
   "source": []
  },
  {
   "cell_type": "code",
   "execution_count": null,
   "id": "a2a29ba3",
   "metadata": {},
   "outputs": [],
   "source": [
    "fruits"
   ]
  },
  {
   "cell_type": "code",
   "execution_count": null,
   "id": "0697d7c0",
   "metadata": {
    "scrolled": true
   },
   "outputs": [],
   "source": [
    "type(fruits[0])\n"
   ]
  },
  {
   "cell_type": "code",
   "execution_count": null,
   "id": "2fa31baf",
   "metadata": {},
   "outputs": [],
   "source": [
    "fruits = ['apple','banana','kiwi','chiku',66,8,'pineapple']"
   ]
  },
  {
   "cell_type": "code",
   "execution_count": null,
   "id": "995452c6",
   "metadata": {},
   "outputs": [],
   "source": [
    "fruits[0] = 'sss'"
   ]
  },
  {
   "cell_type": "markdown",
   "id": "77025572",
   "metadata": {},
   "source": [
    "l[starting index:ending(excluding itself):step size]"
   ]
  },
  {
   "cell_type": "code",
   "execution_count": null,
   "id": "43aa355c",
   "metadata": {},
   "outputs": [],
   "source": [
    "fruits"
   ]
  },
  {
   "cell_type": "code",
   "execution_count": null,
   "id": "f7c239ab",
   "metadata": {},
   "outputs": [],
   "source": [
    "fruits[1:2000:100]"
   ]
  },
  {
   "cell_type": "code",
   "execution_count": null,
   "id": "4a8787c6",
   "metadata": {},
   "outputs": [],
   "source": [
    "name = 'sumit kumar'\n",
    "name[1:2:]"
   ]
  },
  {
   "cell_type": "code",
   "execution_count": null,
   "id": "18818cc0",
   "metadata": {},
   "outputs": [],
   "source": [
    "fruits[::]"
   ]
  },
  {
   "cell_type": "code",
   "execution_count": null,
   "id": "2773a9bb",
   "metadata": {},
   "outputs": [],
   "source": [
    "fruits[3:1:-1]"
   ]
  },
  {
   "cell_type": "code",
   "execution_count": null,
   "id": "bcd87020",
   "metadata": {},
   "outputs": [],
   "source": [
    "fruits"
   ]
  },
  {
   "cell_type": "code",
   "execution_count": null,
   "id": "5bc2ed23",
   "metadata": {},
   "outputs": [],
   "source": [
    "# use pop() to delete item from a specific index"
   ]
  },
  {
   "cell_type": "code",
   "execution_count": null,
   "id": "2d1ef73a",
   "metadata": {},
   "outputs": [],
   "source": [
    "fruits.pop()"
   ]
  },
  {
   "cell_type": "code",
   "execution_count": null,
   "id": "ee2c2048",
   "metadata": {},
   "outputs": [],
   "source": [
    "fruits"
   ]
  },
  {
   "cell_type": "code",
   "execution_count": null,
   "id": "64155515",
   "metadata": {},
   "outputs": [],
   "source": [
    "fruits.pop(1)"
   ]
  },
  {
   "cell_type": "code",
   "execution_count": null,
   "id": "47aafe32",
   "metadata": {},
   "outputs": [],
   "source": [
    "fruits"
   ]
  },
  {
   "cell_type": "code",
   "execution_count": null,
   "id": "58bdbbd5",
   "metadata": {},
   "outputs": [],
   "source": [
    "# remove() deletes  specified item from the list "
   ]
  },
  {
   "cell_type": "code",
   "execution_count": null,
   "id": "69521a30",
   "metadata": {},
   "outputs": [],
   "source": [
    "fruits.remove('kikwi')"
   ]
  },
  {
   "cell_type": "code",
   "execution_count": null,
   "id": "6d41e6d6",
   "metadata": {},
   "outputs": [],
   "source": [
    "fruits1 = [[1,23,3,3,[3,3]],3,3,3]"
   ]
  },
  {
   "cell_type": "code",
   "execution_count": null,
   "id": "2ab1938b",
   "metadata": {},
   "outputs": [],
   "source": [
    "fruits1[0]"
   ]
  },
  {
   "cell_type": "code",
   "execution_count": null,
   "id": "51b555f0",
   "metadata": {},
   "outputs": [],
   "source": [
    "fruits1[0].remove('sumit')"
   ]
  },
  {
   "cell_type": "code",
   "execution_count": null,
   "id": "00b7adcd",
   "metadata": {},
   "outputs": [],
   "source": [
    "fruits = [1,2,3,6,[['df','sd',4.9],'s','d','o']]"
   ]
  },
  {
   "cell_type": "code",
   "execution_count": null,
   "id": "240df244",
   "metadata": {},
   "outputs": [],
   "source": [
    "fruits[4][0][::-1]"
   ]
  },
  {
   "cell_type": "code",
   "execution_count": null,
   "id": "4ca2d482",
   "metadata": {},
   "outputs": [],
   "source": []
  },
  {
   "cell_type": "code",
   "execution_count": null,
   "id": "7bce3e1b",
   "metadata": {},
   "outputs": [],
   "source": []
  },
  {
   "cell_type": "code",
   "execution_count": null,
   "id": "025b075d",
   "metadata": {},
   "outputs": [],
   "source": []
  },
  {
   "cell_type": "code",
   "execution_count": null,
   "id": "6f86a90b",
   "metadata": {},
   "outputs": [],
   "source": []
  },
  {
   "cell_type": "code",
   "execution_count": null,
   "id": "c5a281b1",
   "metadata": {},
   "outputs": [],
   "source": []
  },
  {
   "cell_type": "code",
   "execution_count": null,
   "id": "edc61b66",
   "metadata": {},
   "outputs": [],
   "source": []
  },
  {
   "cell_type": "code",
   "execution_count": null,
   "id": "e1caca05",
   "metadata": {},
   "outputs": [],
   "source": []
  },
  {
   "cell_type": "code",
   "execution_count": null,
   "id": "413e56c1",
   "metadata": {},
   "outputs": [],
   "source": []
  },
  {
   "cell_type": "code",
   "execution_count": null,
   "id": "68688e1d",
   "metadata": {},
   "outputs": [],
   "source": []
  },
  {
   "cell_type": "code",
   "execution_count": null,
   "id": "c931e8f9",
   "metadata": {},
   "outputs": [],
   "source": [
    "x = [1,2,'su',3]\n",
    "y = [4,5,6]\n",
    "x = x+y"
   ]
  },
  {
   "cell_type": "code",
   "execution_count": null,
   "id": "39e63822",
   "metadata": {},
   "outputs": [],
   "source": [
    "x"
   ]
  },
  {
   "cell_type": "code",
   "execution_count": null,
   "id": "bbf1098d",
   "metadata": {},
   "outputs": [],
   "source": [
    "fruits"
   ]
  },
  {
   "cell_type": "code",
   "execution_count": null,
   "id": "cc5cd11b",
   "metadata": {},
   "outputs": [],
   "source": []
  },
  {
   "cell_type": "code",
   "execution_count": null,
   "id": "4c117f21",
   "metadata": {},
   "outputs": [],
   "source": [
    "print(fruits[1:4:1])\n",
    "print(fruits[3:1:-1])\n"
   ]
  },
  {
   "cell_type": "markdown",
   "id": "1946f1db",
   "metadata": {},
   "source": [
    "# reversing  a list\n"
   ]
  },
  {
   "cell_type": "code",
   "execution_count": null,
   "id": "9afb45d1",
   "metadata": {},
   "outputs": [],
   "source": [
    "#merging two lists\n",
    "a = 44\n",
    "a.\n"
   ]
  },
  {
   "cell_type": "code",
   "execution_count": 2,
   "id": "5d8fe926",
   "metadata": {},
   "outputs": [
    {
     "name": "stdout",
     "output_type": "stream",
     "text": [
      "3\n",
      "<class 'str'>\n",
      "<class 'list'>\n"
     ]
    },
    {
     "data": {
      "text/plain": [
       "['apples', 'banana', 'orange', 'audi', 'mercedes', 1, 2, 7, 8]"
      ]
     },
     "execution_count": 2,
     "metadata": {},
     "output_type": "execute_result"
    }
   ],
   "source": [
    "l1 = ['apples', 'banana', 'orange']\n",
    "l2 = ['audi', 'mercedes', 1 , 2,7,8]\n",
    "l3 = l1 + l2\n",
    "x = '40000'\n",
    "print(len(l1))\n",
    "print(type(l3[0]))\n",
    "l3\n",
    "x = list((1,2,4,'usse'))\n",
    "print(type(l3[:1]))\n",
    "l3\n"
   ]
  },
  {
   "cell_type": "code",
   "execution_count": null,
   "id": "d7add86f",
   "metadata": {},
   "outputs": [],
   "source": [
    "l1 = ['apples', 'banana', 'orange']\n",
    "l2 = ['audi', 'mercedes', 1 , 2,7,8]\n"
   ]
  },
  {
   "cell_type": "code",
   "execution_count": null,
   "id": "8a622b64",
   "metadata": {},
   "outputs": [],
   "source": [
    "l1.extend(l2)"
   ]
  },
  {
   "cell_type": "code",
   "execution_count": null,
   "id": "8acb442f",
   "metadata": {},
   "outputs": [],
   "source": [
    "l1"
   ]
  },
  {
   "cell_type": "code",
   "execution_count": null,
   "id": "61dc53e2",
   "metadata": {},
   "outputs": [],
   "source": []
  },
  {
   "cell_type": "code",
   "execution_count": null,
   "id": "177e518d",
   "metadata": {},
   "outputs": [],
   "source": [
    "l1 = ['kiwi','apples', 'banana', 'orange']\n",
    "l1.sort()\n",
    "l1"
   ]
  },
  {
   "cell_type": "code",
   "execution_count": null,
   "id": "f623ec51",
   "metadata": {},
   "outputs": [],
   "source": [
    "l2 = [ 'c','a','s']\n",
    "l2.sort()\n",
    "l2"
   ]
  },
  {
   "cell_type": "code",
   "execution_count": null,
   "id": "ca0a0060",
   "metadata": {},
   "outputs": [],
   "source": [
    "[].append(1)"
   ]
  },
  {
   "cell_type": "code",
   "execution_count": null,
   "id": "93708deb",
   "metadata": {},
   "outputs": [],
   "source": [
    "#number of items in a list\n",
    "len(l3)"
   ]
  },
  {
   "cell_type": "code",
   "execution_count": null,
   "id": "540cf408",
   "metadata": {},
   "outputs": [],
   "source": [
    "type(l3)\n"
   ]
  },
  {
   "cell_type": "code",
   "execution_count": null,
   "id": "51be1f6d",
   "metadata": {},
   "outputs": [],
   "source": [
    "#list() to create list\n",
    "l = list(('sumit',2,3))\n",
    "type(l)"
   ]
  },
  {
   "cell_type": "code",
   "execution_count": null,
   "id": "e209dfbb",
   "metadata": {},
   "outputs": [],
   "source": [
    "name = '10'\n",
    "int(name)"
   ]
  },
  {
   "cell_type": "code",
   "execution_count": null,
   "id": "46341688",
   "metadata": {},
   "outputs": [],
   "source": [
    "# to check if specific item is present in a list or not\n",
    "thelist = ['apples','K', 'banana','banana',2,3,4]\n",
    "if 'K' in 'sumit Kumar':\n",
    "    print('kiwi is present in the list')\n",
    "else:\n",
    "    print('no fruit')"
   ]
  },
  {
   "cell_type": "code",
   "execution_count": null,
   "id": "9d36c531",
   "metadata": {},
   "outputs": [],
   "source": [
    "\n",
    "thelist[1] = 'sumit'\n",
    "thelist\n",
    "\n"
   ]
  },
  {
   "cell_type": "code",
   "execution_count": null,
   "id": "cb71160b",
   "metadata": {},
   "outputs": [],
   "source": [
    "#append() - adds an element at the end of a list\n",
    "\n",
    "fruits = [3,3,4,5,6,5]\n",
    "fruits.append(['sumit','md',22])\n",
    "fruits[6]"
   ]
  },
  {
   "cell_type": "markdown",
   "id": "b439719c",
   "metadata": {},
   "source": [
    "**TYPE CASTING**"
   ]
  },
  {
   "cell_type": "code",
   "execution_count": null,
   "id": "3c0c6d2a",
   "metadata": {},
   "outputs": [],
   "source": [
    "int(float('11.8'))"
   ]
  },
  {
   "cell_type": "code",
   "execution_count": null,
   "id": "e697fcf9",
   "metadata": {},
   "outputs": [],
   "source": [
    "length = int(input('enter length'))\n",
    "breadth = int(input('enter breadth'))\n",
    "area = float(length * breadth)\n",
    "print(float(area))\n",
    "type(area)"
   ]
  },
  {
   "cell_type": "code",
   "execution_count": null,
   "id": "2e939e41",
   "metadata": {},
   "outputs": [],
   "source": [
    "20 * 4"
   ]
  },
  {
   "cell_type": "code",
   "execution_count": null,
   "id": "10b40aaa",
   "metadata": {},
   "outputs": [],
   "source": [
    "x = float(2)\n",
    "x"
   ]
  },
  {
   "cell_type": "code",
   "execution_count": null,
   "id": "5c5a6150",
   "metadata": {},
   "outputs": [],
   "source": [
    "x = 333\n",
    "str(x)"
   ]
  },
  {
   "cell_type": "markdown",
   "id": "ce942002",
   "metadata": {},
   "source": [
    "**LOOPS**"
   ]
  },
  {
   "cell_type": "code",
   "execution_count": 1,
   "id": "e03ea48b",
   "metadata": {},
   "outputs": [
    {
     "name": "stdout",
     "output_type": "stream",
     "text": [
      "[1, 21, 41, 61, 81]\n"
     ]
    }
   ],
   "source": [
    "print(list(range(1,100,20)))"
   ]
  },
  {
   "cell_type": "code",
   "execution_count": null,
   "id": "a0c0414f",
   "metadata": {},
   "outputs": [],
   "source": [
    "list(range(1,100,20))"
   ]
  },
  {
   "cell_type": "code",
   "execution_count": null,
   "id": "025d27b6",
   "metadata": {},
   "outputs": [],
   "source": [
    "list(range(1,10))"
   ]
  },
  {
   "cell_type": "code",
   "execution_count": null,
   "id": "64adaf67",
   "metadata": {},
   "outputs": [],
   "source": [
    "list(range(10,1,-1))"
   ]
  },
  {
   "cell_type": "code",
   "execution_count": null,
   "id": "374374cc",
   "metadata": {},
   "outputs": [],
   "source": []
  },
  {
   "cell_type": "code",
   "execution_count": null,
   "id": "05695eca",
   "metadata": {},
   "outputs": [],
   "source": [
    "#for loop and while loop\n",
    "range(10)\n",
    "#0,1,3,4,5,6,7,8,9\n",
    "range(2,4)\n",
    "#2,3\n",
    "range(1,10,2)\n",
    "#1,3,5,7,9\n",
    "list(range(1,100,10))\n",
    "\n",
    "list(range(100,6,-50))"
   ]
  },
  {
   "cell_type": "code",
   "execution_count": 6,
   "id": "f788a199",
   "metadata": {},
   "outputs": [
    {
     "name": "stdout",
     "output_type": "stream",
     "text": [
      "s\n",
      "u\n",
      "m\n",
      "i\n",
      "t\n"
     ]
    }
   ],
   "source": [
    "for i in 'sumit':\n",
    "    print(i)"
   ]
  },
  {
   "cell_type": "code",
   "execution_count": 2,
   "id": "28b1b9e7",
   "metadata": {},
   "outputs": [
    {
     "data": {
      "text/plain": [
       "tuple"
      ]
     },
     "execution_count": 2,
     "metadata": {},
     "output_type": "execute_result"
    }
   ],
   "source": [
    "a = (10,22)\n",
    "type(a)"
   ]
  },
  {
   "cell_type": "code",
   "execution_count": 3,
   "id": "ef01443b",
   "metadata": {},
   "outputs": [
    {
     "data": {
      "text/plain": [
       "[100]"
      ]
     },
     "execution_count": 3,
     "metadata": {},
     "output_type": "execute_result"
    }
   ],
   "source": [
    "#range function range(starting point,ending point(exclusive of its own value), step size)\n",
    "a = list(range(100,1,-100))\n",
    "a"
   ]
  },
  {
   "cell_type": "code",
   "execution_count": 7,
   "id": "b2b1d1d7",
   "metadata": {},
   "outputs": [
    {
     "name": "stdout",
     "output_type": "stream",
     "text": [
      "#\n",
      "0\n",
      "#\n",
      "1\n",
      "#\n",
      "2\n",
      "#\n",
      "3\n",
      "#\n",
      "4\n",
      "#\n",
      "5\n",
      "#\n",
      "6\n",
      "#\n",
      "7\n",
      "#\n",
      "8\n",
      "#\n",
      "9\n",
      "9\n"
     ]
    }
   ],
   "source": [
    "a = '#'\n",
    "for i in range(10):  #initialisation #condition #updation\n",
    "    print(a)         \n",
    "    print(i)\n",
    "print(i)\n",
    "    \n",
    "    \n",
    "# iteration 1 i = 0   \n",
    "# 2nd iteration i = 1\n",
    "# 3r d..........range is 9 last value 0f i will be 9"
   ]
  },
  {
   "cell_type": "code",
   "execution_count": 4,
   "id": "7f51ea6f",
   "metadata": {},
   "outputs": [
    {
     "name": "stdout",
     "output_type": "stream",
     "text": [
      "0\n",
      "2\n",
      "4\n"
     ]
    }
   ],
   "source": [
    "l = [1,2,3,4,'sumit']\n",
    "for i in range(0,len(l),2):\n",
    "    print(i)"
   ]
  },
  {
   "cell_type": "code",
   "execution_count": 5,
   "id": "9a3d7696",
   "metadata": {},
   "outputs": [
    {
     "name": "stdout",
     "output_type": "stream",
     "text": [
      "45\n"
     ]
    }
   ],
   "source": [
    "sum = 0\n",
    "for i in range(1,10):\n",
    "    sum = sum + i \n",
    "print(sum)\n",
    "\n",
    "# 1st iteration - i = 0  sum = 0 +0 output sum = 0\n",
    "# 2nd iter - i = 1 sum = 0+1 = 1 output sum = 1\n",
    "# 3rd iter - i = 2 sum = 1 + 2 output sum = 3\n",
    "# 4th iter - i = 3 sum = 3+3 output sum = 6"
   ]
  },
  {
   "cell_type": "code",
   "execution_count": null,
   "id": "d7b021de",
   "metadata": {},
   "outputs": [],
   "source": [
    "# 1 sum = 0 + 0 --- 2 sum = 0+1 -----3 sum = 1+2   -----4 sum = 3+3 -----4 sum = 6+4 "
   ]
  },
  {
   "cell_type": "code",
   "execution_count": 6,
   "id": "320c7268",
   "metadata": {},
   "outputs": [
    {
     "name": "stdout",
     "output_type": "stream",
     "text": [
      "apples\n",
      "apples\n",
      "apples\n",
      "banana\n",
      "banana\n",
      "banana\n",
      "kiwi\n",
      "kiwi\n",
      "kiwi\n",
      "chiku\n",
      "chiku\n",
      "chiku\n",
      "chiku\n",
      "chiku\n"
     ]
    },
    {
     "data": {
      "text/plain": [
       "4"
      ]
     },
     "execution_count": 6,
     "metadata": {},
     "output_type": "execute_result"
    }
   ],
   "source": [
    "l = ['apples','banana','kiwi','chiku']\n",
    "for x in l:\n",
    "    print(x)\n",
    "    print(x)\n",
    "    print(x)\n",
    "print(x)\n",
    "print(x)\n",
    "# i1 - x = apples -- apples apples\n",
    "# i2 - x = banana -- banana banana\n",
    "# i3 - x = kiwi -- kiwi\n",
    "# i4 - x = chiku -- chiku\n",
    "# outside of loop x = chiku\n",
    "len(l)"
   ]
  },
  {
   "cell_type": "code",
   "execution_count": null,
   "id": "f56991f1",
   "metadata": {},
   "outputs": [],
   "source": [
    "#checking for a particular value in a list using for loop\n",
    "fruits = ['apples','banana','kiwi','chiku','mango']\n",
    "\n",
    "for i in fruits:\n",
    "    if i == 'kiwi':\n",
    "        print('kiwi is present in the list')\n",
    "    else:\n",
    "        print('kiwi not found')\n",
    "\n",
    "# i1 --  i = apples == 'kiwi'\n"
   ]
  },
  {
   "cell_type": "code",
   "execution_count": null,
   "id": "c81297b5",
   "metadata": {
    "scrolled": true
   },
   "outputs": [],
   "source": [
    "l = [2,3,4,7,22,44,12,33,556,77]\n",
    "for i in l:\n",
    "    if i < 44:\n",
    "        print('-----------')\n",
    "        print('ss')\n",
    "        \n",
    "    else:\n",
    "        print(i)\n",
    "# i1  i = 2  condition true"
   ]
  },
  {
   "cell_type": "code",
   "execution_count": null,
   "id": "69a29903",
   "metadata": {},
   "outputs": [],
   "source": [
    "for x in range(10):\n",
    "    x =x-1\n",
    "    print(x)   \n",
    "\n",
    "print(x)\n",
    "\n",
    "# i1 - x = 0 -- -1\n",
    "# i2 - x = 1 --- 0\n",
    "#i3 --- x = 2 --- 1.................8\n",
    "    "
   ]
  },
  {
   "cell_type": "code",
   "execution_count": null,
   "id": "af1c449b",
   "metadata": {},
   "outputs": [],
   "source": [
    "# x = 0 --0  2nd x = 1 1\n",
    "for i in range(5):\n",
    "    print('x')\n",
    "    continue\n",
    "    print('y')"
   ]
  },
  {
   "cell_type": "code",
   "execution_count": null,
   "id": "12a40f13",
   "metadata": {},
   "outputs": [],
   "source": [
    "for x in range(10,0,-1):\n",
    "    print(x)\n",
    "# 10 , 9........1"
   ]
  },
  {
   "cell_type": "code",
   "execution_count": null,
   "id": "5a0e53d0",
   "metadata": {},
   "outputs": [],
   "source": [
    "for x in range(1,10,2):\n",
    "    if x == 7:\n",
    "        print(x)\n",
    "        print('ss')\n",
    "        break\n",
    "        print('refef')\n",
    "       \n",
    "    else:\n",
    "        print('finished')\n",
    "print('z')"
   ]
  },
  {
   "cell_type": "code",
   "execution_count": null,
   "id": "dcdb12b6",
   "metadata": {},
   "outputs": [],
   "source": [
    "#while loops  # initialisation  #condition #updation"
   ]
  },
  {
   "cell_type": "code",
   "execution_count": null,
   "id": "d894ec3d",
   "metadata": {},
   "outputs": [],
   "source": [
    "for i in range(5):\n",
    "    pass\n",
    "    print(i)\n",
    "\n",
    "    "
   ]
  },
  {
   "cell_type": "code",
   "execution_count": null,
   "id": "8f8650d3",
   "metadata": {},
   "outputs": [],
   "source": []
  },
  {
   "cell_type": "code",
   "execution_count": null,
   "id": "d40e1e22",
   "metadata": {},
   "outputs": [],
   "source": [
    "l = [1,2,34,5,6,67,8,8]"
   ]
  },
  {
   "cell_type": "code",
   "execution_count": null,
   "id": "dfd37354",
   "metadata": {},
   "outputs": [],
   "source": [
    "for i in l:\n",
    "    if i<34:\n",
    "        print(i)"
   ]
  },
  {
   "cell_type": "code",
   "execution_count": null,
   "id": "a6f866a4",
   "metadata": {},
   "outputs": [],
   "source": []
  },
  {
   "cell_type": "code",
   "execution_count": null,
   "id": "f2489646",
   "metadata": {},
   "outputs": [],
   "source": [
    "i = 1 #initialisation \n",
    "while i<=10:  #condition\n",
    "    print(i)\n",
    "    i = i + 1   #upation\n",
    "       \n",
    "print(i)\n"
   ]
  },
  {
   "cell_type": "code",
   "execution_count": null,
   "id": "2e67d041",
   "metadata": {
    "scrolled": true
   },
   "outputs": [],
   "source": [
    "i = 1\n",
    "while i <10:\n",
    "    \n",
    "    if i == 3:\n",
    "        print(i)\n",
    "        break\n",
    "    i = i+1\n",
    "     \n",
    "print(i)"
   ]
  },
  {
   "cell_type": "code",
   "execution_count": null,
   "id": "b69f7695",
   "metadata": {},
   "outputs": [],
   "source": []
  },
  {
   "cell_type": "code",
   "execution_count": null,
   "id": "d444e093",
   "metadata": {},
   "outputs": [],
   "source": [
    "x = 10\n"
   ]
  },
  {
   "cell_type": "code",
   "execution_count": null,
   "id": "2985b9eb",
   "metadata": {},
   "outputs": [],
   "source": []
  },
  {
   "cell_type": "code",
   "execution_count": null,
   "id": "f8a683ce",
   "metadata": {},
   "outputs": [],
   "source": [
    "i = 1\n",
    "while i<10:\n",
    "    print(i)\n",
    "    i = i+1"
   ]
  },
  {
   "cell_type": "code",
   "execution_count": null,
   "id": "60945601",
   "metadata": {},
   "outputs": [],
   "source": [
    "counter = 0\n",
    "while counter <10:\n",
    "    print('il')\n",
    "    counter = counter +1   \n",
    "print(counter)       "
   ]
  },
  {
   "cell_type": "code",
   "execution_count": null,
   "id": "71ccb464",
   "metadata": {},
   "outputs": [],
   "source": [
    "x = 8\n",
    "y = 10\n",
    "z = 'apple'\n",
    "\n",
    "if x == y or z == 'apple':\n",
    "    print(x+y)\n",
    "    print(str(x)+z)\n",
    "    if x <y :\n",
    "        print('xxxxxx')\n",
    "        if x ==8:\n",
    "            print('8888')\n",
    "if x>y :\n",
    "    print('x is less')\n",
    "elif x < y:\n",
    "    print('elif body')\n",
    "else:\n",
    "    print('else body')"
   ]
  },
  {
   "cell_type": "code",
   "execution_count": null,
   "id": "9368befd",
   "metadata": {},
   "outputs": [],
   "source": [
    "# try to filter out the data of a certain data type from a list and create a new list with that data "
   ]
  },
  {
   "cell_type": "code",
   "execution_count": null,
   "id": "b07f415f",
   "metadata": {},
   "outputs": [],
   "source": [
    "# break pass and continue statements for flow control\n",
    "class A(B):\n",
    "    pass\n",
    "class B:\n",
    "    x= 10 \n",
    "    y = 2"
   ]
  },
  {
   "cell_type": "code",
   "execution_count": null,
   "id": "d36b67e2",
   "metadata": {},
   "outputs": [],
   "source": [
    "l = [4,'sumit',5,6,6,4,5,'sumit']\n",
    "for i in l:\n",
    "    if i == 6:\n",
    "        break\n",
    "    print(i)\n",
    "print('loop break')"
   ]
  },
  {
   "cell_type": "code",
   "execution_count": null,
   "id": "2c313a07",
   "metadata": {},
   "outputs": [],
   "source": [
    "name = 'sumit kumar'\n",
    "for i in name:\n",
    "    if i == 'k':\n",
    "        \n",
    "        continue\n",
    "       \n",
    "                        # try  changing it with pass and see what happens\n",
    "    print(i)\n",
    "       \n",
    " \n",
    "    # continue statement take the flow control back to the loop and not read lines written after continue\n",
    "    # pass statement used for future reference"
   ]
  },
  {
   "cell_type": "code",
   "execution_count": null,
   "id": "1cec8696",
   "metadata": {},
   "outputs": [],
   "source": [
    "l =[1,2,3]"
   ]
  },
  {
   "cell_type": "code",
   "execution_count": null,
   "id": "d5b31c76",
   "metadata": {},
   "outputs": [],
   "source": []
  },
  {
   "cell_type": "code",
   "execution_count": null,
   "id": "e0113055",
   "metadata": {},
   "outputs": [],
   "source": [
    "x1 = 10\n",
    "x2 = ['sumit',1,2]\n",
    "x2."
   ]
  },
  {
   "cell_type": "code",
   "execution_count": null,
   "id": "ac29dda5",
   "metadata": {},
   "outputs": [],
   "source": []
  },
  {
   "cell_type": "code",
   "execution_count": null,
   "id": "24774149",
   "metadata": {},
   "outputs": [],
   "source": [
    "l = ['sumit',32,3,9] "
   ]
  },
  {
   "cell_type": "code",
   "execution_count": null,
   "id": "176023d0",
   "metadata": {},
   "outputs": [],
   "source": [
    "for i in range(len(l)):\n",
    "    print(l[i])"
   ]
  },
  {
   "cell_type": "code",
   "execution_count": null,
   "id": "1d78f728",
   "metadata": {},
   "outputs": [],
   "source": []
  },
  {
   "cell_type": "code",
   "execution_count": null,
   "id": "7e697c2f",
   "metadata": {},
   "outputs": [],
   "source": [
    "l = ['sumit',12,3,'anil','mohit']\n",
    "for i in range(len(l)):   \n",
    "    print(l[i])"
   ]
  },
  {
   "cell_type": "code",
   "execution_count": null,
   "id": "55100ca0",
   "metadata": {},
   "outputs": [],
   "source": [
    "# taking input from a user  #perform type casting to change data type\n",
    "a = float(input('it always converts the value in string:enter a number'))\n",
    "print(a)\n",
    "type(a)"
   ]
  },
  {
   "cell_type": "code",
   "execution_count": null,
   "id": "f27d8de3",
   "metadata": {},
   "outputs": [],
   "source": [
    "x = ['sumit','aryan','ravi']\n",
    "e = []\n",
    "for i in x:\n",
    "    e.append(i.upper())\n",
    "e   "
   ]
  },
  {
   "cell_type": "code",
   "execution_count": null,
   "id": "8528605e",
   "metadata": {},
   "outputs": [],
   "source": [
    "# converting a string to upper case and lower case and checking if string is upper or lower case\n",
    "name = input('enter your name:')\n",
    "print(name.upper())"
   ]
  },
  {
   "cell_type": "code",
   "execution_count": null,
   "id": "4d085590",
   "metadata": {},
   "outputs": [],
   "source": [
    "#isalpha and isnumeric\n",
    "a = 'sumit1'\n",
    "print(a.isalpha())\n",
    "a.isnumeric()"
   ]
  },
  {
   "cell_type": "code",
   "execution_count": null,
   "id": "5452d641",
   "metadata": {},
   "outputs": [],
   "source": [
    "# split function to separate words in a string and create a list of those words\n",
    "name = 'sumit kumar is holding,an,umbrella'\n",
    "a = name.split(sep = 'um')\n",
    "print(type(a))\n",
    "print(a)"
   ]
  },
  {
   "cell_type": "code",
   "execution_count": 1,
   "id": "51e43eed",
   "metadata": {},
   "outputs": [
    {
     "ename": "SyntaxError",
     "evalue": "f-string: empty expression not allowed (348962050.py, line 2)",
     "output_type": "error",
     "traceback": [
      "\u001b[1;36m  Cell \u001b[1;32mIn[1], line 2\u001b[1;36m\u001b[0m\n\u001b[1;33m    a = f' my name is {} and my age is {} '\u001b[0m\n\u001b[1;37m                                           ^\u001b[0m\n\u001b[1;31mSyntaxError\u001b[0m\u001b[1;31m:\u001b[0m f-string: empty expression not allowed\n"
     ]
    }
   ],
   "source": [
    "# format function\n",
    "a = f' my name is {} and my age is {} '\n",
    "a.format('sumit',28)"
   ]
  },
  {
   "cell_type": "code",
   "execution_count": null,
   "id": "7b90a825",
   "metadata": {},
   "outputs": [],
   "source": [
    "name = input()\n",
    "h = input()\n",
    "print(f'my name is {name} and my height is {h}')"
   ]
  },
  {
   "cell_type": "code",
   "execution_count": null,
   "id": "8fb2ad44",
   "metadata": {},
   "outputs": [],
   "source": [
    "#area of a rectagle\n",
    "l = input('enter the length of rectangle: ')\n",
    "b = int(input('enter the breadth of rectangle: '))\n",
    "area = l*b\n",
    "print(area)"
   ]
  },
  {
   "cell_type": "code",
   "execution_count": null,
   "id": "895144cf",
   "metadata": {},
   "outputs": [],
   "source": [
    "def cube(x):\n",
    "    print(x**3)\n",
    "cube(2)    "
   ]
  },
  {
   "cell_type": "markdown",
   "id": "e24a44ba",
   "metadata": {},
   "source": [
    "**functions**\n",
    "they are of two types\n",
    "\n",
    "1.built in functions - they already exist in python like print(),type()\n",
    "\n",
    "2.user defined - which are defined by the user like def area()"
   ]
  },
  {
   "cell_type": "code",
   "execution_count": null,
   "id": "3598c508",
   "metadata": {},
   "outputs": [],
   "source": [
    "def test():\n",
    "    print('hello')\n",
    "    print('hi')"
   ]
  },
  {
   "cell_type": "code",
   "execution_count": null,
   "id": "dea05104",
   "metadata": {},
   "outputs": [],
   "source": [
    "test()\n"
   ]
  },
  {
   "cell_type": "code",
   "execution_count": null,
   "id": "aeceef85",
   "metadata": {},
   "outputs": [],
   "source": [
    "def area_of_circle(r):\n",
    "    area = 3.14 * r * r\n",
    "    print(area)\n",
    "    return (area)\n",
    "    print('j')\n",
    "a1 = area_of_circle(2)  \n",
    "a2 = area_of_circle(3)\n",
    "a3 = area_of_circle(4) \n",
    "print(a1)\n",
    "type(a1)"
   ]
  },
  {
   "cell_type": "code",
   "execution_count": null,
   "id": "196d1942",
   "metadata": {},
   "outputs": [],
   "source": [
    "x = [1,2,3,4,8,9,7]"
   ]
  },
  {
   "cell_type": "code",
   "execution_count": null,
   "id": "579eaa71",
   "metadata": {},
   "outputs": [],
   "source": [
    "x1 , x2 , x3,x4,*x5   = x"
   ]
  },
  {
   "cell_type": "code",
   "execution_count": null,
   "id": "08245dfc",
   "metadata": {},
   "outputs": [],
   "source": [
    "y = 1,2,3,4,5 \n",
    "\n"
   ]
  },
  {
   "cell_type": "code",
   "execution_count": null,
   "id": "0aeda455",
   "metadata": {},
   "outputs": [],
   "source": [
    "a  = 10\n",
    "b = print( a * 10)\n",
    "c = b + 10\n",
    "print(c)\n",
    "print(b)\n",
    "print(type(b))"
   ]
  },
  {
   "cell_type": "code",
   "execution_count": null,
   "id": "b54f5a2e",
   "metadata": {},
   "outputs": [],
   "source": [
    "a = 'sumit',1,2,\n",
    "a1,a2,a3 = a\n",
    "a1\n",
    "print(a1,a2)"
   ]
  },
  {
   "cell_type": "code",
   "execution_count": null,
   "id": "631ee4fd",
   "metadata": {},
   "outputs": [],
   "source": [
    "def area_of_rect(l,b):  # l and b are the arguments of the function \n",
    "    print('ji')\n",
    "    return b,l"
   ]
  },
  {
   "cell_type": "code",
   "execution_count": null,
   "id": "0486aaa9",
   "metadata": {},
   "outputs": [],
   "source": [
    "area1,area2  = area_of_rect(3,9)  # this is function call simply by writing the function name and providing it required arguments\n",
    "print(area2,area1)\n",
    "#if return statement is not mentioned the function will return none by default "
   ]
  },
  {
   "cell_type": "code",
   "execution_count": null,
   "id": "7d830f18",
   "metadata": {},
   "outputs": [],
   "source": [
    "#arguments information can be send through a function with the help of arguments\n",
    "def my_function(fname,lname):\n",
    "    print('hi')\n",
    "\n",
    "    print('hdhdhdh')\n",
    "    return 9 * 0\n",
    "\n",
    "\n",
    "    \n",
    "f = my_function(7,6)\n",
    "print(f)\n",
    "type(f)\n"
   ]
  },
  {
   "cell_type": "code",
   "execution_count": null,
   "id": "8eb8f892",
   "metadata": {},
   "outputs": [],
   "source": [
    "def area_of_rectangle(length,breadth):\n",
    "    print('hi')\n",
    "    return length * breadth\n",
    "\n",
    "area_of_rectangle(4,4)\n",
    "\n",
    "f = area_of_rectangle(3,3)\n",
    "print(f)\n",
    "f = area_of_rectangle(2,2)\n",
    "print(f)"
   ]
  },
  {
   "cell_type": "code",
   "execution_count": null,
   "id": "33cd9f08",
   "metadata": {},
   "outputs": [],
   "source": [
    "def test(x,y,z):\n",
    "    print(' B R')\n",
    "    return x-y,x+y,x**z\n",
    "    print(' A R')\n",
    "\n",
    "r1,r2,r3= test(1,2,3)\n",
    "print(r1)\n",
    "type(r1)"
   ]
  },
  {
   "cell_type": "code",
   "execution_count": null,
   "id": "8fa6730d",
   "metadata": {},
   "outputs": [],
   "source": [
    "x = 1,2,3,4"
   ]
  },
  {
   "cell_type": "code",
   "execution_count": null,
   "id": "25f6573c",
   "metadata": {},
   "outputs": [],
   "source": [
    "x = ['a','b','c','d']"
   ]
  },
  {
   "cell_type": "code",
   "execution_count": null,
   "id": "130e3e82",
   "metadata": {},
   "outputs": [],
   "source": [
    "x1,x2,x3,x4= x"
   ]
  },
  {
   "cell_type": "code",
   "execution_count": null,
   "id": "7b240f72",
   "metadata": {},
   "outputs": [],
   "source": [
    "x1"
   ]
  },
  {
   "cell_type": "code",
   "execution_count": null,
   "id": "72e4f6fc",
   "metadata": {},
   "outputs": [],
   "source": [
    "def square():\n",
    "    return 10\n",
    "square(2)"
   ]
  },
  {
   "cell_type": "code",
   "execution_count": null,
   "id": "f2d81338",
   "metadata": {},
   "outputs": [],
   "source": [
    "\n",
    "def area_square():\n",
    "    print('kumar')\n",
    "    \n",
    "    print('sumit')\n",
    "    return 'hi my name is sumit' + 's'\n",
    "    print('ll')\n",
    "\n",
    "\n",
    "area_square() \n",
    "f = area_square()         # \n",
    "print(type(f))                 \n",
    "print(f)\n",
    "#area_square() "
   ]
  },
  {
   "cell_type": "code",
   "execution_count": null,
   "id": "4d4dcb01",
   "metadata": {},
   "outputs": [],
   "source": [
    "def my_function(  age= 1,name = 5):\n",
    "    print( 'my name is ' +str(name) +' and my age is ' + str(age))\n",
    "    return age\n",
    "    \n",
    "\n",
    "f = my_function(6)\n",
    "print(f)\n"
   ]
  },
  {
   "cell_type": "markdown",
   "id": "3d7dfceb",
   "metadata": {},
   "source": [
    "###### str(8) + 'd'"
   ]
  },
  {
   "cell_type": "code",
   "execution_count": null,
   "id": "f7a196b6",
   "metadata": {},
   "outputs": [],
   "source": [
    "x = 1\n",
    "print('kumar')\n",
    "print(x %2 )"
   ]
  },
  {
   "cell_type": "code",
   "execution_count": null,
   "id": "0eff3117",
   "metadata": {},
   "outputs": [],
   "source": [
    "def my(x):\n",
    "    print( x**x)\n",
    "\n",
    "\n",
    "my(1)\n",
    "my(2) \n",
    "my(3) \n",
    "f = my(5)\n",
    "print(f)"
   ]
  },
  {
   "cell_type": "code",
   "execution_count": null,
   "id": "111c50fd",
   "metadata": {},
   "outputs": [],
   "source": [
    "def sum_list(l):\n",
    "    sum = 0\n",
    "    for i in l:\n",
    "        sum = sum + i\n",
    "    return sum\n",
    "sum_list([1,2,3,4])"
   ]
  },
  {
   "cell_type": "code",
   "execution_count": null,
   "id": "74e4c48d",
   "metadata": {},
   "outputs": [],
   "source": [
    "def test1(start,end):\n",
    "    e = []\n",
    "    for i in range(start,end):\n",
    "        e.append(i)\n",
    "    return e\n",
    "a = test1(0,10)\n",
    "print(a)"
   ]
  },
  {
   "cell_type": "code",
   "execution_count": null,
   "id": "5cf91d9c",
   "metadata": {},
   "outputs": [],
   "source": []
  },
  {
   "cell_type": "code",
   "execution_count": null,
   "id": "f3435d5f",
   "metadata": {},
   "outputs": [],
   "source": []
  },
  {
   "cell_type": "code",
   "execution_count": null,
   "id": "5d2a71fe",
   "metadata": {},
   "outputs": [],
   "source": [
    "def reverse_no(str1):\n",
    "    rstr=''\n",
    "    index=len(str1)\n",
    "    while(index>0):\n",
    "        rstr = rstr+str1[index-1]\n",
    "        index = index - 1\n",
    "    return rstr\n",
    "        \n",
    "\n",
    "f=reverse_no(\"sumit\")\n",
    "print(f)\n",
    "reverse_no('shailendra')"
   ]
  },
  {
   "cell_type": "code",
   "execution_count": null,
   "id": "c0934c0e",
   "metadata": {},
   "outputs": [],
   "source": [
    "# passing a list in a  function \n",
    "def my_function(fruits):\n",
    "    for x in fruits:\n",
    "        print(x)\n",
    "    return x\n",
    "    \n",
    "\n",
    "f = [1,2,4,5,7,8,9]\n",
    "\n",
    "g = my_function(f)   #function call\n",
    "print('f is ',g)     \n",
    "\n",
    "\n",
    "    \n",
    "    \n",
    "    \n",
    "    "
   ]
  },
  {
   "cell_type": "code",
   "execution_count": null,
   "id": "a8be9c77",
   "metadata": {},
   "outputs": [],
   "source": [
    "next(g)"
   ]
  },
  {
   "cell_type": "raw",
   "id": "898698d2",
   "metadata": {},
   "source": [
    "def my_function(**kid):\n",
    "    print('last name is ' + kid['lname'] + kid['fname'])\n",
    "my_function(fname = 'sumit',lname = 'kumar' ,age = 30)"
   ]
  },
  {
   "cell_type": "code",
   "execution_count": null,
   "id": "6077052a",
   "metadata": {},
   "outputs": [],
   "source": [
    "# tuple data type ---- collection of ordered data but it is immutable(unchangeable),allows duplicates\n",
    "t = ('kiwi', 'banana', 'apples')"
   ]
  },
  {
   "cell_type": "code",
   "execution_count": null,
   "id": "e0ed12d5",
   "metadata": {},
   "outputs": [],
   "source": [
    "type(t[1])"
   ]
  },
  {
   "cell_type": "code",
   "execution_count": null,
   "id": "426bb3d1",
   "metadata": {},
   "outputs": [],
   "source": [
    "type(t[0:1])"
   ]
  },
  {
   "cell_type": "code",
   "execution_count": null,
   "id": "e51342d8",
   "metadata": {},
   "outputs": [],
   "source": [
    "len(t)"
   ]
  },
  {
   "cell_type": "code",
   "execution_count": null,
   "id": "7506a035",
   "metadata": {},
   "outputs": [],
   "source": [
    "t[::-1]"
   ]
  },
  {
   "cell_type": "code",
   "execution_count": null,
   "id": "6f746181",
   "metadata": {},
   "outputs": [],
   "source": [
    "t.append(3)"
   ]
  },
  {
   "cell_type": "code",
   "execution_count": null,
   "id": "6356bc1d",
   "metadata": {},
   "outputs": [],
   "source": [
    "l =[]\n",
    "l.append(2)\n",
    "l"
   ]
  },
  {
   "cell_type": "code",
   "execution_count": null,
   "id": "3ecf08a9",
   "metadata": {},
   "outputs": [],
   "source": [
    "t = ('apples','banana','kiwi')\n",
    "l = ('apples','banana','kiwi')"
   ]
  },
  {
   "cell_type": "code",
   "execution_count": null,
   "id": "e8eadcd6",
   "metadata": {},
   "outputs": [],
   "source": [
    "if 'kiwi' in t:\n",
    "    print('yes')\n",
    "else:\n",
    "    print('no')"
   ]
  },
  {
   "cell_type": "code",
   "execution_count": null,
   "id": "321aa191",
   "metadata": {},
   "outputs": [],
   "source": [
    "l[0]= 'mango'\n",
    "l"
   ]
  },
  {
   "cell_type": "code",
   "execution_count": null,
   "id": "d1d0ea59",
   "metadata": {},
   "outputs": [],
   "source": [
    "t[0] = 'mango'"
   ]
  },
  {
   "cell_type": "code",
   "execution_count": null,
   "id": "cfa4ef49",
   "metadata": {},
   "outputs": [],
   "source": [
    "l = ['s','d',1,2,3]\n",
    "l[0] = 'a'"
   ]
  },
  {
   "cell_type": "code",
   "execution_count": null,
   "id": "cd78c5de",
   "metadata": {},
   "outputs": [],
   "source": [
    "l"
   ]
  },
  {
   "cell_type": "code",
   "execution_count": null,
   "id": "5844c580",
   "metadata": {},
   "outputs": [],
   "source": [
    "\n",
    "l = ['apples','banana','kiwi']\n",
    "l.pop()\n",
    "l"
   ]
  },
  {
   "cell_type": "code",
   "execution_count": null,
   "id": "110b6fd2",
   "metadata": {},
   "outputs": [],
   "source": [
    "t"
   ]
  },
  {
   "cell_type": "code",
   "execution_count": null,
   "id": "1eb51846",
   "metadata": {},
   "outputs": [],
   "source": [
    "t[0] = 'mango'"
   ]
  },
  {
   "cell_type": "code",
   "execution_count": null,
   "id": "c68ae7f5",
   "metadata": {},
   "outputs": [],
   "source": []
  },
  {
   "cell_type": "code",
   "execution_count": null,
   "id": "5605882c",
   "metadata": {},
   "outputs": [],
   "source": [
    "l = [3,4,3,8]\n"
   ]
  },
  {
   "cell_type": "code",
   "execution_count": null,
   "id": "636029cd",
   "metadata": {},
   "outputs": [],
   "source": [
    "l.clear()"
   ]
  },
  {
   "cell_type": "code",
   "execution_count": null,
   "id": "bce9cd2d",
   "metadata": {},
   "outputs": [],
   "source": [
    "l.append(2)"
   ]
  },
  {
   "cell_type": "code",
   "execution_count": null,
   "id": "7064441e",
   "metadata": {},
   "outputs": [],
   "source": [
    "l = [12,2,3]\n",
    "print(l.sort())"
   ]
  },
  {
   "cell_type": "code",
   "execution_count": null,
   "id": "d2250501",
   "metadata": {},
   "outputs": [],
   "source": [
    "l.sort()"
   ]
  },
  {
   "cell_type": "code",
   "execution_count": null,
   "id": "b7d9b61b",
   "metadata": {},
   "outputs": [],
   "source": [
    "l"
   ]
  },
  {
   "cell_type": "markdown",
   "id": "5ae7c629",
   "metadata": {},
   "source": [
    "# tuple"
   ]
  },
  {
   "cell_type": "code",
   "execution_count": null,
   "id": "743620c8",
   "metadata": {},
   "outputs": [],
   "source": [
    "#ordered , immutable"
   ]
  },
  {
   "cell_type": "code",
   "execution_count": null,
   "id": "27c172f4",
   "metadata": {},
   "outputs": [],
   "source": [
    "y = ('sumit','aditya ','rohan',1,2,3,2,2,2)"
   ]
  },
  {
   "cell_type": "code",
   "execution_count": null,
   "id": "996dbb3c",
   "metadata": {},
   "outputs": [],
   "source": [
    "type(y)\n"
   ]
  },
  {
   "cell_type": "code",
   "execution_count": null,
   "id": "7cbe2cea",
   "metadata": {},
   "outputs": [],
   "source": [
    "y[0]"
   ]
  },
  {
   "cell_type": "code",
   "execution_count": null,
   "id": "bae32bd9",
   "metadata": {},
   "outputs": [],
   "source": [
    "y"
   ]
  },
  {
   "cell_type": "code",
   "execution_count": null,
   "id": "097df483",
   "metadata": {},
   "outputs": [],
   "source": [
    "(1,2,3) * 4"
   ]
  },
  {
   "cell_type": "code",
   "execution_count": null,
   "id": "4d3932ad",
   "metadata": {},
   "outputs": [],
   "source": [
    "y[0] = 'rahul'"
   ]
  },
  {
   "cell_type": "code",
   "execution_count": null,
   "id": "00275395",
   "metadata": {},
   "outputs": [],
   "source": [
    "y.index()"
   ]
  },
  {
   "cell_type": "code",
   "execution_count": null,
   "id": "5192af65",
   "metadata": {},
   "outputs": [],
   "source": [
    "l1 = ['sumit','aditya','rohan']\n",
    "l2 = ['kumar','jha','das']\n",
    "#out--- ['sumit kumar','aditya jha','rohan das']\n",
    "\n",
    "\n",
    "\n",
    "list(map(lambda x,y : x+ ' ' + y ,l1,l2))"
   ]
  },
  {
   "cell_type": "code",
   "execution_count": null,
   "id": "a07c5cb9",
   "metadata": {},
   "outputs": [],
   "source": [
    "#looping through  a tuple"
   ]
  },
  {
   "cell_type": "code",
   "execution_count": null,
   "id": "7a43bea2",
   "metadata": {},
   "outputs": [],
   "source": [
    "t = ('apples','banana','kiwi','chiku','chiku')\n",
    "for x in t:\n",
    "    print(x)"
   ]
  },
  {
   "cell_type": "code",
   "execution_count": null,
   "id": "aa9865ee",
   "metadata": {},
   "outputs": [],
   "source": [
    "for i in range(len(t)):     # range(4)\n",
    "    print(t[i])"
   ]
  },
  {
   "cell_type": "code",
   "execution_count": null,
   "id": "d54892f8",
   "metadata": {},
   "outputs": [],
   "source": [
    "# range(10)  ---- 0 1 2 3 4  5 6 7 8 9\n",
    "#range(4)  ----- 0 1 2 3 \n",
    "# i = 0   t[0]   --- apples\n",
    "#i = 1    t[1]   ---- banana"
   ]
  },
  {
   "cell_type": "code",
   "execution_count": null,
   "id": "74642ad5",
   "metadata": {},
   "outputs": [],
   "source": [
    "i = 0 \n",
    "while i < len(t):   # 0<4\n",
    "    print(t[i])\n",
    "    i = i+1\n",
    "    "
   ]
  },
  {
   "cell_type": "code",
   "execution_count": null,
   "id": "06457437",
   "metadata": {},
   "outputs": [],
   "source": [
    "t1 = ('apples','banana','kiwi','chiku')\n",
    "t2 = (100,50,300,70)\n",
    "t3 = t1+t2\n",
    "\n",
    "t3"
   ]
  },
  {
   "cell_type": "code",
   "execution_count": null,
   "id": "a6ec22f5",
   "metadata": {},
   "outputs": [],
   "source": [
    "c = (1,)\n",
    "type(c)"
   ]
  },
  {
   "cell_type": "code",
   "execution_count": null,
   "id": "b31eb421",
   "metadata": {},
   "outputs": [],
   "source": [
    "t1 * 3"
   ]
  },
  {
   "cell_type": "code",
   "execution_count": null,
   "id": "94e28c88",
   "metadata": {},
   "outputs": [],
   "source": [
    "l = [1,2,3,2,2,2]\n"
   ]
  },
  {
   "cell_type": "code",
   "execution_count": null,
   "id": "a7fb94fb",
   "metadata": {},
   "outputs": [],
   "source": [
    "#tuple methods\n",
    "#count() and #index()"
   ]
  },
  {
   "cell_type": "code",
   "execution_count": null,
   "id": "b353903b",
   "metadata": {},
   "outputs": [],
   "source": [
    "t1 = ('apples','banana','apples','apples','kiwi','chiku')"
   ]
  },
  {
   "cell_type": "code",
   "execution_count": null,
   "id": "76e338f9",
   "metadata": {},
   "outputs": [],
   "source": [
    "print(t1.index('apples',1))"
   ]
  },
  {
   "cell_type": "code",
   "execution_count": null,
   "id": "9f314088",
   "metadata": {},
   "outputs": [],
   "source": [
    "t1.count('apples')"
   ]
  },
  {
   "cell_type": "code",
   "execution_count": null,
   "id": "03a94586",
   "metadata": {},
   "outputs": [],
   "source": [
    "#slicing \n",
    "t[::-1]"
   ]
  },
  {
   "cell_type": "code",
   "execution_count": null,
   "id": "6d9bf826",
   "metadata": {},
   "outputs": [],
   "source": [
    "l = ['sumit','dant','kumar']\n",
    "e = []\n",
    "for i in l:\n",
    "    e.append(i.upper())\n",
    "e"
   ]
  },
  {
   "cell_type": "markdown",
   "id": "d68e1a4a",
   "metadata": {},
   "source": [
    "**SET**"
   ]
  },
  {
   "cell_type": "markdown",
   "id": "1d1594d8",
   "metadata": {},
   "source": [
    "set is an unordered,unchangable and do not allow duplicates"
   ]
  },
  {
   "cell_type": "code",
   "execution_count": null,
   "id": "55486c3c",
   "metadata": {},
   "outputs": [],
   "source": [
    "s1 = {1,2,22,2,5,7,9,0}\n",
    "print(s1)"
   ]
  },
  {
   "cell_type": "code",
   "execution_count": null,
   "id": "1832b538",
   "metadata": {},
   "outputs": [],
   "source": [
    "print(set(('sumit',3,2,2,2,2,2)))"
   ]
  },
  {
   "cell_type": "code",
   "execution_count": null,
   "id": "b4bfeb46",
   "metadata": {},
   "outputs": [],
   "source": [
    "x = (7,3,4,6,6,7,8)\n",
    "x1,x2,*x3,x4  = x"
   ]
  },
  {
   "cell_type": "code",
   "execution_count": null,
   "id": "bd4ae145",
   "metadata": {},
   "outputs": [],
   "source": [
    "x3"
   ]
  },
  {
   "cell_type": "code",
   "execution_count": null,
   "id": "02c0fa12",
   "metadata": {},
   "outputs": [],
   "source": [
    "s = set(('apples','banana','kiwi',2,4.11,1,'chiku'))\n",
    "s"
   ]
  },
  {
   "cell_type": "code",
   "execution_count": null,
   "id": "bdab3a37",
   "metadata": {},
   "outputs": [],
   "source": [
    "l = list((1,2,3))"
   ]
  },
  {
   "cell_type": "code",
   "execution_count": null,
   "id": "489c90b7",
   "metadata": {},
   "outputs": [],
   "source": [
    "l"
   ]
  },
  {
   "cell_type": "code",
   "execution_count": null,
   "id": "75f01c13",
   "metadata": {},
   "outputs": [],
   "source": [
    "l = tuple(('sumit','aditya',2))"
   ]
  },
  {
   "cell_type": "code",
   "execution_count": null,
   "id": "16a842d3",
   "metadata": {},
   "outputs": [],
   "source": [
    "list((1,2,3))"
   ]
  },
  {
   "cell_type": "code",
   "execution_count": null,
   "id": "c3cac970",
   "metadata": {},
   "outputs": [],
   "source": []
  },
  {
   "cell_type": "code",
   "execution_count": null,
   "id": "9c16d389",
   "metadata": {},
   "outputs": [],
   "source": [
    "#accessing items of a set\n",
    "s= {1,24}\n",
    "\n",
    "s[0]"
   ]
  },
  {
   "cell_type": "code",
   "execution_count": null,
   "id": "b3b1df36",
   "metadata": {},
   "outputs": [],
   "source": [
    "for x in s:\n",
    "    print(x)"
   ]
  },
  {
   "cell_type": "code",
   "execution_count": null,
   "id": "d484a8f7",
   "metadata": {},
   "outputs": [],
   "source": [
    "s = {1, 2, 4.11, 'kiwi', 'orange', 'banana', 'chiku', 'apples'}"
   ]
  },
  {
   "cell_type": "code",
   "execution_count": null,
   "id": "e6eaee52",
   "metadata": {},
   "outputs": [],
   "source": [
    "#unchangable immutable\n",
    "#adding a data in  a set \n",
    "s\n",
    "s.add('12')\n",
    "print(s)"
   ]
  },
  {
   "cell_type": "code",
   "execution_count": null,
   "id": "ed979ebe",
   "metadata": {},
   "outputs": [],
   "source": [
    "s.add('orange')"
   ]
  },
  {
   "cell_type": "code",
   "execution_count": null,
   "id": "2c8fe80f",
   "metadata": {},
   "outputs": [],
   "source": [
    "del s\n",
    "\n",
    "print(s)"
   ]
  },
  {
   "cell_type": "code",
   "execution_count": null,
   "id": "5ccb2b32",
   "metadata": {},
   "outputs": [],
   "source": [
    "#update  [] () '' {}\n",
    "t1 = {'apples','banana','kiwi'}\n",
    "t2 = ['chiku','orange','apples','kiwi']\n",
    "t3 = t1.update(t2)\n",
    "t3\n",
    "t1"
   ]
  },
  {
   "cell_type": "code",
   "execution_count": null,
   "id": "684bb04b",
   "metadata": {},
   "outputs": [],
   "source": [
    "# remove \n",
    "t1"
   ]
  },
  {
   "cell_type": "code",
   "execution_count": null,
   "id": "92286eb0",
   "metadata": {},
   "outputs": [],
   "source": [
    "t1.remove('apples')\n",
    "t1"
   ]
  },
  {
   "cell_type": "code",
   "execution_count": null,
   "id": "5c117c1a",
   "metadata": {},
   "outputs": [],
   "source": [
    "t1.discard('chiku')"
   ]
  },
  {
   "cell_type": "code",
   "execution_count": null,
   "id": "3c3a1a19",
   "metadata": {},
   "outputs": [],
   "source": [
    "t1.discard('chiku')"
   ]
  },
  {
   "cell_type": "code",
   "execution_count": null,
   "id": "c96a4c93",
   "metadata": {},
   "outputs": [],
   "source": []
  },
  {
   "cell_type": "code",
   "execution_count": null,
   "id": "684a36a2",
   "metadata": {},
   "outputs": [],
   "source": []
  },
  {
   "cell_type": "code",
   "execution_count": null,
   "id": "ab3f8fe7",
   "metadata": {},
   "outputs": [],
   "source": []
  },
  {
   "cell_type": "code",
   "execution_count": null,
   "id": "db9749a4",
   "metadata": {},
   "outputs": [],
   "source": []
  },
  {
   "cell_type": "code",
   "execution_count": null,
   "id": "81e4f6a4",
   "metadata": {
    "scrolled": true
   },
   "outputs": [],
   "source": [
    "{1,2,3} + [1,6,7]"
   ]
  },
  {
   "cell_type": "code",
   "execution_count": null,
   "id": "f6cc4e3c",
   "metadata": {},
   "outputs": [],
   "source": []
  },
  {
   "cell_type": "code",
   "execution_count": null,
   "id": "af1f068c",
   "metadata": {},
   "outputs": [],
   "source": [
    "\n",
    "t1 = {'apples','banana','kiwi'}\n",
    "x = t1.pop()\n",
    "print(x)\n",
    "t1\n"
   ]
  },
  {
   "cell_type": "code",
   "execution_count": null,
   "id": "753a8490",
   "metadata": {},
   "outputs": [],
   "source": [
    "l = ['sumit',1,2]\n",
    "l.append(4)\n",
    "l"
   ]
  },
  {
   "cell_type": "code",
   "execution_count": null,
   "id": "fa132ad8",
   "metadata": {},
   "outputs": [],
   "source": [
    "\n",
    "    "
   ]
  },
  {
   "cell_type": "code",
   "execution_count": null,
   "id": "84fc61f4",
   "metadata": {},
   "outputs": [],
   "source": []
  },
  {
   "cell_type": "code",
   "execution_count": null,
   "id": "21317132",
   "metadata": {},
   "outputs": [],
   "source": []
  },
  {
   "cell_type": "code",
   "execution_count": null,
   "id": "cd3ba32c",
   "metadata": {},
   "outputs": [],
   "source": []
  },
  {
   "cell_type": "code",
   "execution_count": null,
   "id": "4278681b",
   "metadata": {},
   "outputs": [],
   "source": []
  },
  {
   "cell_type": "code",
   "execution_count": null,
   "id": "d46869d6",
   "metadata": {},
   "outputs": [],
   "source": [
    "def rstre(str1):   #sumit\n",
    "    rstr = ''\n",
    "    i = len(str1)-1  # i = 5\n",
    "    while i>=0:                             # i = 5 # '' + 't' rstr = 't'\n",
    "                                           # i = 4 # 't' + 'i'   = 'ti'\n",
    "                                            \n",
    "        rstr = rstr + str1[i]\n",
    "        i = i-1\n",
    "    return rstr\n",
    "rstre('gavnish')"
   ]
  },
  {
   "cell_type": "code",
   "execution_count": null,
   "id": "9fa13fed",
   "metadata": {},
   "outputs": [],
   "source": [
    "l = [1,22,4,78,33,4,5,6]\n",
    "\n",
    "\n",
    "def even_no(x):\n",
    "    nl = []\n",
    "    for i in x:\n",
    "        if i%2 == 0:\n",
    "            nl.append(i)\n",
    "    return nl\n",
    "e = even_no(l)\n",
    "e"
   ]
  },
  {
   "cell_type": "code",
   "execution_count": null,
   "id": "ef28dc9b",
   "metadata": {},
   "outputs": [],
   "source": []
  },
  {
   "cell_type": "markdown",
   "id": "ac8aac91",
   "metadata": {},
   "source": [
    "define a function listmultiply() - which gives out put as\n",
    "l = [-1,2,3,4,5]\n",
    "expected output : 120\n",
    "multilies all the elements of the list"
   ]
  },
  {
   "cell_type": "markdown",
   "id": "6516cd9e",
   "metadata": {},
   "source": [
    "squareoflist()\n",
    "l = [3,4,2,1]\n",
    "output : n = [9,16,4,1]\n",
    "\n",
    "\n",
    "def squareoflist():"
   ]
  },
  {
   "cell_type": "code",
   "execution_count": null,
   "id": "70304523",
   "metadata": {},
   "outputs": [],
   "source": [
    "def squareoflist(x):\n",
    "    e= ''\n",
    "    for i in x:                # [3,4]\n",
    "        e.append(i**2)\n",
    "    return e\n",
    "result = squareoflist([3,2,1,3,5,6])\n",
    "result"
   ]
  },
  {
   "cell_type": "code",
   "execution_count": null,
   "id": "5addb887",
   "metadata": {},
   "outputs": [],
   "source": [
    "def listmultiply(x):    # x = []\n",
    "    total = 1\n",
    "    for i in x:                   #  i = 1 t = 1 # t = 2 # t = 6 # 2 *6 t = 12\n",
    "        total = total* i\n",
    "    return total\n",
    "result = listmultiply([1,-2,2,233,2])   # calling\n",
    "print(result)\n"
   ]
  },
  {
   "cell_type": "code",
   "execution_count": null,
   "id": "95f04fee",
   "metadata": {},
   "outputs": [],
   "source": [
    "#lambda function anonymous function"
   ]
  },
  {
   "cell_type": "code",
   "execution_count": null,
   "id": "745310bf",
   "metadata": {},
   "outputs": [],
   "source": [
    "def sum_i(x,y):\n",
    "    return x+y \n",
    "sum_i(1,2)"
   ]
  },
  {
   "cell_type": "code",
   "execution_count": null,
   "id": "fd696199",
   "metadata": {},
   "outputs": [],
   "source": [
    "f  = lambda x,y:x+y"
   ]
  },
  {
   "cell_type": "code",
   "execution_count": null,
   "id": "bd82c2cf",
   "metadata": {},
   "outputs": [],
   "source": [
    "f(3,2)"
   ]
  },
  {
   "cell_type": "code",
   "execution_count": null,
   "id": "2667288b",
   "metadata": {},
   "outputs": [],
   "source": [
    "f = lambda x:x**3"
   ]
  },
  {
   "cell_type": "code",
   "execution_count": null,
   "id": "05114288",
   "metadata": {},
   "outputs": [],
   "source": [
    "f(4)"
   ]
  },
  {
   "cell_type": "code",
   "execution_count": null,
   "id": "677db91e",
   "metadata": {},
   "outputs": [],
   "source": []
  },
  {
   "cell_type": "code",
   "execution_count": null,
   "id": "e554ecb7",
   "metadata": {},
   "outputs": [],
   "source": []
  },
  {
   "cell_type": "code",
   "execution_count": null,
   "id": "b5d33184",
   "metadata": {},
   "outputs": [],
   "source": [
    "def square(x , y ):\n",
    "    return x+y"
   ]
  },
  {
   "cell_type": "code",
   "execution_count": null,
   "id": "a0f6f1f4",
   "metadata": {},
   "outputs": [],
   "source": [
    "# lamda arguments: statement\n",
    "a = lambda x,y:x+y\n",
    "a(3,3)"
   ]
  },
  {
   "cell_type": "code",
   "execution_count": null,
   "id": "59877d88",
   "metadata": {},
   "outputs": [],
   "source": [
    "a = lambda x:x**x\n",
    "a(3)"
   ]
  },
  {
   "cell_type": "code",
   "execution_count": null,
   "id": "62175a86",
   "metadata": {},
   "outputs": [],
   "source": [
    "a = lambda x,y,z : x+str(y) +str(z)*10\n",
    "a('sumit',2,4)"
   ]
  },
  {
   "cell_type": "code",
   "execution_count": null,
   "id": "7209d356",
   "metadata": {},
   "outputs": [],
   "source": [
    " '10' * 4"
   ]
  },
  {
   "cell_type": "code",
   "execution_count": null,
   "id": "d60fe9fd",
   "metadata": {},
   "outputs": [],
   "source": [
    "'@'*10"
   ]
  },
  {
   "cell_type": "code",
   "execution_count": null,
   "id": "089eb8f3",
   "metadata": {},
   "outputs": [],
   "source": []
  },
  {
   "cell_type": "code",
   "execution_count": null,
   "id": "cca19f83",
   "metadata": {},
   "outputs": [],
   "source": [
    "def square(x):   \n",
    "    return lambda a: a*x\n",
    "f = square(4)   \n",
    "r = f(10)\n",
    "print(r)\n",
    "print(f)"
   ]
  },
  {
   "cell_type": "code",
   "execution_count": null,
   "id": "664b209d",
   "metadata": {},
   "outputs": [],
   "source": [
    "f = square(4)     # f = lambda a:a*x\n",
    "f(12)                  # f(12)"
   ]
  },
  {
   "cell_type": "code",
   "execution_count": null,
   "id": "29feda18",
   "metadata": {},
   "outputs": [],
   "source": [
    "f   = lambda r: 3.14*r*r\n",
    "f(3)"
   ]
  },
  {
   "cell_type": "code",
   "execution_count": null,
   "id": "87c58f9d",
   "metadata": {},
   "outputs": [],
   "source": [
    "s1 = {1,2,4}\n",
    "s2 = s1"
   ]
  },
  {
   "cell_type": "code",
   "execution_count": null,
   "id": "2f6b9789",
   "metadata": {},
   "outputs": [],
   "source": [
    "s2"
   ]
  },
  {
   "cell_type": "code",
   "execution_count": null,
   "id": "83160d3f",
   "metadata": {},
   "outputs": [],
   "source": [
    "s1.add(6)"
   ]
  },
  {
   "cell_type": "code",
   "execution_count": null,
   "id": "94edf981",
   "metadata": {},
   "outputs": [],
   "source": [
    "s2"
   ]
  },
  {
   "cell_type": "code",
   "execution_count": null,
   "id": "6586785f",
   "metadata": {},
   "outputs": [],
   "source": []
  },
  {
   "cell_type": "code",
   "execution_count": null,
   "id": "55f5f0f5",
   "metadata": {},
   "outputs": [],
   "source": [
    "s1 = {2,1,4}\n",
    "s2 = s1.copy()"
   ]
  },
  {
   "cell_type": "code",
   "execution_count": null,
   "id": "87ac6344",
   "metadata": {},
   "outputs": [],
   "source": [
    "s1.add(8)"
   ]
  },
  {
   "cell_type": "code",
   "execution_count": null,
   "id": "bc8aa45d",
   "metadata": {},
   "outputs": [],
   "source": [
    "print(s2)\n",
    "print(s1)"
   ]
  },
  {
   "cell_type": "code",
   "execution_count": null,
   "id": "0003563a",
   "metadata": {},
   "outputs": [],
   "source": [
    "a = set()\n",
    "type(a)"
   ]
  },
  {
   "cell_type": "code",
   "execution_count": null,
   "id": "b36a3bce",
   "metadata": {},
   "outputs": [],
   "source": [
    "def exp(x,y,z):\n",
    "    return x+y,x-y,x+z\n",
    "a , b ,c   = exp(0,3,2)\n",
    "c"
   ]
  },
  {
   "cell_type": "code",
   "execution_count": null,
   "id": "5923785b",
   "metadata": {},
   "outputs": [],
   "source": [
    "cars = {'cars':['maruti','honda'] ,\n",
    "        'model':2018, \n",
    "        'price':2000}"
   ]
  },
  {
   "cell_type": "code",
   "execution_count": null,
   "id": "f2c6d414",
   "metadata": {},
   "outputs": [],
   "source": [
    "print(type(cars))"
   ]
  },
  {
   "cell_type": "code",
   "execution_count": null,
   "id": "5ce4dd0f",
   "metadata": {},
   "outputs": [],
   "source": [
    "cars['model']\n"
   ]
  },
  {
   "cell_type": "code",
   "execution_count": null,
   "id": "6ffa5026",
   "metadata": {},
   "outputs": [],
   "source": [
    "print(cars)"
   ]
  },
  {
   "cell_type": "code",
   "execution_count": null,
   "id": "faaeac9d",
   "metadata": {},
   "outputs": [],
   "source": [
    "#dictionary\n",
    "dict1 = {'name':['sumit','kohli','sachin'],\n",
    "         'age':30,\n",
    "         'hobbies':['singing','dancing','cricket']\n",
    "        }\n",
    "dict1\n",
    "#dict1dict1 = {'name':['sumit','kohli','sachin'],'age':30,'hobbies':['singing','dancing','cricket']}\n",
    "print(dict1)"
   ]
  },
  {
   "cell_type": "code",
   "execution_count": null,
   "id": "2acbda0e",
   "metadata": {},
   "outputs": [],
   "source": [
    "#accessing the dictionary values\n",
    "dict1['name'].pop()\n"
   ]
  },
  {
   "cell_type": "code",
   "execution_count": null,
   "id": "fa1800e8",
   "metadata": {},
   "outputs": [],
   "source": [
    "dict1"
   ]
  },
  {
   "cell_type": "code",
   "execution_count": null,
   "id": "0bcb9fca",
   "metadata": {},
   "outputs": [],
   "source": [
    "#returns a list of all the keys in dictionary\n",
    "x = dict1.keys()\n",
    "print(x)"
   ]
  },
  {
   "cell_type": "code",
   "execution_count": null,
   "id": "70f9a1a3",
   "metadata": {},
   "outputs": [],
   "source": [
    "dict1['name'] = 'anil'"
   ]
  },
  {
   "cell_type": "code",
   "execution_count": null,
   "id": "668a14c7",
   "metadata": {},
   "outputs": [],
   "source": [
    "dict1"
   ]
  },
  {
   "cell_type": "code",
   "execution_count": null,
   "id": "b7ad0e72",
   "metadata": {},
   "outputs": [],
   "source": [
    "y = dict1.values()\n",
    "y"
   ]
  },
  {
   "cell_type": "code",
   "execution_count": null,
   "id": "410fd440",
   "metadata": {},
   "outputs": [],
   "source": [
    "dict1['name'] = 1111"
   ]
  },
  {
   "cell_type": "code",
   "execution_count": null,
   "id": "77fb6db3",
   "metadata": {},
   "outputs": [],
   "source": [
    "dict1"
   ]
  },
  {
   "cell_type": "code",
   "execution_count": null,
   "id": "7e1b83e5",
   "metadata": {
    "scrolled": true
   },
   "outputs": [],
   "source": [
    "dict1.items()"
   ]
  },
  {
   "cell_type": "code",
   "execution_count": null,
   "id": "49e96088",
   "metadata": {},
   "outputs": [],
   "source": []
  },
  {
   "cell_type": "code",
   "execution_count": null,
   "id": "1d469461",
   "metadata": {},
   "outputs": [],
   "source": [
    "dict1.values()"
   ]
  },
  {
   "cell_type": "code",
   "execution_count": null,
   "id": "67f25b0e",
   "metadata": {},
   "outputs": [],
   "source": [
    "if 'kohli' in dict1.values():\n",
    "    print('ok')\n",
    "else:\n",
    "    print('bye')"
   ]
  },
  {
   "cell_type": "code",
   "execution_count": null,
   "id": "3c7a96d2",
   "metadata": {},
   "outputs": [],
   "source": [
    "dict1['name'] = ['sumit','kohli']"
   ]
  },
  {
   "cell_type": "code",
   "execution_count": null,
   "id": "414128bf",
   "metadata": {},
   "outputs": [],
   "source": [
    "dict1.update({'name':'aditya'})"
   ]
  },
  {
   "cell_type": "code",
   "execution_count": null,
   "id": "01f2d279",
   "metadata": {},
   "outputs": [],
   "source": [
    "dict1"
   ]
  },
  {
   "cell_type": "code",
   "execution_count": null,
   "id": "2a8b2ad9",
   "metadata": {},
   "outputs": [],
   "source": [
    "#pop \n",
    "l = [2,2,3,4,'sumit',5]\n",
    "l.pop()"
   ]
  },
  {
   "cell_type": "code",
   "execution_count": null,
   "id": "18327ebb",
   "metadata": {},
   "outputs": [],
   "source": [
    "-400/16.9"
   ]
  },
  {
   "cell_type": "code",
   "execution_count": null,
   "id": "8f095570",
   "metadata": {},
   "outputs": [],
   "source": [
    "l.pop()"
   ]
  },
  {
   "cell_type": "code",
   "execution_count": null,
   "id": "6e190c95",
   "metadata": {},
   "outputs": [],
   "source": [
    "l.append('sumit')"
   ]
  },
  {
   "cell_type": "code",
   "execution_count": null,
   "id": "2e636e7a",
   "metadata": {},
   "outputs": [],
   "source": [
    "l.pop()\n",
    "l"
   ]
  },
  {
   "cell_type": "code",
   "execution_count": null,
   "id": "43d04605",
   "metadata": {},
   "outputs": [],
   "source": [
    "l.insert(2,'anil')"
   ]
  },
  {
   "cell_type": "code",
   "execution_count": null,
   "id": "626a5a7e",
   "metadata": {},
   "outputs": [],
   "source": [
    "l"
   ]
  },
  {
   "cell_type": "code",
   "execution_count": null,
   "id": "5978d233",
   "metadata": {},
   "outputs": [],
   "source": []
  },
  {
   "cell_type": "code",
   "execution_count": null,
   "id": "3005a670",
   "metadata": {},
   "outputs": [],
   "source": [
    "dict1"
   ]
  },
  {
   "cell_type": "code",
   "execution_count": null,
   "id": "75af5316",
   "metadata": {},
   "outputs": [],
   "source": [
    "dict1['name'].pop(1)"
   ]
  },
  {
   "cell_type": "code",
   "execution_count": null,
   "id": "8eb6c360",
   "metadata": {},
   "outputs": [],
   "source": [
    "dict2 = dict1.fromkeys(['sumit','aditya'])"
   ]
  },
  {
   "cell_type": "code",
   "execution_count": null,
   "id": "379f04f3",
   "metadata": {},
   "outputs": [],
   "source": [
    "dict2"
   ]
  },
  {
   "cell_type": "code",
   "execution_count": null,
   "id": "43b882b3",
   "metadata": {},
   "outputs": [],
   "source": [
    "dict1['name'] = 'aditya'\n",
    "dict1"
   ]
  },
  {
   "cell_type": "code",
   "execution_count": null,
   "id": "849da956",
   "metadata": {},
   "outputs": [],
   "source": [
    "dict1.clear()"
   ]
  },
  {
   "cell_type": "code",
   "execution_count": null,
   "id": "56e7953c",
   "metadata": {},
   "outputs": [],
   "source": [
    "dict1"
   ]
  },
  {
   "cell_type": "code",
   "execution_count": null,
   "id": "dcc5aed3",
   "metadata": {},
   "outputs": [],
   "source": [
    "dict1.items()"
   ]
  },
  {
   "cell_type": "code",
   "execution_count": null,
   "id": "3f72b1c9",
   "metadata": {},
   "outputs": [],
   "source": [
    "#pop item\n",
    "dict1.popitem()"
   ]
  },
  {
   "cell_type": "code",
   "execution_count": null,
   "id": "fd5d423c",
   "metadata": {},
   "outputs": [],
   "source": [
    "dict1"
   ]
  },
  {
   "cell_type": "code",
   "execution_count": null,
   "id": "37100d22",
   "metadata": {},
   "outputs": [],
   "source": [
    "dict1.clear()"
   ]
  },
  {
   "cell_type": "code",
   "execution_count": null,
   "id": "c7c20141",
   "metadata": {},
   "outputs": [],
   "source": [
    "dict1"
   ]
  },
  {
   "cell_type": "code",
   "execution_count": null,
   "id": "ce22b797",
   "metadata": {},
   "outputs": [],
   "source": [
    "dict1"
   ]
  },
  {
   "cell_type": "code",
   "execution_count": null,
   "id": "d966c93d",
   "metadata": {},
   "outputs": [],
   "source": [
    "dict1.pop()"
   ]
  },
  {
   "cell_type": "code",
   "execution_count": null,
   "id": "722c30d2",
   "metadata": {},
   "outputs": [],
   "source": [
    "dict1"
   ]
  },
  {
   "cell_type": "code",
   "execution_count": null,
   "id": "93677cfc",
   "metadata": {},
   "outputs": [],
   "source": [
    "# copy"
   ]
  },
  {
   "cell_type": "code",
   "execution_count": null,
   "id": "cbf990a9",
   "metadata": {},
   "outputs": [],
   "source": [
    "dict2 = dict1.copy()"
   ]
  },
  {
   "cell_type": "code",
   "execution_count": null,
   "id": "c4d50b31",
   "metadata": {},
   "outputs": [],
   "source": [
    "dict2"
   ]
  },
  {
   "cell_type": "code",
   "execution_count": null,
   "id": "738dfd3e",
   "metadata": {},
   "outputs": [],
   "source": []
  },
  {
   "cell_type": "code",
   "execution_count": null,
   "id": "e0c58032",
   "metadata": {},
   "outputs": [],
   "source": [
    "dict1['name'] = 'aditya'"
   ]
  },
  {
   "cell_type": "code",
   "execution_count": null,
   "id": "3954c448",
   "metadata": {},
   "outputs": [],
   "source": [
    "dict1"
   ]
  },
  {
   "cell_type": "code",
   "execution_count": null,
   "id": "d7e74962",
   "metadata": {},
   "outputs": [],
   "source": [
    "dict2"
   ]
  },
  {
   "cell_type": "code",
   "execution_count": null,
   "id": "c2d3a858",
   "metadata": {},
   "outputs": [],
   "source": []
  },
  {
   "cell_type": "code",
   "execution_count": null,
   "id": "7c905920",
   "metadata": {},
   "outputs": [],
   "source": []
  },
  {
   "cell_type": "code",
   "execution_count": null,
   "id": "f274f353",
   "metadata": {},
   "outputs": [],
   "source": [
    "dict3 = dict2 "
   ]
  },
  {
   "cell_type": "code",
   "execution_count": null,
   "id": "66343b6e",
   "metadata": {},
   "outputs": [],
   "source": [
    "dict2['name'] = 'sumit'"
   ]
  },
  {
   "cell_type": "code",
   "execution_count": null,
   "id": "60320c8a",
   "metadata": {},
   "outputs": [],
   "source": [
    "dict2"
   ]
  },
  {
   "cell_type": "code",
   "execution_count": null,
   "id": "4587c98a",
   "metadata": {},
   "outputs": [],
   "source": []
  },
  {
   "cell_type": "code",
   "execution_count": null,
   "id": "8511978e",
   "metadata": {},
   "outputs": [],
   "source": [
    "dict3"
   ]
  },
  {
   "cell_type": "code",
   "execution_count": null,
   "id": "15d56575",
   "metadata": {},
   "outputs": [],
   "source": [
    "dict1"
   ]
  },
  {
   "cell_type": "code",
   "execution_count": null,
   "id": "26602043",
   "metadata": {},
   "outputs": [],
   "source": []
  },
  {
   "cell_type": "code",
   "execution_count": null,
   "id": "a2982949",
   "metadata": {},
   "outputs": [],
   "source": [
    "for i in dict1.values():\n",
    "    print(dict1[i])"
   ]
  },
  {
   "cell_type": "code",
   "execution_count": null,
   "id": "c0e9796c",
   "metadata": {},
   "outputs": [],
   "source": [
    "dict1.values()"
   ]
  },
  {
   "cell_type": "code",
   "execution_count": null,
   "id": "557e1352",
   "metadata": {},
   "outputs": [],
   "source": []
  },
  {
   "cell_type": "code",
   "execution_count": null,
   "id": "8acf0a46",
   "metadata": {},
   "outputs": [],
   "source": [
    "next(a)"
   ]
  },
  {
   "cell_type": "code",
   "execution_count": null,
   "id": "6e9bc640",
   "metadata": {},
   "outputs": [],
   "source": [
    "next(x)\n",
    "type(x)"
   ]
  },
  {
   "cell_type": "code",
   "execution_count": null,
   "id": "4802de10",
   "metadata": {},
   "outputs": [],
   "source": [
    "x = iter('10.000')"
   ]
  },
  {
   "cell_type": "code",
   "execution_count": null,
   "id": "a641bd17",
   "metadata": {},
   "outputs": [],
   "source": []
  },
  {
   "cell_type": "code",
   "execution_count": null,
   "id": "7ca4d18c",
   "metadata": {},
   "outputs": [],
   "source": [
    "name = 'sumit'\n",
    "rstr = ''\n",
    "index = len(name) - 1\n",
    "for i in range (len(name)):\n",
    "    rstr = rstr + name[index] \n",
    "    index = index - 1\n",
    "print(rstr)\n",
    "    "
   ]
  },
  {
   "cell_type": "code",
   "execution_count": null,
   "id": "c440e718",
   "metadata": {},
   "outputs": [],
   "source": []
  },
  {
   "cell_type": "code",
   "execution_count": null,
   "id": "88ab2191",
   "metadata": {},
   "outputs": [],
   "source": []
  },
  {
   "cell_type": "code",
   "execution_count": null,
   "id": "4df4efff",
   "metadata": {},
   "outputs": [],
   "source": []
  },
  {
   "cell_type": "code",
   "execution_count": null,
   "id": "276abbed",
   "metadata": {},
   "outputs": [],
   "source": []
  },
  {
   "cell_type": "code",
   "execution_count": null,
   "id": "0bab9836",
   "metadata": {},
   "outputs": [],
   "source": []
  },
  {
   "cell_type": "code",
   "execution_count": null,
   "id": "205119e4",
   "metadata": {},
   "outputs": [],
   "source": []
  },
  {
   "cell_type": "markdown",
   "id": "3fad8a28",
   "metadata": {},
   "source": [
    "**ITERATOR**"
   ]
  },
  {
   "cell_type": "code",
   "execution_count": null,
   "id": "c9dc42b4",
   "metadata": {},
   "outputs": [],
   "source": [
    "fruits = ['apple','banana','kiwi']  # it is iterable but not iterator\n",
    "#next(fruits)   \n",
    "type(fruits)"
   ]
  },
  {
   "cell_type": "code",
   "execution_count": null,
   "id": "66702d11",
   "metadata": {},
   "outputs": [],
   "source": [
    "f = iter(fruits)"
   ]
  },
  {
   "cell_type": "code",
   "execution_count": null,
   "id": "e93f93c8",
   "metadata": {},
   "outputs": [],
   "source": [
    "x = iter('sumit')"
   ]
  },
  {
   "cell_type": "code",
   "execution_count": null,
   "id": "09f71e4d",
   "metadata": {},
   "outputs": [],
   "source": [
    "type(x)"
   ]
  },
  {
   "cell_type": "code",
   "execution_count": null,
   "id": "e6181d9a",
   "metadata": {},
   "outputs": [],
   "source": [
    "x = 'sumit'\n",
    "next(x)"
   ]
  },
  {
   "cell_type": "code",
   "execution_count": null,
   "id": "e8b00682",
   "metadata": {},
   "outputs": [],
   "source": [
    "i = iter(x)\n"
   ]
  },
  {
   "cell_type": "code",
   "execution_count": null,
   "id": "d005ef05",
   "metadata": {},
   "outputs": [],
   "source": [
    "x = iter('sumit')\n",
    "\n"
   ]
  },
  {
   "cell_type": "code",
   "execution_count": null,
   "id": "34386be2",
   "metadata": {},
   "outputs": [],
   "source": [
    "next(x)"
   ]
  },
  {
   "cell_type": "code",
   "execution_count": null,
   "id": "24af02fe",
   "metadata": {},
   "outputs": [],
   "source": [
    "i = iter(x)"
   ]
  },
  {
   "cell_type": "code",
   "execution_count": null,
   "id": "bec2f3e5",
   "metadata": {},
   "outputs": [],
   "source": [
    "for i in 10,55:\n",
    "    print(i)"
   ]
  },
  {
   "cell_type": "code",
   "execution_count": null,
   "id": "cb5c9901",
   "metadata": {},
   "outputs": [],
   "source": [
    "x = [10,2,2,1]\n",
    "y = iter(x)\n",
    "type(y)"
   ]
  },
  {
   "cell_type": "code",
   "execution_count": null,
   "id": "e8542cc9",
   "metadata": {},
   "outputs": [],
   "source": [
    "next(y)"
   ]
  },
  {
   "cell_type": "code",
   "execution_count": null,
   "id": "7a39bab4",
   "metadata": {},
   "outputs": [],
   "source": []
  },
  {
   "cell_type": "markdown",
   "id": "58c5cbf4",
   "metadata": {},
   "source": [
    " c  = iter(x)\n",
    "type(c)"
   ]
  },
  {
   "cell_type": "code",
   "execution_count": null,
   "id": "fa015579",
   "metadata": {},
   "outputs": [],
   "source": [
    "t = 1,2,3,4,4,5,6,8,9,6,99\n",
    "t1,*t2,t3,t4 = t\n",
    "t3"
   ]
  },
  {
   "cell_type": "code",
   "execution_count": null,
   "id": "848962a3",
   "metadata": {},
   "outputs": [],
   "source": []
  },
  {
   "cell_type": "code",
   "execution_count": null,
   "id": "96ae0ffe",
   "metadata": {},
   "outputs": [],
   "source": []
  },
  {
   "cell_type": "code",
   "execution_count": null,
   "id": "215daf29",
   "metadata": {},
   "outputs": [],
   "source": []
  },
  {
   "cell_type": "code",
   "execution_count": null,
   "id": "01838e5f",
   "metadata": {},
   "outputs": [],
   "source": [
    "next(i)"
   ]
  },
  {
   "cell_type": "code",
   "execution_count": null,
   "id": "4af9d5ab",
   "metadata": {
    "scrolled": true
   },
   "outputs": [],
   "source": [
    "iter(10)"
   ]
  },
  {
   "cell_type": "code",
   "execution_count": null,
   "id": "e232d0d3",
   "metadata": {},
   "outputs": [],
   "source": [
    "for i in range(10):\n",
    "    print(i)"
   ]
  },
  {
   "cell_type": "code",
   "execution_count": null,
   "id": "7636fc94",
   "metadata": {},
   "outputs": [],
   "source": [
    "next(10)"
   ]
  },
  {
   "cell_type": "code",
   "execution_count": null,
   "id": "59ae29ee",
   "metadata": {},
   "outputs": [],
   "source": [
    "a = iter('sumit')\n",
    "type(a)"
   ]
  },
  {
   "cell_type": "code",
   "execution_count": null,
   "id": "439587e8",
   "metadata": {},
   "outputs": [],
   "source": [
    "next(a)"
   ]
  },
  {
   "cell_type": "code",
   "execution_count": null,
   "id": "bbfb1a43",
   "metadata": {},
   "outputs": [],
   "source": [
    "next('sumit')"
   ]
  },
  {
   "cell_type": "code",
   "execution_count": null,
   "id": "70e77990",
   "metadata": {},
   "outputs": [],
   "source": [
    "# prime numbers                [2.......num-1]\n",
    "def is_prime(num):            # i = 2.....6\n",
    "    for i in range(2,num):    # 1st iter : i= 2 ----  \n",
    "                              # iter 2 : i = 3 ---\n",
    "        if num%i == 0:\n",
    "            print('not prime')\n",
    "            \n",
    "    else:\n",
    "        print('prime')\n",
    "    \n",
    "    \n",
    "is_prime(4)"
   ]
  },
  {
   "cell_type": "code",
   "execution_count": null,
   "id": "102bf7a6",
   "metadata": {},
   "outputs": [],
   "source": [
    "def test():\n",
    "    print('hi')\n",
    "    return 5\n",
    "    print('sumit')\n",
    "x = test()\n"
   ]
  },
  {
   "cell_type": "code",
   "execution_count": null,
   "id": "c8c17386",
   "metadata": {},
   "outputs": [],
   "source": [
    "x = 10\n",
    "y = 11\n",
    "z  = print(x+y)\n",
    "print(type(z))"
   ]
  },
  {
   "cell_type": "code",
   "execution_count": null,
   "id": "b1421814",
   "metadata": {},
   "outputs": [],
   "source": [
    "\n"
   ]
  },
  {
   "cell_type": "code",
   "execution_count": null,
   "id": "889f42f4",
   "metadata": {},
   "outputs": [],
   "source": [
    "#generator function for the cube of numbers \n",
    "def gencubes(n):\n",
    "    for num in range (n):\n",
    "             \n",
    "            yield num**3        # 0 1 8 27\n",
    "f = gencubes(10)\n",
    "print(f)\n"
   ]
  },
  {
   "cell_type": "code",
   "execution_count": null,
   "id": "7b41e4c7",
   "metadata": {},
   "outputs": [],
   "source": [
    "x = iter('sumit')\n",
    "next(x)"
   ]
  },
  {
   "cell_type": "code",
   "execution_count": null,
   "id": "ce564458",
   "metadata": {},
   "outputs": [],
   "source": [
    "next(x)"
   ]
  },
  {
   "cell_type": "code",
   "execution_count": null,
   "id": "ac99a49c",
   "metadata": {},
   "outputs": [],
   "source": [
    "#any function that contains a yield keyword is generator\n",
    "for i in range(10):\n",
    "    print(next(f))"
   ]
  },
  {
   "cell_type": "code",
   "execution_count": null,
   "id": "0763a786",
   "metadata": {},
   "outputs": [],
   "source": [
    "next(f)"
   ]
  },
  {
   "cell_type": "code",
   "execution_count": null,
   "id": "2687511c",
   "metadata": {},
   "outputs": [],
   "source": [
    "def gencubes(n):\n",
    "    for num in range (n):\n",
    "          return num**3            # 0 1 8 27\n",
    "f = gencubes(4)\n",
    "print(f)"
   ]
  },
  {
   "cell_type": "code",
   "execution_count": null,
   "id": "62608f4b",
   "metadata": {},
   "outputs": [],
   "source": [
    "next(f)"
   ]
  },
  {
   "cell_type": "code",
   "execution_count": null,
   "id": "c41a886c",
   "metadata": {},
   "outputs": [],
   "source": []
  },
  {
   "cell_type": "code",
   "execution_count": null,
   "id": "6cfdb156",
   "metadata": {},
   "outputs": [],
   "source": [
    "a = iter(gencubes(4))"
   ]
  },
  {
   "cell_type": "code",
   "execution_count": null,
   "id": "952b650c",
   "metadata": {},
   "outputs": [],
   "source": [
    " z =  iter(range(10))\n"
   ]
  },
  {
   "cell_type": "code",
   "execution_count": null,
   "id": "626b48ad",
   "metadata": {},
   "outputs": [],
   "source": [
    "next(z)\n",
    "type(z)"
   ]
  },
  {
   "cell_type": "code",
   "execution_count": null,
   "id": "b5be2ff7",
   "metadata": {},
   "outputs": [],
   "source": [
    "next(iter('sumit'))"
   ]
  },
  {
   "cell_type": "code",
   "execution_count": null,
   "id": "7b75d594",
   "metadata": {},
   "outputs": [],
   "source": []
  },
  {
   "cell_type": "code",
   "execution_count": null,
   "id": "5332d0e7",
   "metadata": {},
   "outputs": [],
   "source": []
  },
  {
   "cell_type": "code",
   "execution_count": null,
   "id": "2a501bbd",
   "metadata": {},
   "outputs": [],
   "source": []
  },
  {
   "cell_type": "code",
   "execution_count": null,
   "id": "253d4b4f",
   "metadata": {},
   "outputs": [],
   "source": [
    "a  = iter(range(10))"
   ]
  },
  {
   "cell_type": "code",
   "execution_count": null,
   "id": "e9eb00bd",
   "metadata": {},
   "outputs": [],
   "source": [
    "next(a)"
   ]
  },
  {
   "cell_type": "code",
   "execution_count": null,
   "id": "805a4780",
   "metadata": {},
   "outputs": [],
   "source": [
    "range(10)"
   ]
  },
  {
   "cell_type": "code",
   "execution_count": null,
   "id": "dcf8c483",
   "metadata": {},
   "outputs": [],
   "source": [
    "for i in 'sumit':\n",
    "    print(i) "
   ]
  },
  {
   "cell_type": "code",
   "execution_count": null,
   "id": "a371a1d3",
   "metadata": {},
   "outputs": [],
   "source": [
    "for i in gencubes(4):\n",
    "    print(i)                            # for loop takes only iterable objects"
   ]
  },
  {
   "cell_type": "code",
   "execution_count": null,
   "id": "96530c14",
   "metadata": {},
   "outputs": [],
   "source": [
    "def test():\n",
    "    return 1 , 3**5 , 2+ 8\n",
    "x,y,z =test()\n"
   ]
  },
  {
   "cell_type": "code",
   "execution_count": null,
   "id": "62a7931e",
   "metadata": {},
   "outputs": [],
   "source": [
    "z"
   ]
  },
  {
   "cell_type": "code",
   "execution_count": null,
   "id": "5c2d70c1",
   "metadata": {},
   "outputs": [],
   "source": [
    "x = 'sumit'"
   ]
  },
  {
   "cell_type": "code",
   "execution_count": null,
   "id": "a6f38754",
   "metadata": {},
   "outputs": [],
   "source": [
    "import numpy as np\n",
    "np.exp(-3)"
   ]
  },
  {
   "cell_type": "code",
   "execution_count": null,
   "id": "f77e1d70",
   "metadata": {},
   "outputs": [],
   "source": [
    "0.049787068367863944\n",
    "​\n",
    "z = iter(x)\n"
   ]
  },
  {
   "cell_type": "code",
   "execution_count": null,
   "id": "8869322d",
   "metadata": {},
   "outputs": [],
   "source": [
    "z = iter(x)"
   ]
  },
  {
   "cell_type": "code",
   "execution_count": null,
   "id": "6142bc07",
   "metadata": {},
   "outputs": [],
   "source": [
    "type(z)"
   ]
  },
  {
   "cell_type": "code",
   "execution_count": null,
   "id": "3c4b7342",
   "metadata": {},
   "outputs": [],
   "source": [
    "next(z)"
   ]
  },
  {
   "cell_type": "code",
   "execution_count": null,
   "id": "372fded9",
   "metadata": {},
   "outputs": [],
   "source": [
    "for i in 10,11:\n",
    "    print(i)"
   ]
  },
  {
   "cell_type": "code",
   "execution_count": null,
   "id": "8dd174cc",
   "metadata": {},
   "outputs": [],
   "source": [
    "x = (10,11)"
   ]
  },
  {
   "cell_type": "code",
   "execution_count": null,
   "id": "ef1b8f3e",
   "metadata": {},
   "outputs": [],
   "source": [
    "type(x)"
   ]
  },
  {
   "cell_type": "code",
   "execution_count": null,
   "id": "26165d00",
   "metadata": {},
   "outputs": [],
   "source": [
    "\n",
    "# map() is a built in function used for mapping\n",
    "\n",
    "import math"
   ]
  },
  {
   "cell_type": "code",
   "execution_count": null,
   "id": "518aaaa7",
   "metadata": {},
   "outputs": [],
   "source": [
    "((np.exp(-0.71)) * (0.71)**3) / math.factorial(3) + ((np.exp(-0.71)) * (0.71)**4) / math.factorial(4) +((np.exp(-0.71)) * (0.71)**5) / math.factorial(5) + ((np.exp(-0.71)) * (0.71)**6) / math.factorial(6)"
   ]
  },
  {
   "cell_type": "code",
   "execution_count": null,
   "id": "8bf266b0",
   "metadata": {},
   "outputs": [],
   "source": [
    "l = ['sumit','kumar']\n",
    "e = []"
   ]
  },
  {
   "cell_type": "markdown",
   "id": "a5730627",
   "metadata": {},
   "source": [
    "# map ()"
   ]
  },
  {
   "cell_type": "code",
   "execution_count": null,
   "id": "acd02566",
   "metadata": {},
   "outputs": [],
   "source": [
    "l = ['sumit','aditya','rohan']\n",
    "e = []\n",
    "for i in l:\n",
    "    e.append(i.upper())\n",
    "print(e)"
   ]
  },
  {
   "cell_type": "code",
   "execution_count": null,
   "id": "4c75328b",
   "metadata": {},
   "outputs": [],
   "source": []
  },
  {
   "cell_type": "code",
   "execution_count": null,
   "id": "3a81ffbf",
   "metadata": {},
   "outputs": [],
   "source": [
    "def convert(n):\n",
    "    return n.upper()"
   ]
  },
  {
   "cell_type": "code",
   "execution_count": null,
   "id": "6af255c9",
   "metadata": {},
   "outputs": [],
   "source": [
    "l = ['sumit','aditYA','kumar']\n",
    "list(map(convert,l))"
   ]
  },
  {
   "cell_type": "code",
   "execution_count": null,
   "id": "9fd03679",
   "metadata": {},
   "outputs": [],
   "source": [
    "list(map(lambda n:n.upper(),'sumity'))"
   ]
  },
  {
   "cell_type": "code",
   "execution_count": null,
   "id": "868e172b",
   "metadata": {},
   "outputs": [],
   "source": [
    "list(map(lambda n:n[0] if (n=='aditya') else n,['sumit','aditya','kumar']))"
   ]
  },
  {
   "cell_type": "code",
   "execution_count": null,
   "id": "dd4e9027",
   "metadata": {},
   "outputs": [],
   "source": []
  },
  {
   "cell_type": "code",
   "execution_count": null,
   "id": "f30bc4b2",
   "metadata": {},
   "outputs": [],
   "source": []
  },
  {
   "cell_type": "code",
   "execution_count": null,
   "id": "6b347d8c",
   "metadata": {},
   "outputs": [],
   "source": [
    "def farhenheit(T):\n",
    "    return (((T+32 * 5)) /9)\n",
    "def celsius(T):\n",
    "    return (((T-32) * 5) / 9 )\n",
    "\n",
    "\n",
    "temp = [0,22.5,40,100]   # temp in celcius"
   ]
  },
  {
   "cell_type": "code",
   "execution_count": null,
   "id": "ee9e419a",
   "metadata": {},
   "outputs": [],
   "source": [
    "temp1 = list(map(farhenheit,temp))\n",
    "temp1"
   ]
  },
  {
   "cell_type": "code",
   "execution_count": null,
   "id": "2fe27083",
   "metadata": {},
   "outputs": [],
   "source": [
    "list(map(celsius,temp1))"
   ]
  },
  {
   "cell_type": "code",
   "execution_count": null,
   "id": "6d46c013",
   "metadata": {},
   "outputs": [],
   "source": [
    "a   # farhenheit"
   ]
  },
  {
   "cell_type": "code",
   "execution_count": null,
   "id": "d4bfad14",
   "metadata": {},
   "outputs": [],
   "source": [
    "c = []\n",
    "for i in a:\n",
    "    c.append(celsius(i))\n",
    "c"
   ]
  },
  {
   "cell_type": "code",
   "execution_count": null,
   "id": "cc393632",
   "metadata": {},
   "outputs": [],
   "source": [
    "# now lets see using  map()"
   ]
  },
  {
   "cell_type": "code",
   "execution_count": null,
   "id": "c7e81bfc",
   "metadata": {},
   "outputs": [],
   "source": [
    "a = map(farhenheit,temp)\n",
    "b = list(a)\n",
    "b"
   ]
  },
  {
   "cell_type": "code",
   "execution_count": null,
   "id": "a058fc7c",
   "metadata": {},
   "outputs": [],
   "source": [
    "list(map(celsius,b))"
   ]
  },
  {
   "cell_type": "code",
   "execution_count": null,
   "id": "1e1402ef",
   "metadata": {},
   "outputs": [],
   "source": []
  },
  {
   "cell_type": "code",
   "execution_count": null,
   "id": "56995c6c",
   "metadata": {},
   "outputs": [],
   "source": [
    "def gen4(n):\n",
    "    for i in range(n):\n",
    "        yield i**4"
   ]
  },
  {
   "cell_type": "code",
   "execution_count": null,
   "id": "094d0fd7",
   "metadata": {},
   "outputs": [],
   "source": [
    "a = gen4(10)"
   ]
  },
  {
   "cell_type": "code",
   "execution_count": null,
   "id": "aa3c9299",
   "metadata": {},
   "outputs": [],
   "source": []
  },
  {
   "cell_type": "code",
   "execution_count": null,
   "id": "3bf7fa0d",
   "metadata": {},
   "outputs": [],
   "source": [
    "next(gen4(10))"
   ]
  },
  {
   "cell_type": "code",
   "execution_count": null,
   "id": "3cf50d40",
   "metadata": {},
   "outputs": [],
   "source": [
    "next(a)"
   ]
  },
  {
   "cell_type": "code",
   "execution_count": null,
   "id": "136eb115",
   "metadata": {},
   "outputs": [],
   "source": [
    "b = iter(a)"
   ]
  },
  {
   "cell_type": "code",
   "execution_count": null,
   "id": "be7c73a1",
   "metadata": {},
   "outputs": [],
   "source": [
    "b"
   ]
  },
  {
   "cell_type": "code",
   "execution_count": null,
   "id": "5b516fce",
   "metadata": {},
   "outputs": [],
   "source": [
    "l = ['appl','sumit','bindra']\n",
    "e = []\n",
    "for i in l:\n",
    "    \n",
    "    e.append(i[0])\n",
    "e"
   ]
  },
  {
   "cell_type": "code",
   "execution_count": null,
   "id": "af218e67",
   "metadata": {},
   "outputs": [],
   "source": [
    "map()"
   ]
  },
  {
   "cell_type": "code",
   "execution_count": null,
   "id": "9f8564c3",
   "metadata": {},
   "outputs": [],
   "source": [
    "def test(str1):\n",
    "    return str1[0]"
   ]
  },
  {
   "cell_type": "code",
   "execution_count": null,
   "id": "80791941",
   "metadata": {},
   "outputs": [],
   "source": [
    "list(map(lambda x:x[0],['sumit','dharmendra','anil']))"
   ]
  },
  {
   "cell_type": "code",
   "execution_count": null,
   "id": "27791fae",
   "metadata": {},
   "outputs": [],
   "source": []
  },
  {
   "cell_type": "code",
   "execution_count": null,
   "id": "787df7a3",
   "metadata": {},
   "outputs": [],
   "source": [
    "def test(m,n):\n",
    "    return m+n"
   ]
  },
  {
   "cell_type": "code",
   "execution_count": null,
   "id": "4d22dbcd",
   "metadata": {},
   "outputs": [],
   "source": [
    "a = [1,2,3]\n",
    "b = [5,6,7]\n",
    "c = [9,10,11]\n",
    "list(map(lambda m,n:m+n,a,b))"
   ]
  },
  {
   "cell_type": "markdown",
   "id": "8442d00f",
   "metadata": {},
   "source": [
    " f = lambda x,y:x+y\n",
    "f([1,2,3],[1,2,3])"
   ]
  },
  {
   "cell_type": "code",
   "execution_count": null,
   "id": "e1e2d8e2",
   "metadata": {},
   "outputs": [],
   "source": [
    "# now using map with lambda function\n",
    "\n",
    "list(map(lambda m,n:m+n,a,b))"
   ]
  },
  {
   "cell_type": "code",
   "execution_count": null,
   "id": "715aa8e2",
   "metadata": {},
   "outputs": [],
   "source": [
    "a = ['sumit','aditya','sagar']\n",
    "list(map(lambda x:len(x),a))"
   ]
  },
  {
   "cell_type": "code",
   "execution_count": null,
   "id": "ac803a66",
   "metadata": {},
   "outputs": [],
   "source": [
    "a = ['sumit','aditya','sagar']\n",
    "e=[]\n",
    "for i in a:\n",
    "    e.append(i.upper())\n",
    "e"
   ]
  },
  {
   "cell_type": "code",
   "execution_count": null,
   "id": "dee872ad",
   "metadata": {},
   "outputs": [],
   "source": [
    "a = [1,2,3,4,5]\n"
   ]
  },
  {
   "cell_type": "code",
   "execution_count": null,
   "id": "990f3dc9",
   "metadata": {},
   "outputs": [],
   "source": [
    "def test(i):\n",
    "    return i**3\n"
   ]
  },
  {
   "cell_type": "code",
   "execution_count": null,
   "id": "3917fd5b",
   "metadata": {},
   "outputs": [],
   "source": [
    "list(map(lambda i:i**3,a))"
   ]
  },
  {
   "cell_type": "code",
   "execution_count": null,
   "id": "d3c43a10",
   "metadata": {},
   "outputs": [],
   "source": [
    "def square(b):\n",
    "    return b*b\n"
   ]
  },
  {
   "cell_type": "code",
   "execution_count": null,
   "id": "f8f00674",
   "metadata": {},
   "outputs": [],
   "source": []
  },
  {
   "cell_type": "code",
   "execution_count": null,
   "id": "f74d1b0b",
   "metadata": {},
   "outputs": [],
   "source": [
    "b = list(map(square,a))"
   ]
  },
  {
   "cell_type": "code",
   "execution_count": null,
   "id": "ee89f833",
   "metadata": {},
   "outputs": [],
   "source": [
    "\n",
    "list(map(lambda x:x*x, a))"
   ]
  },
  {
   "cell_type": "code",
   "execution_count": null,
   "id": "35f015f6",
   "metadata": {},
   "outputs": [],
   "source": [
    "#reduce ()\n",
    "from functools import reduce\n",
    "lst = [4,1,4,3,7]\n",
    "reduce(lambda x,y:x+y,lst)\n",
    "\n",
    "# find the sum of a list \n",
    "# x = 47 , y =11 ........x = 47+11 ,y = 42"
   ]
  },
  {
   "cell_type": "code",
   "execution_count": null,
   "id": "b86cd889",
   "metadata": {},
   "outputs": [],
   "source": [
    "sum = 0\n",
    "for i in lst:\n",
    "    sum = sum+ i\n",
    "    print(sum)\n",
    "print(sum)"
   ]
  },
  {
   "cell_type": "code",
   "execution_count": null,
   "id": "8ebad887",
   "metadata": {},
   "outputs": [],
   "source": [
    "47+11+42+13+78"
   ]
  },
  {
   "cell_type": "code",
   "execution_count": null,
   "id": "18d86916",
   "metadata": {},
   "outputs": [],
   "source": [
    "#  finding the maximum value  of a sequence"
   ]
  },
  {
   "cell_type": "code",
   "execution_count": null,
   "id": "8189598a",
   "metadata": {},
   "outputs": [],
   "source": [
    "lst = [47,11,666,42,13,78]\n",
    "reduce(lambda a,b:a if (a>b) else b,lst)\n",
    "\n",
    "# 1st time 47>11 is true 47 now value of a = 47\n",
    "# 2nd time 47>42 is true 47 now value of a = 47 again\n"
   ]
  },
  {
   "cell_type": "code",
   "execution_count": null,
   "id": "01b60646",
   "metadata": {},
   "outputs": [],
   "source": [
    "b = lambda a,b:a if (a>b) else b\n",
    "map(lam,lst)"
   ]
  },
  {
   "cell_type": "code",
   "execution_count": null,
   "id": "1a2c6b5c",
   "metadata": {},
   "outputs": [],
   "source": [
    "[18,23,22,10,9,7,33]"
   ]
  },
  {
   "cell_type": "code",
   "execution_count": null,
   "id": "d00e140a",
   "metadata": {},
   "outputs": [],
   "source": []
  },
  {
   "cell_type": "code",
   "execution_count": null,
   "id": "17e6904c",
   "metadata": {},
   "outputs": [],
   "source": []
  },
  {
   "cell_type": "code",
   "execution_count": null,
   "id": "9229a0f9",
   "metadata": {},
   "outputs": [],
   "source": [
    "1>0 and 2>0"
   ]
  },
  {
   "cell_type": "markdown",
   "id": "6a4492b8",
   "metadata": {},
   "source": [
    "# map()"
   ]
  },
  {
   "cell_type": "code",
   "execution_count": null,
   "id": "2b90dde9",
   "metadata": {},
   "outputs": [],
   "source": [
    "#filter()\n",
    "list(filter(lambda x:x[0]=='s' and x[-1]=='p',['soap','sup','sumit','paris']))"
   ]
  },
  {
   "cell_type": "code",
   "execution_count": null,
   "id": "44988490",
   "metadata": {},
   "outputs": [],
   "source": [
    "list(filter(lambda x:x>10,[110,14,2,3,18]))"
   ]
  },
  {
   "cell_type": "code",
   "execution_count": null,
   "id": "5359ae45",
   "metadata": {},
   "outputs": [],
   "source": [
    "list(map(lambda x,y:x+ ' ' + y,['sumit','aditya','Sachin'],['kumar','singh','Tendulkar']))"
   ]
  },
  {
   "cell_type": "code",
   "execution_count": null,
   "id": "80fc7a04",
   "metadata": {},
   "outputs": [],
   "source": [
    "def even_check(num):\n",
    "    \n",
    "        return num%2 == 0"
   ]
  },
  {
   "cell_type": "code",
   "execution_count": null,
   "id": "8dd788dc",
   "metadata": {},
   "outputs": [],
   "source": [
    "#lst = range(10)   #[0,1,2,3......19]\n",
    "list(filter(even_check,[0,1,2,3,4,5,6,7,8,9]))"
   ]
  },
  {
   "cell_type": "code",
   "execution_count": null,
   "id": "6eff0d5d",
   "metadata": {},
   "outputs": [],
   "source": [
    "#try map to find data based on condition\n",
    "list(filter(lambda x: x%2 ==0,[0,1,2,3,4,5,6,7,8,9] ))"
   ]
  },
  {
   "cell_type": "code",
   "execution_count": null,
   "id": "3df7ac41",
   "metadata": {},
   "outputs": [],
   "source": [
    "x = 's'\n",
    "i == x.upper():\n",
    "    upper = upper +  i"
   ]
  },
  {
   "cell_type": "code",
   "execution_count": null,
   "id": "9d86b253",
   "metadata": {},
   "outputs": [],
   "source": [
    "list(filter(lambda x:x%2==1,lst))"
   ]
  },
  {
   "cell_type": "code",
   "execution_count": null,
   "id": "1f2249b3",
   "metadata": {},
   "outputs": [],
   "source": [
    "l1 = ['sumit','aditya','Sachin']\n",
    "for i in range(len(l1)):\n",
    "    print(l1[i],end = '')"
   ]
  },
  {
   "cell_type": "code",
   "execution_count": null,
   "id": "002cad0d",
   "metadata": {},
   "outputs": [],
   "source": [
    "reduce(lambda x:,['s','S','d','d','U'],)"
   ]
  },
  {
   "cell_type": "code",
   "execution_count": null,
   "id": "e80c3dcc",
   "metadata": {},
   "outputs": [],
   "source": [
    "#scope of  a variable"
   ]
  },
  {
   "cell_type": "code",
   "execution_count": null,
   "id": "788dd090",
   "metadata": {},
   "outputs": [],
   "source": [
    "list(filter(lambda x:x[0] == 's' or x[-1]=='p',))"
   ]
  },
  {
   "cell_type": "markdown",
   "id": "287cec4d",
   "metadata": {},
   "source": [
    "local scope and global scope"
   ]
  },
  {
   "cell_type": "code",
   "execution_count": null,
   "id": "dce6e59e",
   "metadata": {},
   "outputs": [],
   "source": [
    "# local scope "
   ]
  },
  {
   "cell_type": "code",
   "execution_count": null,
   "id": "58d3037f",
   "metadata": {},
   "outputs": [],
   "source": [
    "x = 11         #global variable\n",
    "def square():\n",
    "    global x\n",
    "    x = 10\n",
    "    print(x)\n",
    "               # local variable scope is limited to function\n",
    "\n",
    "print(x)\n",
    "print(name)"
   ]
  },
  {
   "cell_type": "code",
   "execution_count": null,
   "id": "f9deb12a",
   "metadata": {},
   "outputs": [],
   "source": [
    "['soap','sumit','sup','paris']"
   ]
  },
  {
   "cell_type": "code",
   "execution_count": null,
   "id": "27b2985d",
   "metadata": {},
   "outputs": [],
   "source": [
    "'sup' == 'sup '"
   ]
  },
  {
   "cell_type": "code",
   "execution_count": null,
   "id": "2991fe76",
   "metadata": {},
   "outputs": [],
   "source": [
    "x = 10\n",
    "def square(): \n",
    "    \n",
    "    y = 11\n",
    "    print('hi')\n",
    "    print(y)\n",
    "square()\n",
    "\n",
    "print(x)"
   ]
  },
  {
   "cell_type": "code",
   "execution_count": null,
   "id": "8c2de239",
   "metadata": {},
   "outputs": [],
   "source": [
    "def square():\n",
    "    global y\n",
    "    y = 10\n",
    "square()\n",
    "print(y)"
   ]
  },
  {
   "cell_type": "code",
   "execution_count": null,
   "id": "d338897b",
   "metadata": {},
   "outputs": [],
   "source": [
    "def square():\n",
    "    global r1\n",
    "    r1 = 10\n",
    "print(r1)"
   ]
  },
  {
   "cell_type": "code",
   "execution_count": null,
   "id": "0a1c7d11",
   "metadata": {},
   "outputs": [],
   "source": [
    "def square():\n",
    "    global x1\n",
    "    x1 = 10\n",
    "def square1():\n",
    "    x1 = 16\n",
    "square()\n",
    "square1()\n",
    "print(x1)"
   ]
  },
  {
   "cell_type": "code",
   "execution_count": null,
   "id": "2a5d2a44",
   "metadata": {},
   "outputs": [],
   "source": [
    "s1 = 10\n",
    "def s11():\n",
    "    \n",
    "    s1 = 11\n",
    "def s22():\n",
    "    s1 = 1\n",
    "    global s2\n",
    "    s2 = 10\n",
    "s11()\n",
    "print(s1)\n",
    "print(s2)"
   ]
  },
  {
   "cell_type": "code",
   "execution_count": null,
   "id": "b4ed7682",
   "metadata": {},
   "outputs": [],
   "source": [
    "import datetime as dt # this a alias name for datetime\n",
    "dir(dt)"
   ]
  },
  {
   "cell_type": "code",
   "execution_count": null,
   "id": "d5215e7c",
   "metadata": {},
   "outputs": [],
   "source": []
  },
  {
   "cell_type": "code",
   "execution_count": null,
   "id": "0a871a4b",
   "metadata": {},
   "outputs": [],
   "source": [
    "x = dt.datetime.now()\n",
    "print(x)"
   ]
  },
  {
   "cell_type": "code",
   "execution_count": null,
   "id": "4f1b31cc",
   "metadata": {},
   "outputs": [],
   "source": [
    "x = dt.datetime(1997,1,16)\n",
    "print(x)"
   ]
  },
  {
   "cell_type": "code",
   "execution_count": null,
   "id": "82662143",
   "metadata": {},
   "outputs": [],
   "source": [
    "#retrieving year\n",
    "x.strftime('%Y')"
   ]
  },
  {
   "cell_type": "code",
   "execution_count": null,
   "id": "42e9ca42",
   "metadata": {},
   "outputs": [],
   "source": [
    "x = dt.datetime.now() \n",
    "print(x)"
   ]
  },
  {
   "cell_type": "code",
   "execution_count": null,
   "id": "4fdc4be2",
   "metadata": {},
   "outputs": [],
   "source": [
    "x.strftime('%a')"
   ]
  },
  {
   "cell_type": "code",
   "execution_count": null,
   "id": "24e7c579",
   "metadata": {},
   "outputs": [],
   "source": [
    "x.strftime('%A')"
   ]
  },
  {
   "cell_type": "code",
   "execution_count": null,
   "id": "25fbc4b2",
   "metadata": {},
   "outputs": [],
   "source": [
    "x.strftime('%w')   # weekday as a number "
   ]
  },
  {
   "cell_type": "code",
   "execution_count": null,
   "id": "3850f55a",
   "metadata": {},
   "outputs": [],
   "source": [
    "x.strftime('%d')   # day of month"
   ]
  },
  {
   "cell_type": "code",
   "execution_count": null,
   "id": "a4709667",
   "metadata": {},
   "outputs": [],
   "source": [
    "x.strftime('%b')   # name of month"
   ]
  },
  {
   "cell_type": "code",
   "execution_count": null,
   "id": "b2c4e4bc",
   "metadata": {},
   "outputs": [],
   "source": [
    "x.strftime('%B')"
   ]
  },
  {
   "cell_type": "code",
   "execution_count": null,
   "id": "dc973435",
   "metadata": {},
   "outputs": [],
   "source": [
    "x.strftime('%I')   # current hour"
   ]
  },
  {
   "cell_type": "code",
   "execution_count": null,
   "id": "2588e2bb",
   "metadata": {},
   "outputs": [],
   "source": [
    "x.strftime('%y')  # current year short version"
   ]
  },
  {
   "cell_type": "code",
   "execution_count": null,
   "id": "0dbd1a48",
   "metadata": {
    "scrolled": true
   },
   "outputs": [],
   "source": [
    "x.strftime('%Y')"
   ]
  },
  {
   "cell_type": "code",
   "execution_count": null,
   "id": "3950382c",
   "metadata": {},
   "outputs": [],
   "source": [
    "# %f - microsecond ,%S for second "
   ]
  },
  {
   "cell_type": "code",
   "execution_count": null,
   "id": "35d8d751",
   "metadata": {},
   "outputs": [],
   "source": [
    "x.strftime('%f')"
   ]
  },
  {
   "cell_type": "code",
   "execution_count": null,
   "id": "ba81e7b3",
   "metadata": {},
   "outputs": [],
   "source": [
    "dir(dt)"
   ]
  },
  {
   "cell_type": "code",
   "execution_count": null,
   "id": "461deae1",
   "metadata": {},
   "outputs": [],
   "source": [
    "help(math.sqrt)"
   ]
  },
  {
   "cell_type": "code",
   "execution_count": null,
   "id": "1fc28c48",
   "metadata": {},
   "outputs": [],
   "source": [
    "# math functions \n",
    "import math\n",
    "dir(math)"
   ]
  },
  {
   "cell_type": "code",
   "execution_count": null,
   "id": "5f926640",
   "metadata": {},
   "outputs": [],
   "source": [
    "\n",
    "x = [22,33,110,12,33]\n",
    "y = (1,2,3,4,5)"
   ]
  },
  {
   "cell_type": "code",
   "execution_count": null,
   "id": "7355918f",
   "metadata": {},
   "outputs": [],
   "source": [
    "help(math.sqrt)"
   ]
  },
  {
   "cell_type": "code",
   "execution_count": null,
   "id": "eb13236f",
   "metadata": {},
   "outputs": [],
   "source": [
    "x.strftime('%x')"
   ]
  },
  {
   "cell_type": "code",
   "execution_count": null,
   "id": "a7e13c89",
   "metadata": {},
   "outputs": [],
   "source": [
    "x.strftime('%D')"
   ]
  },
  {
   "cell_type": "code",
   "execution_count": null,
   "id": "460a5499",
   "metadata": {},
   "outputs": [],
   "source": []
  },
  {
   "cell_type": "code",
   "execution_count": null,
   "id": "b2d21d36",
   "metadata": {},
   "outputs": [],
   "source": []
  },
  {
   "cell_type": "code",
   "execution_count": null,
   "id": "53476eb9",
   "metadata": {},
   "outputs": [],
   "source": [
    "# returns minimum value\n",
    "min_1 = min(x)"
   ]
  },
  {
   "cell_type": "code",
   "execution_count": null,
   "id": "7a8c89a9",
   "metadata": {},
   "outputs": [],
   "source": [
    "# max()\n",
    "max(x)"
   ]
  },
  {
   "cell_type": "code",
   "execution_count": null,
   "id": "b0053ddc",
   "metadata": {},
   "outputs": [],
   "source": [
    "# abs() gives you th absolute +ve value of the variable\n",
    "x = -10.888\n",
    "abs(x)"
   ]
  },
  {
   "cell_type": "code",
   "execution_count": null,
   "id": "aaf892fc",
   "metadata": {},
   "outputs": [],
   "source": [
    "y = abs(-10)\n",
    "print(abs(y))\n",
    "print(y)"
   ]
  },
  {
   "cell_type": "code",
   "execution_count": null,
   "id": "692805c6",
   "metadata": {},
   "outputs": [],
   "source": [
    "# power ()\n",
    "p = pow(2,5)\n",
    "p"
   ]
  },
  {
   "cell_type": "code",
   "execution_count": null,
   "id": "5ed60428",
   "metadata": {},
   "outputs": [],
   "source": [
    "import math\n",
    "dir(math)\n"
   ]
  },
  {
   "cell_type": "code",
   "execution_count": null,
   "id": "4efb028b",
   "metadata": {},
   "outputs": [],
   "source": [
    "y = 100\n",
    "x = math.sqrt(y)\n",
    "x"
   ]
  },
  {
   "cell_type": "code",
   "execution_count": null,
   "id": "d0f15442",
   "metadata": {},
   "outputs": [],
   "source": [
    "# ceil()- takes upper value of integer and floor() - takes lower value of ingteger\n",
    "x = 3.1\n",
    "y = math.ceil(x)\n",
    "y\n"
   ]
  },
  {
   "cell_type": "code",
   "execution_count": null,
   "id": "ee5076fa",
   "metadata": {},
   "outputs": [],
   "source": [
    "x = 2.9\n",
    "y = math.floor(x)\n",
    "y"
   ]
  },
  {
   "cell_type": "code",
   "execution_count": null,
   "id": "f959df7c",
   "metadata": {},
   "outputs": [],
   "source": [
    "math.log(10000)"
   ]
  },
  {
   "cell_type": "code",
   "execution_count": null,
   "id": "4098f602",
   "metadata": {},
   "outputs": [],
   "source": [
    "1/4"
   ]
  },
  {
   "cell_type": "code",
   "execution_count": null,
   "id": "2f19bca2",
   "metadata": {},
   "outputs": [],
   "source": [
    "math.exp(3)"
   ]
  },
  {
   "cell_type": "code",
   "execution_count": null,
   "id": "b79f123f",
   "metadata": {},
   "outputs": [],
   "source": []
  },
  {
   "cell_type": "code",
   "execution_count": null,
   "id": "f1e561d6",
   "metadata": {},
   "outputs": [],
   "source": [
    "import numpy as np"
   ]
  },
  {
   "cell_type": "code",
   "execution_count": null,
   "id": "3eaae4e3",
   "metadata": {},
   "outputs": [],
   "source": [
    "np.median([1,2,3,1,1,1])"
   ]
  },
  {
   "cell_type": "code",
   "execution_count": null,
   "id": "80a567c1",
   "metadata": {},
   "outputs": [],
   "source": [
    "np.mean([1,2,3,1,1,1])"
   ]
  },
  {
   "cell_type": "code",
   "execution_count": null,
   "id": "5b8e5cf9",
   "metadata": {},
   "outputs": [],
   "source": [
    "from scipy import stats"
   ]
  },
  {
   "cell_type": "code",
   "execution_count": null,
   "id": "813f8b70",
   "metadata": {},
   "outputs": [],
   "source": [
    "stats.mode([1,2,3,1,1,1])"
   ]
  },
  {
   "cell_type": "code",
   "execution_count": null,
   "id": "e399913f",
   "metadata": {},
   "outputs": [],
   "source": []
  },
  {
   "cell_type": "code",
   "execution_count": null,
   "id": "ae69e7fd",
   "metadata": {},
   "outputs": [],
   "source": [
    "def test(x):\n",
    "    \n",
    "    if x[0]== 's' and x[-1]=='p':\n",
    "        return x   \n",
    "    "
   ]
  },
  {
   "cell_type": "code",
   "execution_count": null,
   "id": "02393442",
   "metadata": {},
   "outputs": [],
   "source": [
    "a = ['soap','sharp','shy','silent','summer','suuuup']\n",
    "b = list(map(test,a))"
   ]
  },
  {
   "cell_type": "code",
   "execution_count": null,
   "id": "cea21f53",
   "metadata": {},
   "outputs": [],
   "source": [
    "b.pop(2)"
   ]
  },
  {
   "cell_type": "code",
   "execution_count": null,
   "id": "1517ca98",
   "metadata": {},
   "outputs": [],
   "source": [
    "b.pop(2)"
   ]
  },
  {
   "cell_type": "code",
   "execution_count": null,
   "id": "7935d84b",
   "metadata": {},
   "outputs": [],
   "source": []
  },
  {
   "cell_type": "code",
   "execution_count": null,
   "id": "232997b8",
   "metadata": {},
   "outputs": [],
   "source": [
    "import numpy as np\n",
    "d = np.mat('1 2 3;2 3 4; 3 4 5')\n",
    "np.asarray(d)"
   ]
  },
  {
   "cell_type": "code",
   "execution_count": null,
   "id": "6d055e1a",
   "metadata": {},
   "outputs": [],
   "source": [
    "def test():\n",
    "    "
   ]
  },
  {
   "cell_type": "code",
   "execution_count": null,
   "id": "3556f12f",
   "metadata": {},
   "outputs": [],
   "source": []
  },
  {
   "cell_type": "code",
   "execution_count": null,
   "id": "470aabcd",
   "metadata": {},
   "outputs": [],
   "source": [
    "map(test,[1,2,3,2,3,4,3,4,5])"
   ]
  },
  {
   "cell_type": "code",
   "execution_count": null,
   "id": "9791fab1",
   "metadata": {},
   "outputs": [],
   "source": [
    "# working with files - file handling"
   ]
  },
  {
   "cell_type": "code",
   "execution_count": null,
   "id": "d2c843a0",
   "metadata": {},
   "outputs": [],
   "source": [
    "pwd() # present working directory"
   ]
  },
  {
   "cell_type": "code",
   "execution_count": null,
   "id": "971e3366",
   "metadata": {},
   "outputs": [],
   "source": [
    "file = open('sumit11.txt','r')\n"
   ]
  },
  {
   "cell_type": "code",
   "execution_count": null,
   "id": "034df819",
   "metadata": {},
   "outputs": [],
   "source": []
  },
  {
   "cell_type": "code",
   "execution_count": null,
   "id": "3150e7be",
   "metadata": {},
   "outputs": [],
   "source": [
    "for i in file:\n",
    "    print(i)"
   ]
  },
  {
   "cell_type": "code",
   "execution_count": null,
   "id": "cf9408eb",
   "metadata": {},
   "outputs": [],
   "source": [
    "file.read()"
   ]
  },
  {
   "cell_type": "code",
   "execution_count": null,
   "id": "e211a1b3",
   "metadata": {},
   "outputs": [],
   "source": [
    "file.seek(0)"
   ]
  },
  {
   "cell_type": "code",
   "execution_count": null,
   "id": "76206b44",
   "metadata": {},
   "outputs": [],
   "source": [
    "file.readlines(2)"
   ]
  },
  {
   "cell_type": "code",
   "execution_count": null,
   "id": "976340f8",
   "metadata": {},
   "outputs": [],
   "source": [
    "file.readlines()"
   ]
  },
  {
   "cell_type": "code",
   "execution_count": null,
   "id": "e7cbf2cc",
   "metadata": {},
   "outputs": [],
   "source": [
    "file.seek(0)"
   ]
  },
  {
   "cell_type": "code",
   "execution_count": null,
   "id": "f317cfe5",
   "metadata": {
    "scrolled": true
   },
   "outputs": [],
   "source": [
    "counter = 0\n",
    "for i in file.readlines():\n",
    "    counter = counter +1\n",
    "    if counter % 2 ==0:\n",
    "        print (i)\n",
    "        \n",
    "        \n",
    "    "
   ]
  },
  {
   "cell_type": "code",
   "execution_count": null,
   "id": "342005ea",
   "metadata": {},
   "outputs": [],
   "source": [
    "0%2"
   ]
  },
  {
   "cell_type": "code",
   "execution_count": null,
   "id": "2f217bbb",
   "metadata": {},
   "outputs": [],
   "source": []
  },
  {
   "cell_type": "code",
   "execution_count": null,
   "id": "452f41cb",
   "metadata": {},
   "outputs": [],
   "source": []
  },
  {
   "cell_type": "code",
   "execution_count": null,
   "id": "f0e40f86",
   "metadata": {},
   "outputs": [],
   "source": []
  },
  {
   "cell_type": "code",
   "execution_count": null,
   "id": "f47b6ded",
   "metadata": {},
   "outputs": [],
   "source": [
    "file.read()"
   ]
  },
  {
   "cell_type": "code",
   "execution_count": null,
   "id": "0b107dd8",
   "metadata": {},
   "outputs": [],
   "source": [
    "print(file.read())\n",
    "file.seek(0)"
   ]
  },
  {
   "cell_type": "code",
   "execution_count": null,
   "id": "5607f11a",
   "metadata": {},
   "outputs": [],
   "source": [
    "# read() for reading the file content\n",
    "#print(file.read())\n",
    "file.read()"
   ]
  },
  {
   "cell_type": "code",
   "execution_count": null,
   "id": "6c58c020",
   "metadata": {},
   "outputs": [],
   "source": [
    "# reading speicied number of characters from a file\n",
    "print(file.read(20))"
   ]
  },
  {
   "cell_type": "code",
   "execution_count": null,
   "id": "47cf9737",
   "metadata": {},
   "outputs": [],
   "source": [
    "file.read()"
   ]
  },
  {
   "cell_type": "code",
   "execution_count": null,
   "id": "8a5a3ee7",
   "metadata": {},
   "outputs": [],
   "source": [
    "file.seek(0)\n"
   ]
  },
  {
   "cell_type": "code",
   "execution_count": null,
   "id": "2cfdde8f",
   "metadata": {},
   "outputs": [],
   "source": [
    "# it reads single line\n",
    "list(filter(lambda x:x=='\\n',file.readline()))"
   ]
  },
  {
   "cell_type": "code",
   "execution_count": null,
   "id": "ce794010",
   "metadata": {},
   "outputs": [],
   "source": [
    "for i in file.read():\n",
    "    print(file.readline())"
   ]
  },
  {
   "cell_type": "code",
   "execution_count": null,
   "id": "c43e4268",
   "metadata": {},
   "outputs": [],
   "source": [
    "file.seek(0)\n"
   ]
  },
  {
   "cell_type": "code",
   "execution_count": null,
   "id": "a2bdf424",
   "metadata": {},
   "outputs": [],
   "source": [
    "file.readline(2)"
   ]
  },
  {
   "cell_type": "code",
   "execution_count": null,
   "id": "a9008a0b",
   "metadata": {},
   "outputs": [],
   "source": [
    "file.readline()"
   ]
  },
  {
   "cell_type": "code",
   "execution_count": null,
   "id": "995fbd80",
   "metadata": {},
   "outputs": [],
   "source": [
    "file = open('')"
   ]
  },
  {
   "cell_type": "code",
   "execution_count": null,
   "id": "1ac5af37",
   "metadata": {},
   "outputs": [],
   "source": []
  },
  {
   "cell_type": "code",
   "execution_count": null,
   "id": "625478e6",
   "metadata": {},
   "outputs": [],
   "source": [
    "for i in file:\n",
    "    print(i)"
   ]
  },
  {
   "cell_type": "code",
   "execution_count": null,
   "id": "88c8b5f3",
   "metadata": {},
   "outputs": [],
   "source": [
    "file.close()"
   ]
  },
  {
   "cell_type": "code",
   "execution_count": null,
   "id": "f3d48459",
   "metadata": {},
   "outputs": [],
   "source": [
    "file.read()"
   ]
  },
  {
   "cell_type": "code",
   "execution_count": null,
   "id": "c052aebc",
   "metadata": {},
   "outputs": [],
   "source": [
    "file.write('and sagar is laerning python')"
   ]
  },
  {
   "cell_type": "code",
   "execution_count": null,
   "id": "0a2386c5",
   "metadata": {},
   "outputs": [],
   "source": [
    "file = open(r'C:\\Users\\virug\\Desktop\\sumit.txt')"
   ]
  },
  {
   "cell_type": "code",
   "execution_count": null,
   "id": "d74ce1a1",
   "metadata": {},
   "outputs": [],
   "source": []
  },
  {
   "cell_type": "code",
   "execution_count": null,
   "id": "4252e474",
   "metadata": {},
   "outputs": [],
   "source": []
  },
  {
   "cell_type": "code",
   "execution_count": null,
   "id": "edcf9ae2",
   "metadata": {},
   "outputs": [],
   "source": [
    "print(file.read())"
   ]
  },
  {
   "cell_type": "code",
   "execution_count": null,
   "id": "0242206d",
   "metadata": {},
   "outputs": [],
   "source": [
    "file.close()"
   ]
  },
  {
   "cell_type": "code",
   "execution_count": null,
   "id": "4e2c1e45",
   "metadata": {},
   "outputs": [],
   "source": []
  },
  {
   "cell_type": "code",
   "execution_count": null,
   "id": "f6f4bea9",
   "metadata": {},
   "outputs": [],
   "source": [
    "d = open(r'C:\\Users\\virug\\Desktop\\sumit11.txt','a')"
   ]
  },
  {
   "cell_type": "code",
   "execution_count": null,
   "id": "9b729ef5",
   "metadata": {},
   "outputs": [],
   "source": [
    "d.write('i am sumit  ')"
   ]
  },
  {
   "cell_type": "code",
   "execution_count": null,
   "id": "3accf341",
   "metadata": {},
   "outputs": [],
   "source": [
    "d.close()"
   ]
  },
  {
   "cell_type": "code",
   "execution_count": null,
   "id": "a0c88cb7",
   "metadata": {},
   "outputs": [],
   "source": []
  },
  {
   "cell_type": "code",
   "execution_count": null,
   "id": "d747482b",
   "metadata": {},
   "outputs": [],
   "source": [
    "file = open('teach.txt','a+')"
   ]
  },
  {
   "cell_type": "code",
   "execution_count": null,
   "id": "8efbc94e",
   "metadata": {},
   "outputs": [],
   "source": [
    "file.write('hi my name is sumit')"
   ]
  },
  {
   "cell_type": "code",
   "execution_count": null,
   "id": "abb75ec9",
   "metadata": {},
   "outputs": [],
   "source": [
    "file.close()"
   ]
  },
  {
   "cell_type": "code",
   "execution_count": null,
   "id": "6a9037b0",
   "metadata": {},
   "outputs": [],
   "source": [
    "file = open('teach.txt','a+')"
   ]
  },
  {
   "cell_type": "code",
   "execution_count": null,
   "id": "43b6bf4d",
   "metadata": {},
   "outputs": [],
   "source": [
    "file.read()"
   ]
  },
  {
   "cell_type": "code",
   "execution_count": null,
   "id": "b078419d",
   "metadata": {},
   "outputs": [],
   "source": [
    "file.seek(0)"
   ]
  },
  {
   "cell_type": "code",
   "execution_count": null,
   "id": "cf7e87f5",
   "metadata": {},
   "outputs": [],
   "source": [
    "file.read()"
   ]
  },
  {
   "cell_type": "code",
   "execution_count": null,
   "id": "fef50b6c",
   "metadata": {},
   "outputs": [],
   "source": []
  },
  {
   "cell_type": "code",
   "execution_count": null,
   "id": "22d265ec",
   "metadata": {},
   "outputs": [],
   "source": [
    "file = open('teach.txt','w')"
   ]
  },
  {
   "cell_type": "code",
   "execution_count": null,
   "id": "0f7420f0",
   "metadata": {},
   "outputs": [],
   "source": [
    "file.seekable()"
   ]
  },
  {
   "cell_type": "code",
   "execution_count": null,
   "id": "b761a5f7",
   "metadata": {},
   "outputs": [],
   "source": [
    "file.seek(0)"
   ]
  },
  {
   "cell_type": "code",
   "execution_count": null,
   "id": "82e9fd06",
   "metadata": {},
   "outputs": [],
   "source": [
    "file.write('my name')"
   ]
  },
  {
   "cell_type": "code",
   "execution_count": null,
   "id": "ea1b42ac",
   "metadata": {},
   "outputs": [],
   "source": [
    "file.seek(0)"
   ]
  },
  {
   "cell_type": "code",
   "execution_count": null,
   "id": "6ebf3beb",
   "metadata": {},
   "outputs": [],
   "source": [
    "file.read()"
   ]
  },
  {
   "cell_type": "code",
   "execution_count": null,
   "id": "4887d786",
   "metadata": {},
   "outputs": [],
   "source": [
    "file = open('sumit11.txt', 'w')"
   ]
  },
  {
   "cell_type": "code",
   "execution_count": null,
   "id": "f193eac6",
   "metadata": {},
   "outputs": [],
   "source": [
    "file.read()"
   ]
  },
  {
   "cell_type": "code",
   "execution_count": null,
   "id": "18e11383",
   "metadata": {},
   "outputs": [],
   "source": [
    "file.seek(0)"
   ]
  },
  {
   "cell_type": "code",
   "execution_count": null,
   "id": "33c43e62",
   "metadata": {},
   "outputs": [],
   "source": [
    "for i in file:\n",
    "    print(i)"
   ]
  },
  {
   "cell_type": "code",
   "execution_count": null,
   "id": "0ad7baca",
   "metadata": {},
   "outputs": [],
   "source": [
    "file.write('hi how are you')"
   ]
  },
  {
   "cell_type": "code",
   "execution_count": null,
   "id": "506b5ef8",
   "metadata": {},
   "outputs": [],
   "source": [
    "file.read()"
   ]
  },
  {
   "cell_type": "code",
   "execution_count": null,
   "id": "386f51d7",
   "metadata": {},
   "outputs": [],
   "source": [
    "file.write('india')"
   ]
  },
  {
   "cell_type": "code",
   "execution_count": null,
   "id": "8bd47d95",
   "metadata": {},
   "outputs": [],
   "source": [
    "file.seek(0)"
   ]
  },
  {
   "cell_type": "code",
   "execution_count": null,
   "id": "ce58da2e",
   "metadata": {},
   "outputs": [],
   "source": [
    "file.read()"
   ]
  },
  {
   "cell_type": "code",
   "execution_count": null,
   "id": "2f62dc13",
   "metadata": {},
   "outputs": [],
   "source": [
    "file.close()"
   ]
  },
  {
   "cell_type": "code",
   "execution_count": null,
   "id": "3fa795cc",
   "metadata": {},
   "outputs": [],
   "source": [
    "f = "
   ]
  },
  {
   "cell_type": "code",
   "execution_count": null,
   "id": "74f249d6",
   "metadata": {},
   "outputs": [],
   "source": [
    "file.write('pakistan')"
   ]
  },
  {
   "cell_type": "code",
   "execution_count": null,
   "id": "9a7e600d",
   "metadata": {},
   "outputs": [],
   "source": [
    "file.close()"
   ]
  },
  {
   "cell_type": "code",
   "execution_count": null,
   "id": "e87b4d29",
   "metadata": {},
   "outputs": [],
   "source": [
    "file.write('india world cup')"
   ]
  },
  {
   "cell_type": "code",
   "execution_count": null,
   "id": "dab79b92",
   "metadata": {},
   "outputs": [],
   "source": [
    "file.seekable"
   ]
  },
  {
   "cell_type": "code",
   "execution_count": null,
   "id": "65b641f3",
   "metadata": {},
   "outputs": [],
   "source": [
    "file.close()"
   ]
  },
  {
   "cell_type": "code",
   "execution_count": null,
   "id": "85cd0bb5",
   "metadata": {},
   "outputs": [],
   "source": [
    "file = open('sumit11.txt','w+')\n"
   ]
  },
  {
   "cell_type": "code",
   "execution_count": null,
   "id": "73855314",
   "metadata": {},
   "outputs": [],
   "source": [
    "file.write('australia')"
   ]
  },
  {
   "cell_type": "code",
   "execution_count": null,
   "id": "55c8900f",
   "metadata": {},
   "outputs": [],
   "source": [
    "file.write('usa')"
   ]
  },
  {
   "cell_type": "code",
   "execution_count": null,
   "id": "b5915b09",
   "metadata": {},
   "outputs": [],
   "source": [
    "file.write('england')"
   ]
  },
  {
   "cell_type": "code",
   "execution_count": null,
   "id": "0d294467",
   "metadata": {},
   "outputs": [],
   "source": [
    "file.close()"
   ]
  },
  {
   "cell_type": "code",
   "execution_count": null,
   "id": "4b9cdc28",
   "metadata": {},
   "outputs": [],
   "source": [
    "file = open('sumit11.txt','w')"
   ]
  },
  {
   "cell_type": "code",
   "execution_count": null,
   "id": "d2301674",
   "metadata": {},
   "outputs": [],
   "source": [
    "file.write('sd')"
   ]
  },
  {
   "cell_type": "code",
   "execution_count": null,
   "id": "a9a5c1b1",
   "metadata": {},
   "outputs": [],
   "source": [
    "file.write('df')"
   ]
  },
  {
   "cell_type": "code",
   "execution_count": null,
   "id": "c13f1a3c",
   "metadata": {},
   "outputs": [],
   "source": [
    "file.close()"
   ]
  },
  {
   "cell_type": "code",
   "execution_count": null,
   "id": "fc7593d7",
   "metadata": {},
   "outputs": [],
   "source": [
    "file = open('sumit11.txt','a')"
   ]
  },
  {
   "cell_type": "code",
   "execution_count": null,
   "id": "d242c475",
   "metadata": {},
   "outputs": [],
   "source": [
    "file.write('australi')"
   ]
  },
  {
   "cell_type": "code",
   "execution_count": null,
   "id": "0ce51155",
   "metadata": {},
   "outputs": [],
   "source": [
    "file.write('india')"
   ]
  },
  {
   "cell_type": "code",
   "execution_count": null,
   "id": "3a089e0a",
   "metadata": {},
   "outputs": [],
   "source": [
    "file.close()"
   ]
  },
  {
   "cell_type": "code",
   "execution_count": null,
   "id": "643f34ec",
   "metadata": {},
   "outputs": [],
   "source": [
    "file = open('dharmendra','w')"
   ]
  },
  {
   "cell_type": "code",
   "execution_count": null,
   "id": "1dd00ae4",
   "metadata": {},
   "outputs": [],
   "source": [
    "file = open('dharmendra1','a')"
   ]
  },
  {
   "cell_type": "code",
   "execution_count": null,
   "id": "02e0cc8e",
   "metadata": {},
   "outputs": [],
   "source": [
    "file = open('dh.txt')"
   ]
  },
  {
   "cell_type": "code",
   "execution_count": null,
   "id": "cea32752",
   "metadata": {},
   "outputs": [],
   "source": [
    "10/0"
   ]
  },
  {
   "cell_type": "code",
   "execution_count": null,
   "id": "729eef32",
   "metadata": {},
   "outputs": [],
   "source": [
    "try:\n",
    "    a = int(input('enter  value of a:'))\n",
    "    b = int(input('enter value of b:'))\n",
    "    c = a/b\n",
    "except:\n",
    "    print('error')\n",
    "    "
   ]
  },
  {
   "cell_type": "code",
   "execution_count": null,
   "id": "e65e8d47",
   "metadata": {},
   "outputs": [],
   "source": [
    "file = open('s.txt')"
   ]
  },
  {
   "cell_type": "code",
   "execution_count": null,
   "id": "ed629b43",
   "metadata": {},
   "outputs": [],
   "source": [
    "int(input())"
   ]
  },
  {
   "cell_type": "code",
   "execution_count": null,
   "id": "9d15386b",
   "metadata": {},
   "outputs": [],
   "source": [
    "try:\n",
    "     file = open('s.txt')\n",
    "    \n",
    "except:\n",
    "    print('file does not exist')"
   ]
  },
  {
   "cell_type": "code",
   "execution_count": null,
   "id": "1859215c",
   "metadata": {},
   "outputs": [],
   "source": [
    "try :\n",
    "    a = int(input())\n",
    "    b = int(input())\n",
    "    c = a + b\n",
    "except:\n",
    "    print('exception block')\n",
    "else:\n",
    "    print('else')"
   ]
  },
  {
   "cell_type": "code",
   "execution_count": null,
   "id": "850153be",
   "metadata": {},
   "outputs": [],
   "source": [
    "while True:\n",
    "    try :\n",
    "        a = int(input())\n",
    "        b = int(input())\n",
    "        c = a + b\n",
    "    except:\n",
    "        print('please enter again!!!')\n",
    "        continue\n",
    "    else:\n",
    "        print('else')\n",
    "        break\n",
    "        "
   ]
  },
  {
   "cell_type": "code",
   "execution_count": null,
   "id": "27bb931b",
   "metadata": {},
   "outputs": [],
   "source": [
    "try:\n",
    "    pass\n",
    "except:\n",
    "    pass\n",
    "else:\n",
    "    pass\n",
    "finally:\n",
    "    "
   ]
  },
  {
   "cell_type": "code",
   "execution_count": null,
   "id": "b1cfe94d",
   "metadata": {},
   "outputs": [],
   "source": [
    "9/0"
   ]
  },
  {
   "cell_type": "code",
   "execution_count": null,
   "id": "b133ef2d",
   "metadata": {},
   "outputs": [],
   "source": [
    "'s' +9"
   ]
  },
  {
   "cell_type": "code",
   "execution_count": null,
   "id": "549a4d90",
   "metadata": {},
   "outputs": [],
   "source": [
    "2 + 's'"
   ]
  },
  {
   "cell_type": "code",
   "execution_count": null,
   "id": "b8bbcc58",
   "metadata": {},
   "outputs": [],
   "source": [
    "try :\n",
    "    a = (input())\n",
    "    b = (input())\n",
    "    c = a/b\n",
    "\n",
    "\n",
    "except ValueError:\n",
    "    print(' please provide correct value')\n",
    "except ZeroDivisionError:\n",
    "    print('divided by zero')\n",
    "except TypeError:\n",
    "    print(' data type error')\n",
    "except Exception:\n",
    "    print('exception')"
   ]
  },
  {
   "cell_type": "code",
   "execution_count": null,
   "id": "d7e5c641",
   "metadata": {},
   "outputs": [],
   "source": [
    "try :\n",
    "    a = int(input())\n",
    "    b = int(input())\n",
    "    c = a/b\n",
    "\n",
    "except ZeroDivisionError:\n",
    "    print(' please provide correct value')\n",
    "except ZeroDivisionError:\n",
    "    print(' please provide correct value1')\n",
    "else:\n",
    "    print('else block')\n",
    "finally:\n",
    "    print('finally block')"
   ]
  },
  {
   "cell_type": "code",
   "execution_count": null,
   "id": "61aa887f",
   "metadata": {},
   "outputs": [],
   "source": [
    "try:\n",
    "    a = 10\n",
    "\n",
    "\n",
    "else:\n",
    "    print('s')\n",
    "finally:\n",
    "    x = 1"
   ]
  },
  {
   "cell_type": "code",
   "execution_count": null,
   "id": "445476f4",
   "metadata": {},
   "outputs": [],
   "source": []
  },
  {
   "cell_type": "code",
   "execution_count": null,
   "id": "00c65d4c",
   "metadata": {},
   "outputs": [],
   "source": []
  },
  {
   "cell_type": "code",
   "execution_count": null,
   "id": "c9149e5d",
   "metadata": {},
   "outputs": [],
   "source": []
  }
 ],
 "metadata": {
  "kernelspec": {
   "display_name": "Python 3 (ipykernel)",
   "language": "python",
   "name": "python3"
  },
  "language_info": {
   "codemirror_mode": {
    "name": "ipython",
    "version": 3
   },
   "file_extension": ".py",
   "mimetype": "text/x-python",
   "name": "python",
   "nbconvert_exporter": "python",
   "pygments_lexer": "ipython3",
   "version": "3.11.3"
  }
 },
 "nbformat": 4,
 "nbformat_minor": 5
}
