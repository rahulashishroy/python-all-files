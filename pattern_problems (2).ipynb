{
 "cells": [
  {
   "cell_type": "markdown",
   "id": "d68c49f3",
   "metadata": {},
   "source": [
    "1\n",
    "2 2\n",
    "3 3 3\n",
    "4 4 4 4\n",
    "5 5 5 5 5\n",
    "6 6 6 6 6 6"
   ]
  },
  {
   "cell_type": "code",
   "execution_count": 3,
   "id": "9d736e59",
   "metadata": {},
   "outputs": [
    {
     "name": "stdout",
     "output_type": "stream",
     "text": [
      " enter no rows5\n",
      "\n",
      "*\n",
      "**\n",
      "***\n",
      "****\n"
     ]
    }
   ],
   "source": [
    "rows = int(input (' enter no rows'))\n",
    "for i in range(rows):\n",
    "    for j in range(i):\n",
    "        print('*',end = '')\n",
    "    print()                 # this is for moving to next line\n",
    "\n",
    "\n",
    "        \n",
    "# i = 2 >>> j - range(2) - 0,1 >> 2 2     \n",
    "# i = 3 >>> j - range(3) - 0,1,2 >> 3 3 3 \n",
    "# i = 4 >>> j - range(4) - 0,1,2,3 >>4 4 4 4"
   ]
  },
  {
   "cell_type": "code",
   "execution_count": 9,
   "id": "da74a9fe",
   "metadata": {},
   "outputs": [
    {
     "data": {
      "text/plain": [
       "[0]"
      ]
     },
     "execution_count": 9,
     "metadata": {},
     "output_type": "execute_result"
    }
   ],
   "source": [
    "list(range(1))"
   ]
  },
  {
   "cell_type": "code",
   "execution_count": 2,
   "id": "0abdac91",
   "metadata": {},
   "outputs": [
    {
     "name": "stdout",
     "output_type": "stream",
     "text": [
      "01234"
     ]
    }
   ],
   "source": [
    "for i in range(5):\n",
    "    print(i,end = '')\n",
    "print()"
   ]
  },
  {
   "cell_type": "markdown",
   "id": "4fdb470c",
   "metadata": {},
   "source": [
    "**"
   ]
  },
  {
   "cell_type": "code",
   "execution_count": null,
   "id": "29a0e461",
   "metadata": {},
   "outputs": [],
   "source": [
    "****\n",
    "****\n",
    "****\n",
    "****"
   ]
  },
  {
   "cell_type": "code",
   "execution_count": 6,
   "id": "f55267d0",
   "metadata": {},
   "outputs": [
    {
     "name": "stdout",
     "output_type": "stream",
     "text": [
      "size of square10\n",
      "**********\n",
      "**********\n",
      "**********\n",
      "**********\n",
      "**********\n",
      "**********\n",
      "**********\n",
      "**********\n",
      "**********\n",
      "**********\n"
     ]
    }
   ],
   "source": [
    "size = int(input('size of square'))\n",
    "for i in range(size):\n",
    "    for j in range(size):\n",
    "        print('*' , end = '')\n",
    "    print()"
   ]
  },
  {
   "cell_type": "code",
   "execution_count": 7,
   "id": "81f4cd2f",
   "metadata": {},
   "outputs": [
    {
     "ename": "SyntaxError",
     "evalue": "invalid syntax (1863682095.py, line 1)",
     "output_type": "error",
     "traceback": [
      "\u001b[1;36m  Input \u001b[1;32mIn [7]\u001b[1;36m\u001b[0m\n\u001b[1;33m    ****\u001b[0m\n\u001b[1;37m    ^\u001b[0m\n\u001b[1;31mSyntaxError\u001b[0m\u001b[1;31m:\u001b[0m invalid syntax\n"
     ]
    }
   ],
   "source": []
  },
  {
   "cell_type": "code",
   "execution_count": null,
   "id": "96a30abc",
   "metadata": {},
   "outputs": [],
   "source": [
    "*****\n",
    "*   *\n",
    "*   *\n",
    "*****\n"
   ]
  },
  {
   "cell_type": "code",
   "execution_count": 24,
   "id": "ba0c9c2d",
   "metadata": {},
   "outputs": [
    {
     "name": "stdout",
     "output_type": "stream",
     "text": [
      "enter no of row6\n",
      "enter no of column6\n",
      "******\n",
      "*    *\n",
      "*    *\n",
      "*    *\n",
      "*    *\n",
      "******\n"
     ]
    }
   ],
   "source": [
    "row = int(input('enter no of row'))\n",
    "col = int(input('enter no of column'))\n",
    "for i in range(row):\n",
    "    for j in range(col):\n",
    "        if (i == 0 or i == row-1 or j==0 or j == col-1):\n",
    "            print('*',end = '')\n",
    "        else:\n",
    "            print(' ',end = '')\n",
    "    print()\n",
    "        "
   ]
  },
  {
   "cell_type": "code",
   "execution_count": 11,
   "id": "1bf972b7",
   "metadata": {},
   "outputs": [
    {
     "name": "stdout",
     "output_type": "stream",
     "text": [
      "\n",
      "\n",
      "*\n",
      "*\n",
      "**\n",
      "**\n",
      "***\n",
      "***\n",
      "****\n",
      "****\n"
     ]
    }
   ],
   "source": [
    "for i in range(5):\n",
    "    for j in range(i):\n",
    "        print('*',end = '')\n",
    "    print()\n",
    "    \n",
    "    print()"
   ]
  },
  {
   "cell_type": "code",
   "execution_count": 53,
   "id": "fbddbfa6",
   "metadata": {},
   "outputs": [],
   "source": [
    "j = 0"
   ]
  },
  {
   "cell_type": "code",
   "execution_count": 56,
   "id": "6b34c3f2",
   "metadata": {},
   "outputs": [
    {
     "name": "stdout",
     "output_type": "stream",
     "text": [
      "\n",
      "*1 *2 \n",
      "*1 *2 *2 *1 *2 *2 *3\n",
      "*1 *2 *2 *2 *1 *2 *2 *2 *1 *2 *2 *2 *3*3\n",
      "*1 *2 *2 *2 *2 *1 *2 *2 *2 *2 *1 *2 *2 *2 *2 *1 *2 *2 *2 *2 *3*3*3\n"
     ]
    }
   ],
   "source": [
    "for i in range(5):\n",
    "    for j in range(i):\n",
    "        print('*1',end = ' ')\n",
    "\n",
    "        for j in range(i):\n",
    "            print('*2',end = ' ')\n",
    "    \n",
    "    for k in range(j):\n",
    "        print('*3',end = '')\n",
    "    \n",
    "    print('')\n",
    "    j = 0"
   ]
  },
  {
   "cell_type": "code",
   "execution_count": 58,
   "id": "79e5077e",
   "metadata": {},
   "outputs": [
    {
     "name": "stdout",
     "output_type": "stream",
     "text": [
      "\n",
      "*1 *2 \n",
      "*1 *2 *2 *1 *2 *2 *3\n",
      "*1 *2 *2 *2 *1 *2 *2 *2 *1 *2 *2 *2 *3*3\n",
      "*1 *2 *2 *2 *2 *1 *2 *2 *2 *2 *1 *2 *2 *2 *2 *1 *2 *2 *2 *2 *3*3*3\n"
     ]
    }
   ],
   "source": [
    "j = 0\n",
    "for i in range(5):\n",
    "    for j in range(i):\n",
    "        print('*1',end = ' ')\n",
    "\n",
    "        for j in range(i):\n",
    "            print('*2',end = ' ')\n",
    "    \n",
    "    for k in range(j):\n",
    "        print('*3',end = '')\n",
    "    \n",
    "    print('')"
   ]
  },
  {
   "cell_type": "code",
   "execution_count": 62,
   "id": "95355749",
   "metadata": {},
   "outputs": [
    {
     "name": "stdout",
     "output_type": "stream",
     "text": [
      "5 * 4 * 3 * 2 * 1 * \n",
      "4 * 3 * 2 * 1 * \n",
      "3 * 2 * 1 * \n",
      "2 * 1 * \n",
      "1 * \n"
     ]
    }
   ],
   "source": [
    "rows = 5\n",
    "for i in range(0,rows):\n",
    "    for j in range(rows-i,0,-1):\n",
    "        print(j,'*' ,end = ' ')\n",
    "    print()"
   ]
  },
  {
   "cell_type": "code",
   "execution_count": null,
   "id": "0208f20f",
   "metadata": {},
   "outputs": [],
   "source": []
  },
  {
   "cell_type": "code",
   "execution_count": null,
   "id": "f6fb04a9",
   "metadata": {},
   "outputs": [],
   "source": []
  },
  {
   "cell_type": "code",
   "execution_count": null,
   "id": "6ab85a74",
   "metadata": {},
   "outputs": [],
   "source": []
  },
  {
   "cell_type": "code",
   "execution_count": 70,
   "id": "169e9dab",
   "metadata": {
    "scrolled": true
   },
   "outputs": [
    {
     "name": "stdout",
     "output_type": "stream",
     "text": [
      "\n",
      "* \n",
      "* * \n",
      "* * * \n",
      "* * * * \n",
      "* * * * * \n",
      "* * * * \n",
      "* * * \n",
      "* * \n",
      "* \n"
     ]
    }
   ],
   "source": [
    "for i in range(5):\n",
    "    for j in range(i):\n",
    "        print('*',end = ' ')\n",
    "    print()\n",
    "for i in range(5):\n",
    "    for j in range(5-i,0,-1):\n",
    "        print('*',end = ' ')\n",
    "    print()"
   ]
  },
  {
   "cell_type": "code",
   "execution_count": 82,
   "id": "0a89f35b",
   "metadata": {},
   "outputs": [
    {
     "name": "stdout",
     "output_type": "stream",
     "text": [
      "    *\n",
      "   ***\n",
      "  *****\n",
      " *******\n",
      "*********\n"
     ]
    }
   ],
   "source": [
    "\n",
    "for i in range(5):\n",
    "    for j in range(5-i,1,-1):\n",
    "        print(' ',end = '')\n",
    "    for j in range(i+1):\n",
    "        print('*',end = '')\n",
    "    for j in range(i):\n",
    "        print('*',end ='')\n",
    "    print()\n",
    "for i in  range()    \n"
   ]
  },
  {
   "cell_type": "code",
   "execution_count": 12,
   "id": "5219a47b",
   "metadata": {},
   "outputs": [
    {
     "name": "stdout",
     "output_type": "stream",
     "text": [
      "sum\titkumar\n",
      "\n",
      "hello\n"
     ]
    }
   ],
   "source": [
    "print('sum\\tit',end = '')\n",
    "print('kumar')\n",
    "print()\n",
    "print('hello')"
   ]
  },
  {
   "cell_type": "code",
   "execution_count": 13,
   "id": "33dc3553",
   "metadata": {},
   "outputs": [
    {
     "name": "stdout",
     "output_type": "stream",
     "text": [
      "sumit\\nkumar\n"
     ]
    }
   ],
   "source": [
    "print(r'sumit\\nkumar')"
   ]
  },
  {
   "cell_type": "code",
   "execution_count": 17,
   "id": "75b70b16",
   "metadata": {},
   "outputs": [
    {
     "name": "stdout",
     "output_type": "stream",
     "text": [
      "*****\n",
      "*****\n",
      "*****\n",
      "*****\n",
      "*****\n"
     ]
    }
   ],
   "source": [
    "for i in range(5):\n",
    "    for j in range(5):\n",
    "        print('*',end = '')\n",
    "    print()"
   ]
  },
  {
   "cell_type": "code",
   "execution_count": 24,
   "id": "b993d761",
   "metadata": {},
   "outputs": [
    {
     "name": "stdout",
     "output_type": "stream",
     "text": [
      "enter no of rows:5\n",
      "enter no of columns:5\n",
      "\n",
      "0\n",
      "01\n",
      "012\n",
      "0123\n"
     ]
    }
   ],
   "source": [
    "rows = int(input('enter no of rows:'))\n",
    "cols = int(input('enter no of columns:'))\n",
    "for i in range(rows):\n",
    "    for j in range(i):\n",
    "        print(j,end = '')\n",
    "    print()"
   ]
  },
  {
   "cell_type": "code",
   "execution_count": 23,
   "id": "f7689ab6",
   "metadata": {},
   "outputs": [
    {
     "name": "stdout",
     "output_type": "stream",
     "text": [
      "0\n",
      "1\n",
      "2\n",
      "3\n",
      "4\n"
     ]
    }
   ],
   "source": [
    "for i in range(5):\n",
    "    print(i)"
   ]
  },
  {
   "cell_type": "code",
   "execution_count": 29,
   "id": "044f57da",
   "metadata": {},
   "outputs": [
    {
     "name": "stdout",
     "output_type": "stream",
     "text": [
      "\n",
      "*\n",
      "**\n",
      "***\n",
      "****\n"
     ]
    }
   ],
   "source": [
    "for i in range(rows):\n",
    "    for j in range(i):\n",
    "        print('*',end = '')\n",
    "    print()"
   ]
  },
  {
   "cell_type": "code",
   "execution_count": 11,
   "id": "3fc7eb69",
   "metadata": {},
   "outputs": [
    {
     "name": "stdout",
     "output_type": "stream",
     "text": [
      "    *\n",
      "   ***\n",
      "  *****\n",
      " *******\n",
      "*********\n",
      "*********\n",
      " *******\n",
      "  *****\n",
      "   ***\n",
      "    *\n"
     ]
    }
   ],
   "source": [
    "for i in range(rows):\n",
    "    for j in range(rows-i-1):\n",
    "        print(' ',end = '')\n",
    "    for j in range(i+1):\n",
    "        print('*',end = '')\n",
    "    for j in range(i):\n",
    "        print('*',end = '')\n",
    "    print()    \n",
    "\n",
    "rows = 5\n",
    "for i in range(rows):\n",
    "    for j in range(i):\n",
    "        print(' ',end = '')\n",
    "    for j in range(rows - i):\n",
    "        print('*',end = '')\n",
    "    for j in range(rows - i-1):\n",
    "        print('*',end = '')\n",
    "\n",
    "    print()"
   ]
  },
  {
   "cell_type": "code",
   "execution_count": 10,
   "id": "d5601deb",
   "metadata": {},
   "outputs": [
    {
     "name": "stdout",
     "output_type": "stream",
     "text": [
      "*********\n",
      " *******\n",
      "  *****\n",
      "   ***\n",
      "    *\n"
     ]
    }
   ],
   "source": [
    "rows = 5\n",
    "for i in range(rows):\n",
    "    for j in range(i):\n",
    "        print(' ',end = '')\n",
    "    for j in range(rows - i):\n",
    "        print('*',end = '')\n",
    "    for j in range(rows - i-1):\n",
    "        print('*',end = '')\n",
    "\n",
    "    print()"
   ]
  },
  {
   "cell_type": "code",
   "execution_count": 12,
   "id": "e786f7bb",
   "metadata": {},
   "outputs": [
    {
     "name": "stdout",
     "output_type": "stream",
     "text": [
      "*********\n",
      " *******\n",
      "  *****\n",
      "   ***\n",
      "    *\n",
      "    *\n",
      "   ***\n",
      "  *****\n",
      " *******\n",
      "*********\n"
     ]
    }
   ],
   "source": [
    "rows = 5\n",
    "for i in range(rows):\n",
    "    for j in range(i):\n",
    "        print(' ',end = '')\n",
    "    for j in range(rows - i):\n",
    "        print('*',end = '')\n",
    "    for j in range(rows - i-1):\n",
    "        print('*',end = '')\n",
    "\n",
    "    print()\n",
    "for i in range(rows):\n",
    "    for j in range(rows-i-1):\n",
    "        print(' ',end = '')\n",
    "    for j in range(i+1):\n",
    "        print('*',end = '')\n",
    "    for j in range(i):\n",
    "        print('*',end = '')\n",
    "    print()    \n"
   ]
  },
  {
   "cell_type": "code",
   "execution_count": 16,
   "id": "a87cb5b9",
   "metadata": {},
   "outputs": [
    {
     "name": "stdout",
     "output_type": "stream",
     "text": [
      "*****\n",
      "*   *\n",
      "*   *\n",
      "*   *\n",
      "*****\n"
     ]
    }
   ],
   "source": [
    "for i in range(5):\n",
    "    for j in range(5):\n",
    "        if i ==0 or i == 5-1 or j == 0 or j ==5-1:\n",
    "            print('*',end = '')\n",
    "        else:\n",
    "            print(' ',end = '')\n",
    "    print()"
   ]
  },
  {
   "cell_type": "code",
   "execution_count": 8,
   "id": "81e7a2ec",
   "metadata": {},
   "outputs": [
    {
     "name": "stdout",
     "output_type": "stream",
     "text": [
      "*********\n",
      " *******\n",
      "  *****\n",
      "   ***\n",
      "    *\n"
     ]
    }
   ],
   "source": [
    "for i in range(5):\n",
    "    for j in range(i):\n",
    "        print(' ',end = '')\n",
    "    for j in range(5-i):\n",
    "        print('*',end = '')\n",
    "    for j in range(5-i-1):\n",
    "        print('*',end = '')\n",
    "    print()"
   ]
  },
  {
   "cell_type": "code",
   "execution_count": 13,
   "id": "36169732",
   "metadata": {},
   "outputs": [
    {
     "name": "stdout",
     "output_type": "stream",
     "text": [
      "*****\n",
      "*   *\n",
      "*   *\n",
      "*   *\n",
      "*****\n"
     ]
    }
   ],
   "source": [
    "for i in range(5):\n",
    "    for j in range(5):\n",
    "        if i == 0 or i == 5-1 or j == 0 or j ==5 - 1:\n",
    "            print('*',end = '')\n",
    "        else:\n",
    "            print(' ',end = '')\n",
    "    print()"
   ]
  },
  {
   "cell_type": "code",
   "execution_count": 16,
   "id": "54e3413a",
   "metadata": {},
   "outputs": [
    {
     "name": "stdout",
     "output_type": "stream",
     "text": [
      "*****\n",
      "*   *\n",
      "*   *\n",
      "*   *\n",
      "*****\n"
     ]
    }
   ],
   "source": []
  },
  {
   "cell_type": "code",
   "execution_count": null,
   "id": "a876cb63",
   "metadata": {},
   "outputs": [],
   "source": []
  },
  {
   "cell_type": "code",
   "execution_count": 20,
   "id": "49720461",
   "metadata": {},
   "outputs": [],
   "source": [
    "def test(a,b):\n",
    "    print('hi')\n",
    "    print('bye')"
   ]
  },
  {
   "cell_type": "code",
   "execution_count": 23,
   "id": "2b044342",
   "metadata": {},
   "outputs": [
    {
     "ename": "TypeError",
     "evalue": "test() takes 2 positional arguments but 3 were given",
     "output_type": "error",
     "traceback": [
      "\u001b[1;31m---------------------------------------------------------------------------\u001b[0m",
      "\u001b[1;31mTypeError\u001b[0m                                 Traceback (most recent call last)",
      "Input \u001b[1;32mIn [23]\u001b[0m, in \u001b[0;36m<cell line: 1>\u001b[1;34m()\u001b[0m\n\u001b[1;32m----> 1\u001b[0m \u001b[43mtest\u001b[49m\u001b[43m(\u001b[49m\u001b[38;5;241;43m1\u001b[39;49m\u001b[43m,\u001b[49m\u001b[38;5;241;43m2\u001b[39;49m\u001b[43m,\u001b[49m\u001b[38;5;241;43m3\u001b[39;49m\u001b[43m)\u001b[49m\n",
      "\u001b[1;31mTypeError\u001b[0m: test() takes 2 positional arguments but 3 were given"
     ]
    }
   ],
   "source": [
    "test(1,2,3)"
   ]
  },
  {
   "cell_type": "code",
   "execution_count": 19,
   "id": "7061af0c",
   "metadata": {},
   "outputs": [
    {
     "name": "stdout",
     "output_type": "stream",
     "text": [
      "hi\n",
      "bye\n"
     ]
    }
   ],
   "source": [
    "test()"
   ]
  },
  {
   "cell_type": "code",
   "execution_count": 24,
   "id": "c2d259ff",
   "metadata": {},
   "outputs": [
    {
     "name": "stdout",
     "output_type": "stream",
     "text": [
      "\n"
     ]
    }
   ],
   "source": [
    "print()"
   ]
  },
  {
   "cell_type": "code",
   "execution_count": null,
   "id": "b2ca1ff6",
   "metadata": {},
   "outputs": [],
   "source": []
  },
  {
   "cell_type": "code",
   "execution_count": 25,
   "id": "e004e009",
   "metadata": {},
   "outputs": [
    {
     "ename": "TypeError",
     "evalue": "len() takes exactly one argument (0 given)",
     "output_type": "error",
     "traceback": [
      "\u001b[1;31m---------------------------------------------------------------------------\u001b[0m",
      "\u001b[1;31mTypeError\u001b[0m                                 Traceback (most recent call last)",
      "Input \u001b[1;32mIn [25]\u001b[0m, in \u001b[0;36m<cell line: 1>\u001b[1;34m()\u001b[0m\n\u001b[1;32m----> 1\u001b[0m \u001b[38;5;28;43mlen\u001b[39;49m\u001b[43m(\u001b[49m\u001b[43m)\u001b[49m\n",
      "\u001b[1;31mTypeError\u001b[0m: len() takes exactly one argument (0 given)"
     ]
    }
   ],
   "source": [
    "len()"
   ]
  },
  {
   "cell_type": "code",
   "execution_count": null,
   "id": "598ca5a9",
   "metadata": {},
   "outputs": [],
   "source": []
  },
  {
   "cell_type": "code",
   "execution_count": null,
   "id": "c7c16b96",
   "metadata": {},
   "outputs": [],
   "source": []
  },
  {
   "cell_type": "code",
   "execution_count": 27,
   "id": "b5e8b547",
   "metadata": {},
   "outputs": [],
   "source": [
    "def hollow_pattern(row,col):\n",
    "    for i in range(row):\n",
    "        for j in range(col):\n",
    "            if i == 0 or i == row-1:\n",
    "                print('*',end = '')\n",
    "            elif j == 0 or j == col - 1:\n",
    "                print('*',end = '')\n",
    "            else:\n",
    "                print(' ',end = '')\n",
    "        print()"
   ]
  },
  {
   "cell_type": "code",
   "execution_count": null,
   "id": "4e0f441d",
   "metadata": {},
   "outputs": [],
   "source": []
  },
  {
   "cell_type": "code",
   "execution_count": 28,
   "id": "f02f0b94",
   "metadata": {},
   "outputs": [
    {
     "name": "stdout",
     "output_type": "stream",
     "text": [
      "********\n",
      "*      *\n",
      "********\n"
     ]
    }
   ],
   "source": [
    "hollow_pattern(3,8)"
   ]
  },
  {
   "cell_type": "code",
   "execution_count": 29,
   "id": "5a2f1fe0",
   "metadata": {},
   "outputs": [
    {
     "name": "stdout",
     "output_type": "stream",
     "text": [
      "**********\n",
      "*        *\n",
      "*        *\n",
      "*        *\n",
      "*        *\n",
      "*        *\n",
      "*        *\n",
      "*        *\n",
      "*        *\n",
      "**********\n"
     ]
    }
   ],
   "source": [
    "hollow_pattern(10,10)"
   ]
  },
  {
   "cell_type": "code",
   "execution_count": 30,
   "id": "436bd6b0",
   "metadata": {},
   "outputs": [
    {
     "name": "stdout",
     "output_type": "stream",
     "text": [
      "\n"
     ]
    }
   ],
   "source": [
    "print()"
   ]
  },
  {
   "cell_type": "code",
   "execution_count": 40,
   "id": "a4249daa",
   "metadata": {},
   "outputs": [],
   "source": [
    "def sum1(a,b):\n",
    "     print(a+b)"
   ]
  },
  {
   "cell_type": "code",
   "execution_count": null,
   "id": "a662ffb1",
   "metadata": {},
   "outputs": [],
   "source": []
  },
  {
   "cell_type": "code",
   "execution_count": 41,
   "id": "b59e1ce2",
   "metadata": {},
   "outputs": [
    {
     "name": "stdout",
     "output_type": "stream",
     "text": [
      "4\n"
     ]
    }
   ],
   "source": [
    "s = sum1(2,2)"
   ]
  },
  {
   "cell_type": "code",
   "execution_count": 42,
   "id": "826be281",
   "metadata": {},
   "outputs": [
    {
     "name": "stdout",
     "output_type": "stream",
     "text": [
      "None\n",
      "<class 'NoneType'>\n"
     ]
    }
   ],
   "source": [
    "print(s)\n",
    "print(type(s))"
   ]
  },
  {
   "cell_type": "code",
   "execution_count": null,
   "id": "be62e56c",
   "metadata": {},
   "outputs": [],
   "source": []
  }
 ],
 "metadata": {
  "kernelspec": {
   "display_name": "Python 3 (ipykernel)",
   "language": "python",
   "name": "python3"
  },
  "language_info": {
   "codemirror_mode": {
    "name": "ipython",
    "version": 3
   },
   "file_extension": ".py",
   "mimetype": "text/x-python",
   "name": "python",
   "nbconvert_exporter": "python",
   "pygments_lexer": "ipython3",
   "version": "3.11.3"
  }
 },
 "nbformat": 4,
 "nbformat_minor": 5
}
